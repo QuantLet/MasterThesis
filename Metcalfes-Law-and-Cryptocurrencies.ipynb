{
 "cells": [
  {
   "cell_type": "markdown",
   "id": "b48d4daf",
   "metadata": {},
   "source": [
    "<div style=\"text-align: center;\">\n",
    "    \n",
    "# Energy Consumption Of Ethereum Pre-Merge\n",
    "    \n",
    "</div>"
   ]
  },
  {
   "cell_type": "code",
   "execution_count": 340,
   "id": "5299c09a",
   "metadata": {},
   "outputs": [
    {
     "data": {
      "text/html": [
       "<div>\n",
       "<style scoped>\n",
       "    .dataframe tbody tr th:only-of-type {\n",
       "        vertical-align: middle;\n",
       "    }\n",
       "\n",
       "    .dataframe tbody tr th {\n",
       "        vertical-align: top;\n",
       "    }\n",
       "\n",
       "    .dataframe thead th {\n",
       "        text-align: right;\n",
       "    }\n",
       "</style>\n",
       "<table border=\"1\" class=\"dataframe\">\n",
       "  <thead>\n",
       "    <tr style=\"text-align: right;\">\n",
       "      <th></th>\n",
       "      <th>open</th>\n",
       "      <th>timestamp</th>\n",
       "    </tr>\n",
       "  </thead>\n",
       "  <tbody>\n",
       "    <tr>\n",
       "      <th>0</th>\n",
       "      <td>99.661780</td>\n",
       "      <td>2022-08-09T00:00:00.000Z</td>\n",
       "    </tr>\n",
       "    <tr>\n",
       "      <th>1</th>\n",
       "      <td>83.583900</td>\n",
       "      <td>2022-08-10T00:00:00.000Z</td>\n",
       "    </tr>\n",
       "    <tr>\n",
       "      <th>2</th>\n",
       "      <td>78.110896</td>\n",
       "      <td>2022-08-11T00:00:00.000Z</td>\n",
       "    </tr>\n",
       "    <tr>\n",
       "      <th>3</th>\n",
       "      <td>73.361224</td>\n",
       "      <td>2022-08-12T00:00:00.000Z</td>\n",
       "    </tr>\n",
       "    <tr>\n",
       "      <th>4</th>\n",
       "      <td>74.158757</td>\n",
       "      <td>2022-08-13T00:00:00.000Z</td>\n",
       "    </tr>\n",
       "    <tr>\n",
       "      <th>...</th>\n",
       "      <td>...</td>\n",
       "      <td>...</td>\n",
       "    </tr>\n",
       "    <tr>\n",
       "      <th>298</th>\n",
       "      <td>1.941332</td>\n",
       "      <td>2023-06-03T00:00:00.000Z</td>\n",
       "    </tr>\n",
       "    <tr>\n",
       "      <th>299</th>\n",
       "      <td>1.930251</td>\n",
       "      <td>2023-06-04T00:00:00.000Z</td>\n",
       "    </tr>\n",
       "    <tr>\n",
       "      <th>300</th>\n",
       "      <td>2.061882</td>\n",
       "      <td>2023-06-05T00:00:00.000Z</td>\n",
       "    </tr>\n",
       "    <tr>\n",
       "      <th>301</th>\n",
       "      <td>1.723397</td>\n",
       "      <td>2023-06-06T00:00:00.000Z</td>\n",
       "    </tr>\n",
       "    <tr>\n",
       "      <th>302</th>\n",
       "      <td>1.770803</td>\n",
       "      <td>2023-06-07T00:00:00.000Z</td>\n",
       "    </tr>\n",
       "  </tbody>\n",
       "</table>\n",
       "<p>303 rows × 2 columns</p>\n",
       "</div>"
      ],
      "text/plain": [
       "          open                 timestamp\n",
       "0    99.661780  2022-08-09T00:00:00.000Z\n",
       "1    83.583900  2022-08-10T00:00:00.000Z\n",
       "2    78.110896  2022-08-11T00:00:00.000Z\n",
       "3    73.361224  2022-08-12T00:00:00.000Z\n",
       "4    74.158757  2022-08-13T00:00:00.000Z\n",
       "..         ...                       ...\n",
       "298   1.941332  2023-06-03T00:00:00.000Z\n",
       "299   1.930251  2023-06-04T00:00:00.000Z\n",
       "300   2.061882  2023-06-05T00:00:00.000Z\n",
       "301   1.723397  2023-06-06T00:00:00.000Z\n",
       "302   1.770803  2023-06-07T00:00:00.000Z\n",
       "\n",
       "[303 rows x 2 columns]"
      ]
     },
     "execution_count": 340,
     "metadata": {},
     "output_type": "execute_result"
    }
   ],
   "source": [
    "import pandas as pd\n",
    "\n",
    "df2 = pd.read_excel('ETHW_ALL_graph_coinmarketcap.xlsx')\n",
    "df2"
   ]
  },
  {
   "cell_type": "code",
   "execution_count": 341,
   "id": "d33b7e3f",
   "metadata": {},
   "outputs": [],
   "source": [
    "index = pd.date_range(start='2022-08-09', end='2023-06-07', freq='D')"
   ]
  },
  {
   "cell_type": "code",
   "execution_count": 342,
   "id": "7b721291",
   "metadata": {},
   "outputs": [],
   "source": [
    "df2.index = index"
   ]
  },
  {
   "cell_type": "code",
   "execution_count": 343,
   "id": "ff331b3b",
   "metadata": {},
   "outputs": [],
   "source": [
    "df2 = df2[['open']]"
   ]
  },
  {
   "cell_type": "code",
   "execution_count": 344,
   "id": "ca5f1ed6",
   "metadata": {},
   "outputs": [
    {
     "data": {
      "text/html": [
       "<div>\n",
       "<style scoped>\n",
       "    .dataframe tbody tr th:only-of-type {\n",
       "        vertical-align: middle;\n",
       "    }\n",
       "\n",
       "    .dataframe tbody tr th {\n",
       "        vertical-align: top;\n",
       "    }\n",
       "\n",
       "    .dataframe thead th {\n",
       "        text-align: right;\n",
       "    }\n",
       "</style>\n",
       "<table border=\"1\" class=\"dataframe\">\n",
       "  <thead>\n",
       "    <tr style=\"text-align: right;\">\n",
       "      <th></th>\n",
       "      <th>open</th>\n",
       "    </tr>\n",
       "  </thead>\n",
       "  <tbody>\n",
       "    <tr>\n",
       "      <th>2022-08-09</th>\n",
       "      <td>99.661780</td>\n",
       "    </tr>\n",
       "    <tr>\n",
       "      <th>2022-08-10</th>\n",
       "      <td>83.583900</td>\n",
       "    </tr>\n",
       "    <tr>\n",
       "      <th>2022-08-11</th>\n",
       "      <td>78.110896</td>\n",
       "    </tr>\n",
       "    <tr>\n",
       "      <th>2022-08-12</th>\n",
       "      <td>73.361224</td>\n",
       "    </tr>\n",
       "    <tr>\n",
       "      <th>2022-08-13</th>\n",
       "      <td>74.158757</td>\n",
       "    </tr>\n",
       "    <tr>\n",
       "      <th>...</th>\n",
       "      <td>...</td>\n",
       "    </tr>\n",
       "    <tr>\n",
       "      <th>2023-06-03</th>\n",
       "      <td>1.941332</td>\n",
       "    </tr>\n",
       "    <tr>\n",
       "      <th>2023-06-04</th>\n",
       "      <td>1.930251</td>\n",
       "    </tr>\n",
       "    <tr>\n",
       "      <th>2023-06-05</th>\n",
       "      <td>2.061882</td>\n",
       "    </tr>\n",
       "    <tr>\n",
       "      <th>2023-06-06</th>\n",
       "      <td>1.723397</td>\n",
       "    </tr>\n",
       "    <tr>\n",
       "      <th>2023-06-07</th>\n",
       "      <td>1.770803</td>\n",
       "    </tr>\n",
       "  </tbody>\n",
       "</table>\n",
       "<p>303 rows × 1 columns</p>\n",
       "</div>"
      ],
      "text/plain": [
       "                 open\n",
       "2022-08-09  99.661780\n",
       "2022-08-10  83.583900\n",
       "2022-08-11  78.110896\n",
       "2022-08-12  73.361224\n",
       "2022-08-13  74.158757\n",
       "...               ...\n",
       "2023-06-03   1.941332\n",
       "2023-06-04   1.930251\n",
       "2023-06-05   2.061882\n",
       "2023-06-06   1.723397\n",
       "2023-06-07   1.770803\n",
       "\n",
       "[303 rows x 1 columns]"
      ]
     },
     "execution_count": 344,
     "metadata": {},
     "output_type": "execute_result"
    }
   ],
   "source": [
    "df2"
   ]
  },
  {
   "cell_type": "code",
   "execution_count": 345,
   "id": "04b2bb18",
   "metadata": {},
   "outputs": [
    {
     "data": {
      "text/html": [
       "<div>\n",
       "<style scoped>\n",
       "    .dataframe tbody tr th:only-of-type {\n",
       "        vertical-align: middle;\n",
       "    }\n",
       "\n",
       "    .dataframe tbody tr th {\n",
       "        vertical-align: top;\n",
       "    }\n",
       "\n",
       "    .dataframe thead th {\n",
       "        text-align: right;\n",
       "    }\n",
       "</style>\n",
       "<table border=\"1\" class=\"dataframe\">\n",
       "  <thead>\n",
       "    <tr style=\"text-align: right;\">\n",
       "      <th></th>\n",
       "      <th>Value</th>\n",
       "    </tr>\n",
       "  </thead>\n",
       "  <tbody>\n",
       "    <tr>\n",
       "      <th>2022-09-15</th>\n",
       "      <td>69.943455</td>\n",
       "    </tr>\n",
       "    <tr>\n",
       "      <th>2022-09-16</th>\n",
       "      <td>69.318655</td>\n",
       "    </tr>\n",
       "    <tr>\n",
       "      <th>2022-09-17</th>\n",
       "      <td>67.800092</td>\n",
       "    </tr>\n",
       "    <tr>\n",
       "      <th>2022-09-18</th>\n",
       "      <td>66.362962</td>\n",
       "    </tr>\n",
       "    <tr>\n",
       "      <th>2022-09-19</th>\n",
       "      <td>64.828495</td>\n",
       "    </tr>\n",
       "    <tr>\n",
       "      <th>...</th>\n",
       "      <td>...</td>\n",
       "    </tr>\n",
       "    <tr>\n",
       "      <th>2022-12-28</th>\n",
       "      <td>16.230195</td>\n",
       "    </tr>\n",
       "    <tr>\n",
       "      <th>2022-12-29</th>\n",
       "      <td>19.718534</td>\n",
       "    </tr>\n",
       "    <tr>\n",
       "      <th>2022-12-30</th>\n",
       "      <td>19.313183</td>\n",
       "    </tr>\n",
       "    <tr>\n",
       "      <th>2022-12-31</th>\n",
       "      <td>17.855489</td>\n",
       "    </tr>\n",
       "    <tr>\n",
       "      <th>2023-01-01</th>\n",
       "      <td>14.670383</td>\n",
       "    </tr>\n",
       "  </tbody>\n",
       "</table>\n",
       "<p>109 rows × 1 columns</p>\n",
       "</div>"
      ],
      "text/plain": [
       "                Value\n",
       "2022-09-15  69.943455\n",
       "2022-09-16  69.318655\n",
       "2022-09-17  67.800092\n",
       "2022-09-18  66.362962\n",
       "2022-09-19  64.828495\n",
       "...               ...\n",
       "2022-12-28  16.230195\n",
       "2022-12-29  19.718534\n",
       "2022-12-30  19.313183\n",
       "2022-12-31  17.855489\n",
       "2023-01-01  14.670383\n",
       "\n",
       "[109 rows x 1 columns]"
      ]
     },
     "execution_count": 345,
     "metadata": {},
     "output_type": "execute_result"
    }
   ],
   "source": [
    "import pandas as pd\n",
    "import numpy as np\n",
    "\n",
    "# Dates range from 15th September 2022 to 1st January 2023\n",
    "dates = pd.date_range(start=\"2022-09-15\", end=\"2023-01-01\")\n",
    "\n",
    "# Initialize the series with linear decrease from 68 to 30\n",
    "values = np.linspace(68, 30, len(dates))\n",
    "\n",
    "# Apply the specific changes you mentioned\n",
    "values[(dates >= \"2022-09-21\") & (dates < \"2022-09-29\")] = 30\n",
    "values[dates == \"2022-09-29\"] = 50\n",
    "\n",
    "# For dates after 29th September, apply logarithmic decay from 50 to 15\n",
    "decay_start_date = np.where(dates == \"2022-09-29\")[0][0]\n",
    "decay_end_value = 15\n",
    "decay_values = np.logspace(np.log10(50), np.log10(decay_end_value), num=len(dates) - decay_start_date)\n",
    "values[dates >= \"2022-09-29\"] = decay_values\n",
    "\n",
    "# Add some random noise to the time series\n",
    "values += np.random.normal(0, 2, len(dates))  # adjust the second argument to change the noise level\n",
    "\n",
    "# Create a dataframe\n",
    "df1 = pd.DataFrame(values, index=dates, columns=[\"Value\"])\n",
    "df1"
   ]
  },
  {
   "cell_type": "code",
   "execution_count": 346,
   "id": "b86548c2",
   "metadata": {},
   "outputs": [
    {
     "data": {
      "text/plain": [
       "<AxesSubplot:>"
      ]
     },
     "execution_count": 346,
     "metadata": {},
     "output_type": "execute_result"
    },
    {
     "data": {
      "image/png": "[encoded data removed]",
      "text/plain": [
       "<Figure size 640x480 with 1 Axes>"
      ]
     },
     "metadata": {},
     "output_type": "display_data"
    }
   ],
   "source": [
    "df1.plot()"
   ]
  },
  {
   "cell_type": "code",
   "execution_count": 347,
   "id": "b3f69a7d",
   "metadata": {},
   "outputs": [],
   "source": [
    "#import necessary packages\n",
    "import matplotlib.pyplot as plt\n",
    "import numpy as np\n",
    "import pandas as pd"
   ]
  },
  {
   "cell_type": "code",
   "execution_count": 348,
   "id": "c20d418e",
   "metadata": {},
   "outputs": [
    {
     "data": {
      "text/html": [
       "<div>\n",
       "<style scoped>\n",
       "    .dataframe tbody tr th:only-of-type {\n",
       "        vertical-align: middle;\n",
       "    }\n",
       "\n",
       "    .dataframe tbody tr th {\n",
       "        vertical-align: top;\n",
       "    }\n",
       "\n",
       "    .dataframe thead th {\n",
       "        text-align: right;\n",
       "    }\n",
       "</style>\n",
       "<table border=\"1\" class=\"dataframe\">\n",
       "  <thead>\n",
       "    <tr style=\"text-align: right;\">\n",
       "      <th></th>\n",
       "      <th>ETH / Tx per Second Cnt</th>\n",
       "      <th>ETH / Mean Tx Fee (native units)</th>\n",
       "      <th>ETH / Mean Hash Rate</th>\n",
       "      <th>ETH / USD Denominated Closing Price</th>\n",
       "      <th>ETC / Tx per Second Cnt</th>\n",
       "      <th>ETC / Mean Tx Fee (native units)</th>\n",
       "      <th>ETC / Mean Hash Rate</th>\n",
       "      <th>ETC / USD Denominated Closing Price</th>\n",
       "    </tr>\n",
       "    <tr>\n",
       "      <th>Time</th>\n",
       "      <th></th>\n",
       "      <th></th>\n",
       "      <th></th>\n",
       "      <th></th>\n",
       "      <th></th>\n",
       "      <th></th>\n",
       "      <th></th>\n",
       "      <th></th>\n",
       "    </tr>\n",
       "  </thead>\n",
       "  <tbody>\n",
       "    <tr>\n",
       "      <th>2016-07-25</th>\n",
       "      <td>0.634907</td>\n",
       "      <td>0.000719</td>\n",
       "      <td>4.051341</td>\n",
       "      <td>13.840295</td>\n",
       "      <td>0.294352</td>\n",
       "      <td>0.000907</td>\n",
       "      <td>0.213432</td>\n",
       "      <td>0.609005</td>\n",
       "    </tr>\n",
       "    <tr>\n",
       "      <th>2016-07-26</th>\n",
       "      <td>0.716782</td>\n",
       "      <td>0.000735</td>\n",
       "      <td>3.864700</td>\n",
       "      <td>11.963285</td>\n",
       "      <td>0.359028</td>\n",
       "      <td>0.000833</td>\n",
       "      <td>0.387970</td>\n",
       "      <td>2.550458</td>\n",
       "    </tr>\n",
       "    <tr>\n",
       "      <th>2016-07-27</th>\n",
       "      <td>0.613831</td>\n",
       "      <td>0.000721</td>\n",
       "      <td>3.672282</td>\n",
       "      <td>13.061564</td>\n",
       "      <td>0.394005</td>\n",
       "      <td>0.000788</td>\n",
       "      <td>0.566014</td>\n",
       "      <td>1.619800</td>\n",
       "    </tr>\n",
       "    <tr>\n",
       "      <th>2016-07-28</th>\n",
       "      <td>0.561979</td>\n",
       "      <td>0.001317</td>\n",
       "      <td>3.919557</td>\n",
       "      <td>12.888203</td>\n",
       "      <td>0.271377</td>\n",
       "      <td>0.000926</td>\n",
       "      <td>0.437650</td>\n",
       "      <td>1.727024</td>\n",
       "    </tr>\n",
       "    <tr>\n",
       "      <th>2016-07-29</th>\n",
       "      <td>0.546794</td>\n",
       "      <td>0.000967</td>\n",
       "      <td>3.816590</td>\n",
       "      <td>12.878013</td>\n",
       "      <td>0.212523</td>\n",
       "      <td>0.001070</td>\n",
       "      <td>0.502883</td>\n",
       "      <td>1.649872</td>\n",
       "    </tr>\n",
       "    <tr>\n",
       "      <th>...</th>\n",
       "      <td>...</td>\n",
       "      <td>...</td>\n",
       "      <td>...</td>\n",
       "      <td>...</td>\n",
       "      <td>...</td>\n",
       "      <td>...</td>\n",
       "      <td>...</td>\n",
       "      <td>...</td>\n",
       "    </tr>\n",
       "    <tr>\n",
       "      <th>2023-02-19</th>\n",
       "      <td>11.601840</td>\n",
       "      <td>0.003101</td>\n",
       "      <td>NaN</td>\n",
       "      <td>1683.207350</td>\n",
       "      <td>0.397234</td>\n",
       "      <td>0.000082</td>\n",
       "      <td>123.292721</td>\n",
       "      <td>22.564623</td>\n",
       "    </tr>\n",
       "    <tr>\n",
       "      <th>2023-02-20</th>\n",
       "      <td>12.264352</td>\n",
       "      <td>0.003729</td>\n",
       "      <td>NaN</td>\n",
       "      <td>1700.884873</td>\n",
       "      <td>0.452488</td>\n",
       "      <td>0.000096</td>\n",
       "      <td>123.727006</td>\n",
       "      <td>23.168527</td>\n",
       "    </tr>\n",
       "    <tr>\n",
       "      <th>2023-02-21</th>\n",
       "      <td>12.549653</td>\n",
       "      <td>0.003606</td>\n",
       "      <td>NaN</td>\n",
       "      <td>1655.094683</td>\n",
       "      <td>0.478322</td>\n",
       "      <td>0.000101</td>\n",
       "      <td>122.470624</td>\n",
       "      <td>22.742119</td>\n",
       "    </tr>\n",
       "    <tr>\n",
       "      <th>2023-02-22</th>\n",
       "      <td>12.509711</td>\n",
       "      <td>0.003953</td>\n",
       "      <td>NaN</td>\n",
       "      <td>1641.941195</td>\n",
       "      <td>0.447593</td>\n",
       "      <td>0.000090</td>\n",
       "      <td>125.802607</td>\n",
       "      <td>22.460283</td>\n",
       "    </tr>\n",
       "    <tr>\n",
       "      <th>2023-02-23</th>\n",
       "      <td>12.656678</td>\n",
       "      <td>0.004049</td>\n",
       "      <td>NaN</td>\n",
       "      <td>1649.392884</td>\n",
       "      <td>0.490671</td>\n",
       "      <td>0.000106</td>\n",
       "      <td>122.578418</td>\n",
       "      <td>22.084054</td>\n",
       "    </tr>\n",
       "  </tbody>\n",
       "</table>\n",
       "<p>2405 rows × 8 columns</p>\n",
       "</div>"
      ],
      "text/plain": [
       "            ETH / Tx per Second Cnt  ETH / Mean Tx Fee (native units)  \\\n",
       "Time                                                                    \n",
       "2016-07-25                 0.634907                          0.000719   \n",
       "2016-07-26                 0.716782                          0.000735   \n",
       "2016-07-27                 0.613831                          0.000721   \n",
       "2016-07-28                 0.561979                          0.001317   \n",
       "2016-07-29                 0.546794                          0.000967   \n",
       "...                             ...                               ...   \n",
       "2023-02-19                11.601840                          0.003101   \n",
       "2023-02-20                12.264352                          0.003729   \n",
       "2023-02-21                12.549653                          0.003606   \n",
       "2023-02-22                12.509711                          0.003953   \n",
       "2023-02-23                12.656678                          0.004049   \n",
       "\n",
       "            ETH / Mean Hash Rate  ETH / USD Denominated Closing Price  \\\n",
       "Time                                                                    \n",
       "2016-07-25              4.051341                            13.840295   \n",
       "2016-07-26              3.864700                            11.963285   \n",
       "2016-07-27              3.672282                            13.061564   \n",
       "2016-07-28              3.919557                            12.888203   \n",
       "2016-07-29              3.816590                            12.878013   \n",
       "...                          ...                                  ...   \n",
       "2023-02-19                   NaN                          1683.207350   \n",
       "2023-02-20                   NaN                          1700.884873   \n",
       "2023-02-21                   NaN                          1655.094683   \n",
       "2023-02-22                   NaN                          1641.941195   \n",
       "2023-02-23                   NaN                          1649.392884   \n",
       "\n",
       "            ETC / Tx per Second Cnt  ETC / Mean Tx Fee (native units)  \\\n",
       "Time                                                                    \n",
       "2016-07-25                 0.294352                          0.000907   \n",
       "2016-07-26                 0.359028                          0.000833   \n",
       "2016-07-27                 0.394005                          0.000788   \n",
       "2016-07-28                 0.271377                          0.000926   \n",
       "2016-07-29                 0.212523                          0.001070   \n",
       "...                             ...                               ...   \n",
       "2023-02-19                 0.397234                          0.000082   \n",
       "2023-02-20                 0.452488                          0.000096   \n",
       "2023-02-21                 0.478322                          0.000101   \n",
       "2023-02-22                 0.447593                          0.000090   \n",
       "2023-02-23                 0.490671                          0.000106   \n",
       "\n",
       "            ETC / Mean Hash Rate  ETC / USD Denominated Closing Price  \n",
       "Time                                                                   \n",
       "2016-07-25              0.213432                             0.609005  \n",
       "2016-07-26              0.387970                             2.550458  \n",
       "2016-07-27              0.566014                             1.619800  \n",
       "2016-07-28              0.437650                             1.727024  \n",
       "2016-07-29              0.502883                             1.649872  \n",
       "...                          ...                                  ...  \n",
       "2023-02-19            123.292721                            22.564623  \n",
       "2023-02-20            123.727006                            23.168527  \n",
       "2023-02-21            122.470624                            22.742119  \n",
       "2023-02-22            125.802607                            22.460283  \n",
       "2023-02-23            122.578418                            22.084054  \n",
       "\n",
       "[2405 rows x 8 columns]"
      ]
     },
     "execution_count": 348,
     "metadata": {},
     "output_type": "execute_result"
    }
   ],
   "source": [
    "#loading the data from an excel file\n",
    "df = pd.read_excel('Ethereum+.xlsx', index_col=0) \n",
    "df.index = pd.to_datetime(df.index)\n",
    "df"
   ]
  },
  {
   "cell_type": "code",
   "execution_count": 349,
   "id": "0055c038",
   "metadata": {},
   "outputs": [],
   "source": [
    "df = df.join(df1, how='outer') "
   ]
  },
  {
   "cell_type": "code",
   "execution_count": 350,
   "id": "40aa5f38",
   "metadata": {},
   "outputs": [],
   "source": [
    "df = df.join(df2, how='outer') "
   ]
  },
  {
   "cell_type": "code",
   "execution_count": 351,
   "id": "bde2166c",
   "metadata": {},
   "outputs": [
    {
     "data": {
      "text/html": [
       "<div>\n",
       "<style scoped>\n",
       "    .dataframe tbody tr th:only-of-type {\n",
       "        vertical-align: middle;\n",
       "    }\n",
       "\n",
       "    .dataframe tbody tr th {\n",
       "        vertical-align: top;\n",
       "    }\n",
       "\n",
       "    .dataframe thead th {\n",
       "        text-align: right;\n",
       "    }\n",
       "</style>\n",
       "<table border=\"1\" class=\"dataframe\">\n",
       "  <thead>\n",
       "    <tr style=\"text-align: right;\">\n",
       "      <th></th>\n",
       "      <th>ETH / Tx per Second Cnt</th>\n",
       "      <th>ETH / Mean Tx Fee (native units)</th>\n",
       "      <th>ETH / Mean Hash Rate</th>\n",
       "      <th>ETH / USD Denominated Closing Price</th>\n",
       "      <th>ETC / Tx per Second Cnt</th>\n",
       "      <th>ETC / Mean Tx Fee (native units)</th>\n",
       "      <th>ETC / Mean Hash Rate</th>\n",
       "      <th>ETC / USD Denominated Closing Price</th>\n",
       "      <th>Value</th>\n",
       "      <th>open</th>\n",
       "    </tr>\n",
       "  </thead>\n",
       "  <tbody>\n",
       "    <tr>\n",
       "      <th>2016-07-25</th>\n",
       "      <td>0.634907</td>\n",
       "      <td>0.000719</td>\n",
       "      <td>4.051341</td>\n",
       "      <td>13.840295</td>\n",
       "      <td>0.294352</td>\n",
       "      <td>0.000907</td>\n",
       "      <td>0.213432</td>\n",
       "      <td>0.609005</td>\n",
       "      <td>NaN</td>\n",
       "      <td>NaN</td>\n",
       "    </tr>\n",
       "    <tr>\n",
       "      <th>2016-07-26</th>\n",
       "      <td>0.716782</td>\n",
       "      <td>0.000735</td>\n",
       "      <td>3.864700</td>\n",
       "      <td>11.963285</td>\n",
       "      <td>0.359028</td>\n",
       "      <td>0.000833</td>\n",
       "      <td>0.387970</td>\n",
       "      <td>2.550458</td>\n",
       "      <td>NaN</td>\n",
       "      <td>NaN</td>\n",
       "    </tr>\n",
       "    <tr>\n",
       "      <th>2016-07-27</th>\n",
       "      <td>0.613831</td>\n",
       "      <td>0.000721</td>\n",
       "      <td>3.672282</td>\n",
       "      <td>13.061564</td>\n",
       "      <td>0.394005</td>\n",
       "      <td>0.000788</td>\n",
       "      <td>0.566014</td>\n",
       "      <td>1.619800</td>\n",
       "      <td>NaN</td>\n",
       "      <td>NaN</td>\n",
       "    </tr>\n",
       "    <tr>\n",
       "      <th>2016-07-28</th>\n",
       "      <td>0.561979</td>\n",
       "      <td>0.001317</td>\n",
       "      <td>3.919557</td>\n",
       "      <td>12.888203</td>\n",
       "      <td>0.271377</td>\n",
       "      <td>0.000926</td>\n",
       "      <td>0.437650</td>\n",
       "      <td>1.727024</td>\n",
       "      <td>NaN</td>\n",
       "      <td>NaN</td>\n",
       "    </tr>\n",
       "    <tr>\n",
       "      <th>2016-07-29</th>\n",
       "      <td>0.546794</td>\n",
       "      <td>0.000967</td>\n",
       "      <td>3.816590</td>\n",
       "      <td>12.878013</td>\n",
       "      <td>0.212523</td>\n",
       "      <td>0.001070</td>\n",
       "      <td>0.502883</td>\n",
       "      <td>1.649872</td>\n",
       "      <td>NaN</td>\n",
       "      <td>NaN</td>\n",
       "    </tr>\n",
       "    <tr>\n",
       "      <th>...</th>\n",
       "      <td>...</td>\n",
       "      <td>...</td>\n",
       "      <td>...</td>\n",
       "      <td>...</td>\n",
       "      <td>...</td>\n",
       "      <td>...</td>\n",
       "      <td>...</td>\n",
       "      <td>...</td>\n",
       "      <td>...</td>\n",
       "      <td>...</td>\n",
       "    </tr>\n",
       "    <tr>\n",
       "      <th>2023-06-03</th>\n",
       "      <td>NaN</td>\n",
       "      <td>NaN</td>\n",
       "      <td>NaN</td>\n",
       "      <td>NaN</td>\n",
       "      <td>NaN</td>\n",
       "      <td>NaN</td>\n",
       "      <td>NaN</td>\n",
       "      <td>NaN</td>\n",
       "      <td>NaN</td>\n",
       "      <td>1.941332</td>\n",
       "    </tr>\n",
       "    <tr>\n",
       "      <th>2023-06-04</th>\n",
       "      <td>NaN</td>\n",
       "      <td>NaN</td>\n",
       "      <td>NaN</td>\n",
       "      <td>NaN</td>\n",
       "      <td>NaN</td>\n",
       "      <td>NaN</td>\n",
       "      <td>NaN</td>\n",
       "      <td>NaN</td>\n",
       "      <td>NaN</td>\n",
       "      <td>1.930251</td>\n",
       "    </tr>\n",
       "    <tr>\n",
       "      <th>2023-06-05</th>\n",
       "      <td>NaN</td>\n",
       "      <td>NaN</td>\n",
       "      <td>NaN</td>\n",
       "      <td>NaN</td>\n",
       "      <td>NaN</td>\n",
       "      <td>NaN</td>\n",
       "      <td>NaN</td>\n",
       "      <td>NaN</td>\n",
       "      <td>NaN</td>\n",
       "      <td>2.061882</td>\n",
       "    </tr>\n",
       "    <tr>\n",
       "      <th>2023-06-06</th>\n",
       "      <td>NaN</td>\n",
       "      <td>NaN</td>\n",
       "      <td>NaN</td>\n",
       "      <td>NaN</td>\n",
       "      <td>NaN</td>\n",
       "      <td>NaN</td>\n",
       "      <td>NaN</td>\n",
       "      <td>NaN</td>\n",
       "      <td>NaN</td>\n",
       "      <td>1.723397</td>\n",
       "    </tr>\n",
       "    <tr>\n",
       "      <th>2023-06-07</th>\n",
       "      <td>NaN</td>\n",
       "      <td>NaN</td>\n",
       "      <td>NaN</td>\n",
       "      <td>NaN</td>\n",
       "      <td>NaN</td>\n",
       "      <td>NaN</td>\n",
       "      <td>NaN</td>\n",
       "      <td>NaN</td>\n",
       "      <td>NaN</td>\n",
       "      <td>1.770803</td>\n",
       "    </tr>\n",
       "  </tbody>\n",
       "</table>\n",
       "<p>2509 rows × 10 columns</p>\n",
       "</div>"
      ],
      "text/plain": [
       "            ETH / Tx per Second Cnt  ETH / Mean Tx Fee (native units)  \\\n",
       "2016-07-25                 0.634907                          0.000719   \n",
       "2016-07-26                 0.716782                          0.000735   \n",
       "2016-07-27                 0.613831                          0.000721   \n",
       "2016-07-28                 0.561979                          0.001317   \n",
       "2016-07-29                 0.546794                          0.000967   \n",
       "...                             ...                               ...   \n",
       "2023-06-03                      NaN                               NaN   \n",
       "2023-06-04                      NaN                               NaN   \n",
       "2023-06-05                      NaN                               NaN   \n",
       "2023-06-06                      NaN                               NaN   \n",
       "2023-06-07                      NaN                               NaN   \n",
       "\n",
       "            ETH / Mean Hash Rate  ETH / USD Denominated Closing Price  \\\n",
       "2016-07-25              4.051341                            13.840295   \n",
       "2016-07-26              3.864700                            11.963285   \n",
       "2016-07-27              3.672282                            13.061564   \n",
       "2016-07-28              3.919557                            12.888203   \n",
       "2016-07-29              3.816590                            12.878013   \n",
       "...                          ...                                  ...   \n",
       "2023-06-03                   NaN                                  NaN   \n",
       "2023-06-04                   NaN                                  NaN   \n",
       "2023-06-05                   NaN                                  NaN   \n",
       "2023-06-06                   NaN                                  NaN   \n",
       "2023-06-07                   NaN                                  NaN   \n",
       "\n",
       "            ETC / Tx per Second Cnt  ETC / Mean Tx Fee (native units)  \\\n",
       "2016-07-25                 0.294352                          0.000907   \n",
       "2016-07-26                 0.359028                          0.000833   \n",
       "2016-07-27                 0.394005                          0.000788   \n",
       "2016-07-28                 0.271377                          0.000926   \n",
       "2016-07-29                 0.212523                          0.001070   \n",
       "...                             ...                               ...   \n",
       "2023-06-03                      NaN                               NaN   \n",
       "2023-06-04                      NaN                               NaN   \n",
       "2023-06-05                      NaN                               NaN   \n",
       "2023-06-06                      NaN                               NaN   \n",
       "2023-06-07                      NaN                               NaN   \n",
       "\n",
       "            ETC / Mean Hash Rate  ETC / USD Denominated Closing Price  Value  \\\n",
       "2016-07-25              0.213432                             0.609005    NaN   \n",
       "2016-07-26              0.387970                             2.550458    NaN   \n",
       "2016-07-27              0.566014                             1.619800    NaN   \n",
       "2016-07-28              0.437650                             1.727024    NaN   \n",
       "2016-07-29              0.502883                             1.649872    NaN   \n",
       "...                          ...                                  ...    ...   \n",
       "2023-06-03                   NaN                                  NaN    NaN   \n",
       "2023-06-04                   NaN                                  NaN    NaN   \n",
       "2023-06-05                   NaN                                  NaN    NaN   \n",
       "2023-06-06                   NaN                                  NaN    NaN   \n",
       "2023-06-07                   NaN                                  NaN    NaN   \n",
       "\n",
       "                open  \n",
       "2016-07-25       NaN  \n",
       "2016-07-26       NaN  \n",
       "2016-07-27       NaN  \n",
       "2016-07-28       NaN  \n",
       "2016-07-29       NaN  \n",
       "...              ...  \n",
       "2023-06-03  1.941332  \n",
       "2023-06-04  1.930251  \n",
       "2023-06-05  2.061882  \n",
       "2023-06-06  1.723397  \n",
       "2023-06-07  1.770803  \n",
       "\n",
       "[2509 rows x 10 columns]"
      ]
     },
     "execution_count": 351,
     "metadata": {},
     "output_type": "execute_result"
    }
   ],
   "source": [
    "df"
   ]
  },
  {
   "cell_type": "code",
   "execution_count": 352,
   "id": "d96d8637",
   "metadata": {},
   "outputs": [],
   "source": [
    "df['ETH / Tx Fee per Second (native units)']= df['ETH / Mean Tx Fee (native units)'] * df['ETH / Tx per Second Cnt']\n",
    "df['ETH / Tx Fee per Second (USD)']= df['ETH / Tx Fee per Second (native units)']*df['ETH / USD Denominated Closing Price']\n",
    "#df['ETH / Tx Fee per Day (native units)'] = df['ETH / Tx Fee per Second (native units)']*24*60*60"
   ]
  },
  {
   "cell_type": "code",
   "execution_count": 353,
   "id": "e9a37687",
   "metadata": {},
   "outputs": [
    {
     "data": {
      "text/plain": [
       "Timestamp('2022-05-01 00:00:00')"
      ]
     },
     "execution_count": 353,
     "metadata": {},
     "output_type": "execute_result"
    }
   ],
   "source": [
    "max_index = df['ETH / Tx Fee per Second (USD)'].idxmax()\n",
    "max_index"
   ]
  },
  {
   "cell_type": "code",
   "execution_count": 354,
   "id": "5d984434",
   "metadata": {},
   "outputs": [],
   "source": [
    "from datetime import datetime\n",
    "# Assuming df is your DataFrame and 'column_name' is the name of your column\n",
    "index_value = datetime.strptime(\"2021-05-11 00:00:00\", \"%Y-%m-%d %H:%M:%S\")\n",
    "\n",
    "# Get the value before and after the specific index\n",
    "value_before = df.loc[max_index - pd.Timedelta(days=3), 'ETH / Tx Fee per Second (USD)']\n",
    "value_after = df.loc[max_index + pd.Timedelta(days=3), 'ETH / Tx Fee per Second (USD)']\n",
    "\n",
    "# Calculate the average\n",
    "average_value = (value_before + value_after) / 2\n",
    "\n",
    "# Replace the value at the specific index with the average value\n",
    "df.loc[max_index, 'ETH / Tx Fee per Second (USD)'] = average_value"
   ]
  },
  {
   "cell_type": "code",
   "execution_count": 355,
   "id": "68c0e66e",
   "metadata": {},
   "outputs": [],
   "source": [
    "#Block Reward\n",
    "df['ETH / Block Reward (native units)'] = 5\n",
    "cutoff_date = pd.to_datetime('2017-10-16')\n",
    "df.loc[df.index > cutoff_date, 'ETH / Block Reward (native units)'] = 3\n",
    "cutoff_date = pd.to_datetime('2019-02-28')\n",
    "df.loc[df.index > cutoff_date, 'ETH / Block Reward (native units)'] = 2"
   ]
  },
  {
   "cell_type": "code",
   "execution_count": 356,
   "id": "04762aa4",
   "metadata": {},
   "outputs": [],
   "source": [
    "df['ETH Block Reward per Second (USD)'] = (df['ETH / Block Reward (native units)'] * df['ETH / USD Denominated Closing Price'])/15"
   ]
  },
  {
   "cell_type": "code",
   "execution_count": 357,
   "id": "abfa63db",
   "metadata": {},
   "outputs": [],
   "source": [
    "df['ElectricityPrice'] = 0.05/3600000"
   ]
  },
  {
   "cell_type": "code",
   "execution_count": 358,
   "id": "9caea14b",
   "metadata": {},
   "outputs": [],
   "source": [
    "df['MaxEnergy'] = (df['ETH Block Reward per Second (USD)']+df['ETH / Tx Fee per Second (USD)'])/df['ElectricityPrice']"
   ]
  },
  {
   "cell_type": "code",
   "execution_count": 359,
   "id": "e7e3a0c5",
   "metadata": {},
   "outputs": [],
   "source": [
    "df['Digiconomist'] = ((df['ETH Block Reward per Second (USD)']+df['ETH / Tx Fee per Second (USD)'])*0.6)/df['ElectricityPrice']"
   ]
  },
  {
   "cell_type": "code",
   "execution_count": 360,
   "id": "b5b2a302",
   "metadata": {},
   "outputs": [],
   "source": [
    "df['BestGuessTopDown'] = ((df['ETH Block Reward per Second (USD)']+df['ETH / Tx Fee per Second (USD)'])*0.55)/(df['ElectricityPrice']*2*0.65)"
   ]
  },
  {
   "cell_type": "code",
   "execution_count": 361,
   "id": "d8aa7eb6",
   "metadata": {},
   "outputs": [],
   "source": [
    "df['BestGuessTopDown (GW)'] = df['BestGuessTopDown']/1000000000"
   ]
  },
  {
   "cell_type": "code",
   "execution_count": 362,
   "id": "71b0e500",
   "metadata": {},
   "outputs": [],
   "source": [
    "df['Digiconomist (GW)'] = df['Digiconomist']/1000000000"
   ]
  },
  {
   "cell_type": "code",
   "execution_count": 363,
   "id": "445c605f",
   "metadata": {},
   "outputs": [],
   "source": [
    "df['MaxEnergy (GW)'] = df['MaxEnergy']/1000000000"
   ]
  },
  {
   "cell_type": "code",
   "execution_count": 364,
   "id": "ca64195f",
   "metadata": {
    "scrolled": false
   },
   "outputs": [
    {
     "name": "stderr",
     "output_type": "stream",
     "text": [
      "/var/folders/_b/28jfj19121qf32rdzd8twc000000gn/T/ipykernel_17817/2946070092.py:22: MatplotlibDeprecationWarning: savefig() got unexpected keyword argument \"transparant\" which is no longer supported as of 3.3 and will become an error in 3.6\n",
      "  plt.savefig(\"TopDown.png\", dpi=300, transparant = True)\n"
     ]
    },
    {
     "data": {
      "image/png": "[encoded data removed]",
      "text/plain": [
       "<Figure size 1000x600 with 1 Axes>"
      ]
     },
     "metadata": {},
     "output_type": "display_data"
    }
   ],
   "source": [
    "import pandas as pd\n",
    "import matplotlib.pyplot as plt\n",
    "import seaborn as sns\n",
    "\n",
    "start_date = pd.Timestamp('2017-01-01')\n",
    "end_date = pd.Timestamp('2022-09-30')\n",
    "#sns.set(style=\"whitegrid\")\n",
    "ax = df.loc[start_date:end_date, ['MaxEnergy (GW)','Digiconomist (GW)','BestGuessTopDown (GW)']].plot(figsize=(10,6), alpha =0.5, legend = False)\n",
    "ax.patch.set_facecolor((0, 0, 0, 0))\n",
    "# add vertical line at Merge\n",
    "#ax.axvline(x='2022-09-15', color='green', linestyle='-', linewidth=2)\n",
    "#ax.set_yscale('log')\n",
    "\n",
    "legend = ax.legend()\n",
    "legend.remove()\n",
    "\n",
    "# set the labels and title\n",
    "ax.set_title('', fontsize=20, fontweight='bold')\n",
    "ax.set_xlabel('', fontsize=16)\n",
    "ax.set_ylabel('', fontsize=16)\n",
    "ax.tick_params(axis='both', labelsize=12)\n",
    "plt.savefig(\"TopDown.png\", dpi=300, transparant = True)\n",
    "plt.show()"
   ]
  },
  {
   "cell_type": "code",
   "execution_count": 365,
   "id": "d801752f",
   "metadata": {},
   "outputs": [],
   "source": [
    "df['Best Guess'] = (df['ETH / Mean Hash Rate'] / 0.2262046179789677)/1000"
   ]
  },
  {
   "cell_type": "code",
   "execution_count": 366,
   "id": "758591f5",
   "metadata": {},
   "outputs": [
    {
     "data": {
      "text/plain": [
       "2022-09-14    10.671122\n",
       "Name: Digiconomist (GW), dtype: float64"
      ]
     },
     "execution_count": 366,
     "metadata": {},
     "output_type": "execute_result"
    }
   ],
   "source": [
    "value = df.loc[df.index == '2022-09-14', 'Digiconomist (GW)']\n",
    "value"
   ]
  },
  {
   "cell_type": "code",
   "execution_count": 367,
   "id": "5f09ab9f",
   "metadata": {},
   "outputs": [
    {
     "data": {
      "text/plain": [
       "2022-09-14    7.524509\n",
       "Name: BestGuessTopDown (GW), dtype: float64"
      ]
     },
     "execution_count": 367,
     "metadata": {},
     "output_type": "execute_result"
    }
   ],
   "source": [
    "value = df.loc[df.index == '2022-09-14', 'BestGuessTopDown (GW)']\n",
    "value"
   ]
  },
  {
   "cell_type": "code",
   "execution_count": 368,
   "id": "1600c0b3",
   "metadata": {},
   "outputs": [
    {
     "data": {
      "text/plain": [
       "2022-09-14    17.785203\n",
       "Name: MaxEnergy (GW), dtype: float64"
      ]
     },
     "execution_count": 368,
     "metadata": {},
     "output_type": "execute_result"
    }
   ],
   "source": [
    "value = df.loc[df.index == '2022-09-14', 'MaxEnergy (GW)']\n",
    "value"
   ]
  },
  {
   "cell_type": "code",
   "execution_count": 369,
   "id": "70a0225f",
   "metadata": {},
   "outputs": [],
   "source": [
    "df['ETH / Mean Hash Rate (TH/s)']= df['ETH / Mean Hash Rate']"
   ]
  },
  {
   "cell_type": "code",
   "execution_count": 370,
   "id": "a8e52b83",
   "metadata": {},
   "outputs": [
    {
     "data": {
      "image/png": "[encoded data removed]",
      "text/plain": [
       "<Figure size 1000x600 with 1 Axes>"
      ]
     },
     "metadata": {},
     "output_type": "display_data"
    }
   ],
   "source": [
    "import pandas as pd\n",
    "import matplotlib.pyplot as plt\n",
    "import seaborn as sns\n",
    "\n",
    "start_date = pd.Timestamp('2017-01-01')\n",
    "end_date = pd.Timestamp('2022-12-31')\n",
    "#sns.set(style=\"whitegrid\")\n",
    "\n",
    "ax = df.loc[start_date:end_date, ['ETH / Mean Hash Rate','ETC / Mean Hash Rate']].plot(figsize=(10,6), alpha =0.5)\n",
    "ax.patch.set_facecolor((0, 0, 0, 0))\n",
    "\n",
    "legend = ax.legend()\n",
    "legend.remove()\n",
    "\n",
    "\n",
    "# set the labels and title\n",
    "ax.set_title('', fontsize=20, fontweight='bold')\n",
    "ax.set_xlabel('', fontsize=16)\n",
    "ax.set_ylabel('', fontsize=16)\n",
    "ax.tick_params(axis='both', labelsize=12)\n",
    "plt.savefig(\"HashRateETH.png\")\n",
    "plt.show()"
   ]
  },
  {
   "cell_type": "code",
   "execution_count": 371,
   "id": "8ffccd55",
   "metadata": {},
   "outputs": [
    {
     "data": {
      "text/plain": [
       "54.78771655"
      ]
     },
     "execution_count": 371,
     "metadata": {},
     "output_type": "execute_result"
    }
   ],
   "source": [
    "df.loc['2022-12-31', 'ETC / Mean Hash Rate'] - df.loc['2022-09-14', 'ETC / Mean Hash Rate']"
   ]
  },
  {
   "cell_type": "code",
   "execution_count": 372,
   "id": "10cc69ce",
   "metadata": {},
   "outputs": [],
   "source": [
    "df['Jasminer'] = 2.166666667\n",
    "df['Nvidia'] = 0.7285714286\n",
    "df['McDonald'] = 0.38\n",
    "df['Best'] = 0.2"
   ]
  },
  {
   "cell_type": "code",
   "execution_count": 373,
   "id": "3fda4d20",
   "metadata": {},
   "outputs": [],
   "source": [
    "df['JasminerEnergy (GW)'] = df['ETH / Mean Hash Rate (TH/s)']/(df['Jasminer'])*1000000/1000000000\n",
    "df['Nvidia (GW)'] = df['ETH / Mean Hash Rate (TH/s)']/(df['Nvidia'])*1000000/1000000000\n",
    "df['McDonald (GW)'] = df['ETH / Mean Hash Rate (TH/s)']/(df['McDonald'])*1000000/1000000000\n",
    "df['Best (GW)'] = df['ETH / Mean Hash Rate (TH/s)']/(df['Best'])*1000000/1000000000"
   ]
  },
  {
   "cell_type": "code",
   "execution_count": 374,
   "id": "573c1a8c",
   "metadata": {},
   "outputs": [
    {
     "data": {
      "image/png": "[encoded data removed]",
      "text/plain": [
       "<Figure size 1000x600 with 1 Axes>"
      ]
     },
     "metadata": {},
     "output_type": "display_data"
    }
   ],
   "source": [
    "import pandas as pd\n",
    "import matplotlib.pyplot as plt\n",
    "import seaborn as sns\n",
    "\n",
    "start_date = pd.Timestamp('2022-07-01')\n",
    "end_date = pd.Timestamp('2022-09-14')\n",
    "#sns.set(style=\"whitegrid\")\n",
    "\n",
    "ax = df.loc[start_date:end_date, ['Best (GW)','McDonald (GW)','Digiconomist (GW)']].plot(figsize=(10,6), alpha =0.5)\n",
    "ax.patch.set_facecolor((0, 0, 0, 0))\n",
    "\n",
    "legend = ax.legend()\n",
    "legend.remove()\n",
    "\n",
    "\n",
    "# set the labels and title\n",
    "ax.set_title('', fontsize=20, fontweight='bold')\n",
    "ax.set_xlabel('', fontsize=16)\n",
    "ax.set_ylabel('', fontsize=16)\n",
    "ax.tick_params(axis='both', labelsize=12)\n",
    "plt.savefig(\"AllEstimates.png\", transparent=True)\n",
    "plt.show()"
   ]
  },
  {
   "cell_type": "code",
   "execution_count": 375,
   "id": "65d0e4c6",
   "metadata": {},
   "outputs": [
    {
     "data": {
      "image/png": "[encoded data removed]",
      "text/plain": [
       "<Figure size 1000x600 with 1 Axes>"
      ]
     },
     "metadata": {},
     "output_type": "display_data"
    }
   ],
   "source": [
    "import pandas as pd\n",
    "import matplotlib.pyplot as plt\n",
    "import seaborn as sns\n",
    "\n",
    "start_date = pd.Timestamp('2017-01-01')\n",
    "end_date = pd.Timestamp('2023-01-01')\n",
    "#sns.set(style=\"whitegrid\")\n",
    "\n",
    "ax = df.loc[start_date:end_date, ['ETH / Mean Hash Rate','ETC / Mean Hash Rate','Value' ]].plot(figsize=(10,6), alpha =0.5, )\n",
    "ax.patch.set_facecolor((0, 0, 0, 0))\n",
    "ax.set_yscale('log')\n",
    "legend = ax.legend()\n",
    "legend.remove()\n",
    "\n",
    "\n",
    "# set the labels and title\n",
    "ax.set_title('', fontsize=20, fontweight='bold')\n",
    "ax.set_xlabel('', fontsize=16)\n",
    "ax.set_ylabel('', fontsize=16)\n",
    "ax.tick_params(axis='both', labelsize=12)\n",
    "plt.savefig(\"HashRate.png\", transparent=True)\n",
    "plt.show()"
   ]
  },
  {
   "cell_type": "code",
   "execution_count": 399,
   "id": "ce7feb21",
   "metadata": {},
   "outputs": [
    {
     "data": {
      "image/png": "[encoded data removed]",
      "text/plain": [
       "<Figure size 1000x600 with 1 Axes>"
      ]
     },
     "metadata": {},
     "output_type": "display_data"
    }
   ],
   "source": [
    "import pandas as pd\n",
    "import matplotlib.pyplot as plt\n",
    "import seaborn as sns\n",
    "\n",
    "start_date = pd.Timestamp('2022-01-01')\n",
    "end_date = pd.Timestamp('2023-02-03')\n",
    "#sns.set(style=\"whitegrid\")\n",
    "\n",
    "ax = df.loc[start_date:end_date, ['ETCMaxEnergy','ETCMinEnergy','ETCBestEnergy' ]].plot(figsize=(10,6), alpha =0.5 )\n",
    "ax.patch.set_facecolor((0, 0, 0, 0))\n",
    "legend = ax.legend()\n",
    "legend.remove()\n",
    "\n",
    "\n",
    "# set the labels and title\n",
    "ax.set_title('', fontsize=20, fontweight='bold')\n",
    "ax.set_xlabel('', fontsize=16)\n",
    "ax.set_ylabel('', fontsize=16)\n",
    "ax.tick_params(axis='both', labelsize=12)\n",
    "plt.savefig(\"ETCEnergy.png\", transparent=True)\n",
    "plt.show()"
   ]
  },
  {
   "cell_type": "code",
   "execution_count": 377,
   "id": "cd04ac97",
   "metadata": {},
   "outputs": [],
   "source": [
    "#Profitability Threshold ETC\n",
    "df['ETH Profatibilty Threshold [J/Hash]'] = ((df['ETH Block Reward per Second (USD)']+df['ETH / Tx Fee per Second (USD)'])) /(df['ETH / Mean Hash Rate']*1000000000000*df['ElectricityPrice'])\n",
    "cutoff_date = pd.to_datetime('2022-09-14')\n",
    "df.loc[df.index > cutoff_date, 'ETH Profatibilty Threshold [J/Hash]'] = 0\n",
    "df['ETH Profatibilty Threshold [Hash/J]'] = 1/df['ETH Profatibilty Threshold [J/Hash]']\n",
    "df['ETH Profatibilty Threshold [MHash/J]'] = df['ETH Profatibilty Threshold [Hash/J]']/1000000\n",
    "df['ETH Profatibilty Threshold [MHash/J]'] = df['ETH Profatibilty Threshold [MHash/J]'] /0.8"
   ]
  },
  {
   "cell_type": "code",
   "execution_count": 378,
   "id": "fac9adec",
   "metadata": {},
   "outputs": [],
   "source": [
    "df['ETHPOW Profatibilty Threshold [J/Hash]'] = ((df['ETH / Block Reward (native units)']*df['open']/15)) /(df['Value']*1000000000000*df['ElectricityPrice'])\n",
    "df['ETHPOW Profatibilty Threshold [Hash/J]'] = 1/df['ETHPOW Profatibilty Threshold [J/Hash]']\n",
    "df['ETHPOW Profatibilty Threshold [MHash/J]'] = df['ETHPOW Profatibilty Threshold [Hash/J]']/1000000\n",
    "df['ETHPOW Profatibilty Threshold [MHash/J]'] = df['ETHPOW Profatibilty Threshold [MHash/J]']"
   ]
  },
  {
   "cell_type": "code",
   "execution_count": 379,
   "id": "c7b0cf86",
   "metadata": {},
   "outputs": [],
   "source": [
    "#Block Reward\n",
    "df['ETC / Block Reward (native units)'] = 5\n",
    "cutoff_date = pd.to_datetime('2017-10-16')\n",
    "df.loc[df.index > cutoff_date, 'ETC / Block Reward (native units)'] = 3\n",
    "cutoff_date = pd.to_datetime('2019-02-28')\n",
    "df.loc[df.index > cutoff_date, 'ETC / Block Reward (native units)'] = 2"
   ]
  },
  {
   "cell_type": "code",
   "execution_count": 380,
   "id": "2f85a9f0",
   "metadata": {},
   "outputs": [],
   "source": [
    "#Profitability Threshold ETC\n",
    "df['ETC Profatibilty Threshold [J/Hash]'] = ((df['ETC / Block Reward (native units)']*df['ETC / USD Denominated Closing Price']/15)) /(df['ETC / Mean Hash Rate']*1000000000000*df['ElectricityPrice'])\n",
    "df['ETC Profatibilty Threshold [Hash/J]'] = 1/df['ETC Profatibilty Threshold [J/Hash]']\n",
    "df['ETC Profatibilty Threshold [MHash/J]'] = df['ETC Profatibilty Threshold [Hash/J]']/1000000\n",
    "df['ETC Profatibilty Threshold [MHash/J]'] = df['ETC Profatibilty Threshold [MHash/J]'] /0.8"
   ]
  },
  {
   "cell_type": "code",
   "execution_count": 381,
   "id": "e50b9a1a",
   "metadata": {},
   "outputs": [
    {
     "name": "stderr",
     "output_type": "stream",
     "text": [
      "/var/folders/_b/28jfj19121qf32rdzd8twc000000gn/T/ipykernel_17817/710424429.py:21: MatplotlibDeprecationWarning: savefig() got unexpected keyword argument \"transparant\" which is no longer supported as of 3.3 and will become an error in 3.6\n",
      "  plt.savefig(\"Thresholds.png\", transparant = True)\n"
     ]
    },
    {
     "data": {
      "image/png": "[encoded data removed]",
      "text/plain": [
       "<Figure size 1000x600 with 1 Axes>"
      ]
     },
     "metadata": {},
     "output_type": "display_data"
    }
   ],
   "source": [
    "import pandas as pd\n",
    "import matplotlib.pyplot as plt\n",
    "import seaborn as sns\n",
    "\n",
    "start_date = pd.Timestamp('2022-01-01')\n",
    "end_date = pd.Timestamp('2022-12-31')\n",
    "#sns.set(style=\"whitegrid\")\n",
    "\n",
    "ax = df.loc[start_date:end_date, ['ETHPOW Profatibilty Threshold [MHash/J]','ETH Profatibilty Threshold [MHash/J]','ETC Profatibilty Threshold [MHash/J]']].plot(figsize=(10,6), alpha =0.5)\n",
    "ax.patch.set_facecolor((0, 0, 0, 0))\n",
    "\n",
    "legend = ax.legend()\n",
    "legend.remove()\n",
    "\n",
    "\n",
    "# set the labels and title\n",
    "ax.set_title('', fontsize=20, fontweight='bold')\n",
    "ax.set_xlabel('', fontsize=16)\n",
    "ax.set_ylabel('', fontsize=16)\n",
    "ax.tick_params(axis='both', labelsize=12)\n",
    "plt.savefig(\"Thresholds.png\", transparant = True)\n",
    "plt.show()"
   ]
  },
  {
   "cell_type": "code",
   "execution_count": 386,
   "id": "95f479f3",
   "metadata": {},
   "outputs": [
    {
     "name": "stderr",
     "output_type": "stream",
     "text": [
      "/var/folders/_b/28jfj19121qf32rdzd8twc000000gn/T/ipykernel_17817/1737669494.py:21: MatplotlibDeprecationWarning: savefig() got unexpected keyword argument \"transparant\" which is no longer supported as of 3.3 and will become an error in 3.6\n",
      "  plt.savefig(\"ETC Energy Consumption.png\", transparant = True)\n"
     ]
    },
    {
     "data": {
      "image/png": "[encoded data removed]",
      "text/plain": [
       "<Figure size 1000x600 with 1 Axes>"
      ]
     },
     "metadata": {},
     "output_type": "display_data"
    }
   ],
   "source": [
    "import pandas as pd\n",
    "import matplotlib.pyplot as plt\n",
    "import seaborn as sns\n",
    "\n",
    "start_date = pd.Timestamp('2022-01-01')\n",
    "end_date = pd.Timestamp('2023-02-23')\n",
    "#sns.set(style=\"whitegrid\")\n",
    "\n",
    "ax = df.loc[start_date:end_date, ['ETCMaxEnergy','ETCMinEnergy','ETCBestEnergy']].plot(figsize=(10,6), alpha =0.5)\n",
    "ax.patch.set_facecolor((0, 0, 0, 0))\n",
    "\n",
    "legend = ax.legend()\n",
    "legend.remove()\n",
    "\n",
    "\n",
    "# set the labels and title\n",
    "ax.set_title('', fontsize=20, fontweight='bold')\n",
    "ax.set_xlabel('', fontsize=16)\n",
    "ax.set_ylabel('', fontsize=16)\n",
    "ax.tick_params(axis='both', labelsize=12)\n",
    "plt.savefig(\"ETC Energy Consumption.png\", transparant = True)\n",
    "plt.show()"
   ]
  },
  {
   "cell_type": "code",
   "execution_count": 396,
   "id": "261788ae",
   "metadata": {},
   "outputs": [],
   "source": [
    "df['ETCMaxEnergy']= df['ETC / Mean Hash Rate']*1000000/df['ETC Profatibilty Threshold [MHash/J]']/1000000000"
   ]
  },
  {
   "cell_type": "code",
   "execution_count": 397,
   "id": "8da4e822",
   "metadata": {},
   "outputs": [],
   "source": [
    "df['ETCMinEnergy']= df['ETC / Mean Hash Rate']*1000000/2.166/1000000000"
   ]
  },
  {
   "cell_type": "code",
   "execution_count": 398,
   "id": "17211fda",
   "metadata": {},
   "outputs": [],
   "source": [
    "df['ETCBestEnergy'] = df['ETC / Mean Hash Rate']*1000000/1.62/1000000000"
   ]
  },
  {
   "cell_type": "code",
   "execution_count": 63,
   "id": "4881c762",
   "metadata": {},
   "outputs": [
    {
     "data": {
      "text/plain": [
       "0.9925380940175279"
      ]
     },
     "execution_count": 63,
     "metadata": {},
     "output_type": "execute_result"
    }
   ],
   "source": [
    "value = df.loc['2022-12-31', 'ETC Profatibilty Threshold [MHash/J]']\n",
    "value"
   ]
  },
  {
   "cell_type": "code",
   "execution_count": 33,
   "id": "557341a4",
   "metadata": {},
   "outputs": [
    {
     "name": "stdout",
     "output_type": "stream",
     "text": [
      "Group 1:\n",
      "Estimated quantities: [134192.54553556  16516.67573032  16507.00897799  12544.96318716\n",
      "   7051.0837864   12554.63000995  12544.96325806  23590.69580935\n",
      "  16507.00897844  15373.68224038  19042.69578858  19052.36268184\n",
      "   8885.56140647  33712.46349623   8885.61632082  10710.42895525\n",
      "  11843.86552111  13539.0929532   19052.36268184  15383.29407837\n",
      "  13548.81461943  15373.62725601  22875.14065641  15373.68216991\n",
      "   6465.13487277 134192.54553556  19052.36268184  52197.11972457\n",
      "  54039.67791956   8875.89465459  23590.69580935  12554.68499476\n",
      "  26509.65722331  63360.1852742   13539.09295276  17217.8832229\n",
      "  18341.54327866  10710.42895525  12544.96325762  12544.96325762\n",
      "  16367.68639091   9879.69110205   9879.74601595  17208.16155624\n",
      "  10009.27637657  16507.00897799  16377.47861737   8875.89465415\n",
      "  12545.0181015   11704.61363475  11843.81060677  17208.16155668\n",
      "  11853.60290414  16377.47861737  10710.42895481  11714.28031661\n",
      "  10019.06860348  10710.42888479  18351.2648753   12554.68492474\n",
      "   5346.1486382   12554.63000995   5346.20355583]\n",
      "Group 2:\n",
      "Estimated quantities: [56935.81179387 57011.88216249 56950.15202829 77644.23133063\n",
      " 56921.87794026 56964.4922528  57883.47592675 56926.44109488\n",
      " 55537.78018271 56935.81179387 56935.81179387 55363.36787315\n",
      " 57002.5114635  57883.47592675 56945.46668261 57096.88773676\n",
      " 76897.46436524 57011.88216249 57026.22238446 57026.22238192\n",
      " 56997.94830888 56926.44109488 57006.47714617 57002.5096237\n",
      " 58624.66518942 57402.80466769 57455.2881338  57011.88216249\n",
      " 57082.5474998  56185.48552916 57082.54566    57082.54566\n",
      " 57020.93956175 57087.35504163 57087.76324982 56959.92909564\n",
      " 56213.56849864]\n",
      "Group 3:\n",
      "Estimated quantities: [7083.37197837 6064.73080074 6330.08746699 5954.63354252 6552.81189446\n",
      " 7121.90815364 6358.00408257 6196.47434878 6158.74505842 6434.67392933\n",
      " 6394.26299472 6404.78158876 6851.3441079 ]\n"
     ]
    }
   ],
   "source": [
    "import pandas as pd\n",
    "import numpy as np\n",
    "from scipy.optimize import minimize\n",
    "\n",
    "# Define file names for the Excel files for each group\n",
    "file_names = ['group1.xlsx', 'group2.xlsx', 'group3.xlsx']\n",
    "\n",
    "# Define total hash rates for each group\n",
    "total_hash_rates = [200, 540, 85]  # Replace with the correct values in TH/s\n",
    "\n",
    "# Define the prior means\n",
    "prior_means = np.array([ 6350.,   78475.,   78475.,  103465.,  561939.,  100444.,  103465.,   71271.,\n",
    "                        81924.,   84767.,   58484.,   57868.,  230378.,   30350.,  228603.,  148796.,\n",
    "                        122844.,  114462.,   56690.,   85708.,  107494.,   86684.,   53614.,   85092.,\n",
    "                        132276.,    6350.,   56893.,   17637.,   16709.,  253381.,   71264.,   97658.,\n",
    "                        42690.,   14431.,  111609.,   66800.,   64466.,  148575.,  101959.,  101380.,\n",
    "                        96965.,  309055.,  265280.,   69503.,  198612.,   79366.,   90703.,  241843.,\n",
    "                        100565.,  158958.,  126985.,   70788.,  122520.,   90296.,  144301.,  158731.,\n",
    "                        176367.,  147656.,   64758.,   98346., 1947610.,  101588., 1688619.,   17709.,\n",
    "                        35417.,    2952.,    4570.,    6811.,   25298.,   23612.,   54488.,    1968.,\n",
    "                        108975.,  13622.,    2834.,   15741.,  500802.,   90342.,  446216.,  451502.,\n",
    "                        163251.,  269672.,    9730.,  178379.,  129408.,  634052.,  238413.,  138864.,\n",
    "                        143085.,  310362.,  495977.,  356924.,  294009.,    5614.,   19460.,   20271.,\n",
    "                        242395.,  227756.,  155926.,  231001.,  236121.,  175839.,  236214.,  149111.,\n",
    "                        120456.,   85851.,   29190.,  360771.,  360771.,  475658., 2583400.,  461767.,\n",
    "                        475658.,  327652.])\n",
    "\n",
    "# Initialize an empty list to store approximations for each group\n",
    "results = []\n",
    "\n",
    "for file_name, total_hash_rate, prior_mean in zip(file_names, total_hash_rates, prior_means):\n",
    "    # Load data from the Excel file\n",
    "    df = pd.read_excel(file_name)\n",
    "\n",
    "    # Extract the hash rates for each type of hardware\n",
    "    hash_rates = df['Hashing power (Mh/s)'].values\n",
    "\n",
    "    # Objective function: negative log-likelihood\n",
    "    def nll(n):\n",
    "        pred_hash_rate = np.sum(n * hash_rates)  # n_i * h_i for each hardware\n",
    "        mse = (total_hash_rate * 1e6 - pred_hash_rate)**2  # mean squared error\n",
    "        return mse\n",
    "\n",
    "    # Initial guess: use the prior mean for the quantity\n",
    "    init_n = np.full(len(hash_rates), prior_mean)\n",
    "\n",
    "    # Bounds: quantity must be >= 0\n",
    "    bounds = [(0, None) for _ in range(len(hash_rates))]\n",
    "\n",
    "    # Run the optimizer\n",
    "    result = minimize(nll, init_n, bounds=bounds)\n",
    "\n",
    "    # Append the result to the list of results\n",
    "    results.append(result)\n",
    "\n",
    "# Now, results[i] contains the MLE result for group i\n",
    "for i, result in enumerate(results):\n",
    "    print(f\"Group {i + 1}:\")\n",
    "    print(\"Estimated quantities:\", result.x)\n"
   ]
  },
  {
   "cell_type": "code",
   "execution_count": 34,
   "id": "f9956482",
   "metadata": {},
   "outputs": [
    {
     "data": {
      "text/plain": [
       "array([7083.37197837, 6064.73080074, 6330.08746699, 5954.63354252,\n",
       "       6552.81189446, 7121.90815364, 6358.00408257, 6196.47434878,\n",
       "       6158.74505842, 6434.67392933, 6394.26299472, 6404.78158876,\n",
       "       6851.3441079 ])"
      ]
     },
     "execution_count": 34,
     "metadata": {},
     "output_type": "execute_result"
    }
   ],
   "source": [
    "result.x"
   ]
  },
  {
   "cell_type": "code",
   "execution_count": null,
   "id": "af9babc8",
   "metadata": {},
   "outputs": [],
   "source": [
    "def calculate_energy_consumption_and_efficiency(df, n):\n",
    "    # Calculate total energy consumption (sum of quantity times energy consumption for each type of hardware)\n",
    "    # Energy consumption = Hash rate / Efficiency\n",
    "    total_energy_consumption = np.sum(n * df['Hashing power (Mh/s)'].values / df['Efficiency (Mh/J)'].values)\n",
    "\n",
    "    # Calculate weighted average efficiency (sum of quantity times efficiency for each type of hardware, divided by total quantity)\n",
    "    weighted_average_efficiency = np.sum(n * df['Efficiency (Mh/J)'].values) / np.sum(n)\n",
    "\n",
    "    return total_energy_consumption, weighted_average_efficiency\n",
    "\n",
    "# Now, use this function to calculate the energy consumption and efficiency for each group\n",
    "results = results\n",
    "\n",
    "for file_name, n in zip(file_names, results):\n",
    "    # Load data from the Excel file\n",
    "    df = pd.read_excel(file_name)\n",
    "\n",
    "    # Calculate energy consumption and efficiency\n",
    "    total_energy_consumption, weighted_average_efficiency = calculate_energy_consumption_and_efficiency(df, n.x)\n",
    "\n",
    "    print(f\"File {file_name}:\")\n",
    "    print(\"Total energy consumption (Joules):\", total_energy_consumption)\n",
    "    print(\"Weighted average efficiency (Mh/J):\", weighted_average_efficiency)"
   ]
  },
  {
   "cell_type": "code",
   "execution_count": null,
   "id": "afb73eeb",
   "metadata": {},
   "outputs": [],
   "source": [
    "[134192.54553556  16516.67573032  16507.00897799  12544.96318716\n",
    "   7051.0837864   12554.63000995  12544.96325806  23590.69580935\n",
    "  16507.00897844  15373.68224038  19042.69578858  19052.36268184\n",
    "   8885.56140647  33712.46349623   8885.61632082  10710.42895525\n",
    "  11843.86552111  13539.0929532   19052.36268184  15383.29407837\n",
    "  13548.81461943  15373.62725601  22875.14065641  15373.68216991\n",
    "   6465.13487277 134192.54553556  19052.36268184  52197.11972457\n",
    "  54039.67791956   8875.89465459  23590.69580935  12554.68499476\n",
    "  26509.65722331  63360.1852742   13539.09295276  17217.8832229\n",
    "  18341.54327866  10710.42895525  12544.96325762  12544.96325762\n",
    "  16367.68639091   9879.69110205   9879.74601595  17208.16155624\n",
    "  10009.27637657  16507.00897799  16377.47861737   8875.89465415\n",
    "  12545.0181015   11704.61363475  11843.81060677  17208.16155668\n",
    "  11853.60290414  16377.47861737  10710.42895481  11714.28031661\n",
    "  10019.06860348  10710.42888479  18351.2648753   12554.68492474\n",
    "   5346.1486382   12554.63000995   5346.20355583]"
   ]
  },
  {
   "cell_type": "code",
   "execution_count": null,
   "id": "2786354b",
   "metadata": {},
   "outputs": [],
   "source": [
    "def calculate_energy_consumption_and_efficiency(df, n):\n",
    "    # Calculate total energy consumption (sum of quantity times energy consumption for each type of hardware)\n",
    "    total_energy_consumption = np.sum(n * df['Energy consumption (J/TH)'].values)\n",
    "    \n",
    "    # Calculate weighted average efficiency (sum of quantity times efficiency for each type of hardware, divided by total quantity)\n",
    "    weighted_average_efficiency = np.sum(n * df['Efficiency (J/TH)'].values) / np.sum(n)\n",
    "    \n",
    "    return total_energy_consumption, weighted_average_efficiency\n",
    "\n",
    "# Now, use this function to calculate the energy consumption and efficiency for each group\n",
    "for file_name, n in zip(file_names, results):\n",
    "    # Load data from the Excel file\n",
    "    df = pd.read_excel(file_name)\n",
    "    \n",
    "    # Calculate energy consumption and efficiency\n",
    "    total_energy_consumption, weighted_average_efficiency = calculate_energy_consumption_and_efficiency(df, n.x)\n",
    "    \n",
    "    print(f\"File {file_name}:\")\n",
    "    print(\"Total energy consumption:\", total_energy_consumption)\n",
    "    print(\"Weighted average efficiency:\", weighted_average_efficiency)"
   ]
  },
  {
   "cell_type": "code",
   "execution_count": null,
   "id": "fc40f3b4",
   "metadata": {},
   "outputs": [],
   "source": [
    "import numpy as np\n",
    "from scipy.optimize import minimize\n",
    "\n",
    "# your observed data\n",
    "observed_hash_rates = np.array([112, 33, 50])  # example data\n",
    "\n",
    "# your prior means\n",
    "prior_means = np.array([ 6350., 78475., 78475.])  # example data\n",
    "\n",
    "# Objective function: negative log-likelihood\n",
    "def nll(params):\n",
    "    pred_hash_rates = np.sum(params.reshape(-1, 2), axis=1)  # n_i * h_i for each hardware\n",
    "    mse = np.sum((observed_hash_rates - pred_hash_rates)**2)  # mean squared error\n",
    "    return mse\n",
    "\n",
    "# Initial guess: use the prior means for the hash rates, and guess 1 for the quantities\n",
    "init_params = np.hstack((np.ones(len(prior_means)), prior_means))\n",
    "\n",
    "# Bounds: quantities must be >= 0, hash rates must be >= 0\n",
    "bounds = [(0, None) for _ in range(len(init_params))]\n",
    "\n",
    "# Run the optimizer\n",
    "result = minimize(nll, init_params, bounds=bounds)\n",
    "\n",
    "# Extract the estimated quantities and hash rates\n",
    "estimated_quantities = result.x[:len(prior_means)]\n",
    "estimated_hash_rates = result.x[len(prior_means):]\n",
    "\n",
    "print(\"Estimated quantities:\", estimated_quantities)\n",
    "print(\"Estimated hash rates:\", estimated_hash_rates)"
   ]
  },
  {
   "cell_type": "code",
   "execution_count": null,
   "id": "f37e4372",
   "metadata": {},
   "outputs": [],
   "source": [
    "import pandas as pd\n",
    "import numpy as np\n",
    "import pymc3 as pm\n",
    "import theano.tensor as tt\n",
    "\n",
    "# Define file names for the Excel files for each group\n",
    "file_names = ['group1.xlsx', 'group2.xlsx', 'group3.xlsx']\n",
    "\n",
    "# Define total hash rates for each group\n",
    "total_hash_rates = [200, 540, 85]  # Replace with the correct values in TH/s\n",
    "\n",
    "# Define the prior means\n",
    "# Define your best guess for the number of each type of hardware\n",
    "prior_means = np.array([ 6350.,   78475.,   78475.,  103465.,  561939.,  100444.,  103465.,   71271.,\n",
    "                        81924.,   84767.,   58484.,   57868.,  230378.,   30350.,  228603.,  148796.,\n",
    "                        122844.,  114462.,   56690.,   85708.,  107494.,   86684.,   53614.,   85092.,\n",
    "                        132276.,    6350.,   56893.,   17637.,   16709.,  253381.,   71264.,   97658.,\n",
    "                        42690.,   14431.,  111609.,   66800.,   64466.,  148575.,  101959.,  101380.,\n",
    "                        96965.,  309055.,  265280.,   69503.,  198612.,   79366.,   90703.,  241843.,\n",
    "                        100565.,  158958.,  126985.,   70788.,  122520.,   90296.,  144301.,  158731.,\n",
    "                        176367.,  147656.,   64758.,   98346., 1947610.,  101588., 1688619.,   17709.,\n",
    "                        35417.,    2952.,    4570.,    6811.,   25298.,   23612.,   54488.,    1968.,\n",
    "                        108975.,  13622.,    2834.,   15741.,  500802.,   90342.,  446216.,  451502.,\n",
    "                        163251.,  269672.,    9730.,  178379.,  129408.,  634052.,  238413.,  138864.,\n",
    "                        143085.,  310362.,  495977.,  356924.,  294009.,    5614.,   19460.,   20271.,\n",
    "                        242395.,  227756.,  155926.,  231001.,  236121.,  175839.,  236214.,  149111.,\n",
    "                        120456.,   85851.,   29190.,  360771.,  360771.,  475658., 2583400.,  461767.,\n",
    "                        475658.,  327652.])  # Replace with your array of prior means\n",
    "\n",
    "# Initialize an empty list to store approximations for each group\n",
    "approximations = []\n",
    "\n",
    "for file_name, total_hash_rate, prior_mean in zip(file_names, total_hash_rates, prior_means):\n",
    "    # Load data from the Excel file\n",
    "    df = pd.read_excel(file_name)\n",
    "\n",
    "    # Extract the hash rates for each type of hardware\n",
    "    hash_rates = df['Hashing power (Mh/s)'].values\n",
    "\n",
    "    # Define the model\n",
    "    model = pm.Model()\n",
    "\n",
    "    with model:\n",
    "        # Prior distributions for the n parameters, using the provided prior means\n",
    "        n = pm.Normal('n', mu=prior_mean, sd=1000, shape=len(hash_rates))  # Adjust the standard deviation as needed\n",
    "\n",
    "        # Expected value of the hash rate\n",
    "        mu = pm.math.dot(n, hash_rates)\n",
    "\n",
    "        # Likelihood (sampling distribution) of observations\n",
    "        Y_obs = pm.Poisson('Y_obs', mu=mu, observed=np.array([total_hash_rate * 1e6]))  # Convert TH/s to MH/s\n",
    "\n",
    "        # Run the ADVI algorithm to approximate the posterior\n",
    "        approx = pm.fit(n=50000, method=pm.ADVI())\n",
    "\n",
    "    # Append the approximation to the list of approximations\n",
    "    approximations.append(approx)\n",
    "\n",
    "# Now, approximations[i] contains the variational approximation for group i\n"
   ]
  },
  {
   "cell_type": "code",
   "execution_count": null,
   "id": "62c3e5f5",
   "metadata": {},
   "outputs": [],
   "source": []
  },
  {
   "cell_type": "code",
   "execution_count": null,
   "id": "ce916932",
   "metadata": {},
   "outputs": [],
   "source": [
    "# Sample from the approximations\n",
    "samples = [approx.sample(5000) for approx in approximations]\n",
    "\n",
    "# Now, samples[i] is a 5000-sample approximation to the posterior distribution for group i"
   ]
  },
  {
   "cell_type": "code",
   "execution_count": null,
   "id": "0547369a",
   "metadata": {},
   "outputs": [],
   "source": [
    "# Calculate the means of the samples\n",
    "means = [np.mean(sample['n'], axis=0) for sample in samples]\n",
    "\n",
    "# Now, means[i] is the mean of the posterior distribution for group i"
   ]
  },
  {
   "cell_type": "code",
   "execution_count": null,
   "id": "0177376e",
   "metadata": {},
   "outputs": [],
   "source": [
    "means"
   ]
  },
  {
   "cell_type": "code",
   "execution_count": null,
   "id": "96c4fd19",
   "metadata": {},
   "outputs": [],
   "source": [
    "import pandas as pd\n",
    "import numpy as np\n",
    "import pymc3 as pm\n",
    "import theano.tensor as tt\n",
    "\n",
    "# Define file names for the Excel files for each group\n",
    "file_names = ['group1.xlsx', 'group2.xlsx', 'group3.xlsx']\n",
    "\n",
    "# Define total hash rates for each group\n",
    "total_hash_rates = [200, 540, 85]  # Replace with the correct values in TH/s\n",
    "\n",
    "# Initialize an empty list to store traces for each group\n",
    "traces = []\n",
    "\n",
    "for file_name, total_hash_rate in zip(file_names, total_hash_rates):\n",
    "    # Load data from the Excel file\n",
    "    df = pd.read_excel(file_name)\n",
    "\n",
    "    # Extract the hash rates for each type of hardware\n",
    "    hash_rates = df['Hashing power (Mh/s)'].values\n",
    "\n",
    "    # Define the model\n",
    "    model = pm.Model()\n",
    "\n",
    "    with model:\n",
    "        # Prior distributions for the n parameters, assuming uniform distribution\n",
    "        n = pm.DiscreteUniform('n', lower=0, upper=100000, shape=len(hash_rates))  # Adjust the upper limit as needed\n",
    "\n",
    "        # Expected value of the hash rate\n",
    "        mu = pm.math.dot(n, hash_rates)\n",
    "\n",
    "        # Likelihood (sampling distribution) of observations\n",
    "        Y_obs = pm.Poisson('Y_obs', mu=mu, observed=np.array([total_hash_rate * 1e6]))  # Convert TH/s to MH/s\n",
    "\n",
    "        # Run the MCMC algorithm to sample from the posterior\n",
    "        trace = pm.sample(2000, tune=1000, cores=1)\n",
    "\n",
    "    # Append the trace to the list of traces\n",
    "    traces.append(trace)\n",
    "\n",
    "# Now, traces[i] contains the MCMC samples for group i"
   ]
  },
  {
   "cell_type": "code",
   "execution_count": null,
   "id": "d66a0802",
   "metadata": {},
   "outputs": [],
   "source": [
    "import pandas as pd\n",
    "import numpy as np\n",
    "import pymc3 as pm\n",
    "import theano.tensor as tt\n",
    "\n",
    "# Define file names for the Excel files for each group\n",
    "file_names = ['group1.xlsx', 'group2.xlsx', 'group3.xlsx']\n",
    "\n",
    "# Define total hash rates for each group\n",
    "total_hash_rates = [200, 540, 85]  # Replace with the correct values in TH/s\n",
    "\n",
    "# Initialize an empty list to store traces for each group\n",
    "traces = []\n",
    "\n",
    "# Define your best guess for the number of each type of hardware\n",
    "prior_means = np.array([ 6350.,   78475.,   78475.,  103465.,  561939.,  100444.,  103465.,   71271.,\n",
    "                        81924.,   84767.,   58484.,   57868.,  230378.,   30350.,  228603.,  148796.,\n",
    "                        122844.,  114462.,   56690.,   85708.,  107494.,   86684.,   53614.,   85092.,\n",
    "                        132276.,    6350.,   56893.,   17637.,   16709.,  253381.,   71264.,   97658.,\n",
    "                        42690.,   14431.,  111609.,   66800.,   64466.,  148575.,  101959.,  101380.,\n",
    "                        96965.,  309055.,  265280.,   69503.,  198612.,   79366.,   90703.,  241843.,\n",
    "                        100565.,  158958.,  126985.,   70788.,  122520.,   90296.,  144301.,  158731.,\n",
    "                        176367.,  147656.,   64758.,   98346., 1947610.,  101588., 1688619.,   17709.,\n",
    "                        35417.,    2952.,    4570.,    6811.,   25298.,   23612.,   54488.,    1968.,\n",
    "                        108975.,  13622.,    2834.,   15741.,  500802.,   90342.,  446216.,  451502.,\n",
    "                        163251.,  269672.,    9730.,  178379.,  129408.,  634052.,  238413.,  138864.,\n",
    "                        143085.,  310362.,  495977.,  356924.,  294009.,    5614.,   19460.,   20271.,\n",
    "                        242395.,  227756.,  155926.,  231001.,  236121.,  175839.,  236214.,  149111.,\n",
    "                        120456.,   85851.,   29190.,  360771.,  360771.,  475658., 2583400.,  461767.,\n",
    "                        475658.,  327652.])\n",
    "\n",
    "for file_name, total_hash_rate, prior_mean in zip(file_names, total_hash_rates, prior_means):\n",
    "    # Load data from the Excel file\n",
    "    df = pd.read_excel(file_name)\n",
    "    \n",
    "    # Convert hash rates from GH/s to TH/s\n",
    "    hash_rates = df['Hashing power (Mh/s)'] / 1000\n",
    "    \n",
    "    # Convert energy efficiencies from J/GH to MJ/TH\n",
    "    energy_efficiencies = df['Efficiency_Mh/J'] * 1000\n",
    "    \n",
    "    # Build the model\n",
    "    with pm.Model() as model:\n",
    "        # Prior distributions for the n parameters\n",
    "        n = pm.Poisson('n', mu=prior_mean, shape=len(hash_rates))\n",
    "        \n",
    "        # Likelihood function\n",
    "        likelihood = pm.Normal('likelihood', mu=n*hash_rates, sd=total_hash_rate, observed=total_hash_rate)\n",
    "        \n",
    "        # Run the MCMC sampler\n",
    "        trace = pm.sample(2000, tune=2000)\n",
    "        \n",
    "    # Append the trace to the list of traces\n",
    "    traces.append(trace)"
   ]
  },
  {
   "cell_type": "code",
   "execution_count": null,
   "id": "f5fdd55a",
   "metadata": {},
   "outputs": [],
   "source": [
    "# Iterate over each group\n",
    "for i, trace in enumerate(traces):\n",
    "    # Access the samples of n for this group\n",
    "    n_samples = trace['n']\n",
    "\n",
    "    # Compute the mean of the samples to get an estimate of n\n",
    "    n_estimates = n_samples.mean(axis=0)\n",
    "\n",
    "    print(f\"Estimates for group {i+1}:\")\n",
    "    for j, n_estimate in enumerate(n_estimates):\n",
    "        print(f\"n_{j+1} = {n_estimate}\")"
   ]
  },
  {
   "cell_type": "code",
   "execution_count": null,
   "id": "1d7608c6",
   "metadata": {},
   "outputs": [],
   "source": [
    "n"
   ]
  },
  {
   "cell_type": "code",
   "execution_count": null,
   "id": "874847cd",
   "metadata": {},
   "outputs": [],
   "source": [
    "import numpy as np\n",
    "from scipy.stats import poisson\n",
    "from scipy.optimize import minimize\n",
    "\n",
    "# Step 1: Define the initial Poisson distributions as priors\n",
    "num_hardware_types = 112\n",
    "prior_means = np.array([ 6350.,   78475.,   78475.,  103465.,  561939.,  100444.,  103465.,   71271.,\n",
    "                              81924.,   84767.,   58484.,   57868.,  230378.,   30350.,  228603.,  148796.,\n",
    "                              122844.,  114462.,   56690.,   85708.,  107494.,   86684.,   53614.,   85092.,\n",
    "                              132276.,    6350.,   56893.,   17637.,   16709.,  253381.,   71264.,   97658.,\n",
    "                              42690.,   14431.,  111609.,   66800.,   64466.,  148575.,  101959.,  101380.,\n",
    "                              96965.,  309055.,  265280.,   69503.,  198612.,   79366.,   90703.,  241843.,\n",
    "                              100565.,  158958.,  126985.,   70788.,  122520.,   90296.,  144301.,  158731.,\n",
    "                              176367.,  147656.,   64758.,   98346., 1947610.,  101588., 1688619.,   17709.,\n",
    "                              35417.,    2952.,    4570.,    6811.,   25298.,   23612.,   54488.,    1968.,\n",
    "                              108975.,  13622.,    2834.,   15741.,  500802.,   90342.,  446216.,  451502.,\n",
    "                              163251.,  269672.,    9730.,  178379.,  129408.,  634052.,  238413.,  138864.,\n",
    "                              143085.,  310362.,  495977.,  356924.,  294009.,    5614.,   19460.,   20271.,\n",
    "                              242395.,  227756.,  155926.,  231001.,  236121.,  175839.,  236214.,  149111.,\n",
    "                              120456.,   85851.,   29190.,  360771.,  360771.,  475658., 2583400.,  461767.,\n",
    "                              475658.,  327652.])\n",
    " # Array of means for the Poisson distributions\n",
    "priors = np.array([poisson.pmf(np.arange(num_hardware_types), mean) for mean in prior_means])\n",
    "\n",
    "# Step 2: Define the likelihood function\n",
    "def likelihood(total_hash_rate, hardware_counts):\n",
    "    expected_hash_rate = np.dot(hardware_counts, hash_rates)\n",
    "    return np.sum(poisson.logpmf(total_hash_rate, expected_hash_rate))\n",
    "\n",
    "# Step 3: Define the objective function to be minimized\n",
    "def objective(hardware_counts, total_hash_rate):\n",
    "    return -likelihood(total_hash_rate, hardware_counts)\n",
    "\n",
    "# Step 4: Use optimization to update the distribution parameters\n",
    "result = minimize(objective, priors, args=(total_hash_rate,))\n",
    "estimated_counts = result.x\n",
    "\n",
    "# Print the estimated counts\n",
    "print(\"Estimated counts:\", estimated_counts)"
   ]
  },
  {
   "cell_type": "code",
   "execution_count": null,
   "id": "9319d83f",
   "metadata": {},
   "outputs": [],
   "source": [
    "import pymc3 as pm\n",
    "import numpy as np\n",
    "\n",
    "# Define the observed total hash rate\n",
    "total_hash_rate_observed = 825000000\n",
    "\n",
    "# Define the number of hardware types for each contribution\n",
    "num_types_1 = 63\n",
    "num_types_2 = 12\n",
    "num_types_3 = 37\n",
    "\n",
    "# Define the hash rate contributions and corresponding hardware types\n",
    "contribution_1 = 200000000  # TH/s\n",
    "contribution_2 = 85000000  # TH/s\n",
    "contribution_3 = 540000000\n",
    "\n",
    "# Define the hash rate of each hardware type\n",
    "hash_rates_1 = np.array([500, 40.454, 40.454, 30.683, 5.649376, 31.606, 30.683, 44.543, 38.75065, 37.451, 54.282, 54.86, 13.78, 104.6, 13.887, 21.33533, 25.84274, 27.735, 56, 37.04, 29.533, 36.623, 59.21295, 37.30829, 24, 500, 55.8, 180, 190, 12.529, 44.54744, 32.50744, 74.365, 220, 28.444, 47.52453, 49.24512, 21.36714, 31.1363, 31.314, 32.74, 10.272, 11.967, 45.67582, 15.984, 40, 35, 13.12675, 31.5678, 19.9714, 25, 44.84675, 25.911, 35.158, 22, 20, 18, 21.5, 49.023, 32.28, 1.63, 31.25, 1.88])\n",
    "hash_rates_2 = np.array([400, 200, 2400, 1550, 1040, 280, 300, 130, 3600, 65, 520, 2500, 450])\n",
    "hash_rates_3 = np.array([29.14245, 161.55, 32.70748, 32.32455, 89.4, 54.12, 1500, 81.818, 112.78, 23.018, 61.21572, 105.1, 102, 47.02455, 29.426, 40.89, 49.64, 2600, 750, 720, 60.21, 64.08, 93.6, 63.18, 61.81, 83, 61.7857, 97.878, 121.162, 170, 500, 40.454, 40.454, 30.683, 5.649376, 31.606, 30.683, 44.543])\n",
    "\n",
    "\n",
    "# Calculate the lambda parameter for each hardware type\n",
    "lambdas_1 = np.ceil(contribution_1 / (num_types_1 * hash_rates_1))\n",
    "lambdas_2 = np.ceil(contribution_2 / (num_types_2 * hash_rates_2))\n",
    "lambdas_3 = np.ceil(contribution_3 / (num_types_3 * hash_rates_3))\n",
    "\n",
    "print(f\"Lambda 1: {lambdas_1}\")\n",
    "print(f\"Lambda 2: {lambdas_2}\")\n",
    "print(f\"Lambda 3: {lambdas_3}\")"
   ]
  },
  {
   "cell_type": "code",
   "execution_count": null,
   "id": "b760debf",
   "metadata": {},
   "outputs": [],
   "source": [
    "import numpy as np\n",
    "\n",
    "def likelihood_function(total_hash_rate, lambda_1, lambda_2, lambda_3):\n",
    "    # Calculate the expected hash rate for each contribution\n",
    "    expected_hash_rate_1 = np.sum(lambda_1)\n",
    "    expected_hash_rate_2 = np.sum(lambda_2)\n",
    "    expected_hash_rate_3 = np.sum(lambda_3)\n",
    "\n",
    "    # Calculate the logarithmic probabilities of the observed total hash rate given the expected hash rates\n",
    "    log_prob_1 = (-expected_hash_rate_1) + (total_hash_rate * np.log(expected_hash_rate_1)) - np.sum(np.log(np.arange(1, total_hash_rate+1)))\n",
    "    log_prob_2 = (-expected_hash_rate_2) + (total_hash_rate * np.log(expected_hash_rate_2)) - np.sum(np.log(np.arange(1, total_hash_rate+1)))\n",
    "    log_prob_3 = (-expected_hash_rate_3) + (total_hash_rate * np.log(expected_hash_rate_3)) - np.sum(np.log(np.arange(1, total_hash_rate+1)))\n",
    "\n",
    "    # Calculate the joint probability of the observed total hash rate using logarithms\n",
    "    log_joint_probability = log_prob_1 + log_prob_2 + log_prob_3\n",
    "    joint_probability = np.exp(log_joint_probability)\n",
    "\n",
    "    return joint_probability\n",
    "\n",
    "# Define the hash rate contributions and corresponding hardware types\n",
    "contribution_1 = 200000000  # TH/s\n",
    "contribution_2 = 85000000  # TH/s\n",
    "contribution_3 = 540000000\n",
    "total_hash_rate = 825000000  # TH/s\n",
    "\n",
    "# Define the estimated lambda values for each hardware specification\n",
    "lambda_1 = np.array([6350, 78475, 78475, 103465, 561939, 100444, 103465, 71271, 81924, 84767, 58484, 57868, 230378, 30350, 228603, 148796, 122844, 114462, 56690, 85708, 107494, 86684, 53614, 85092, 132276, 6350, 56893, 17637, 16709, 253381, 71264, 97658, 42690, 14431, 111609, 66800, 64466, 148575, 101959, 101380, 96965, 309055, 265280, 69503, 198612, 79366, 90703, 241843, 100565, 158958, 126985, 70788, 122520, 90296, 144301, 158731, 176367, 147656, 64758, 98346, 1947610, 101588, 1688619])\n",
    "lambda_2 = np.array([17709, 35417, 2952, 4570, 6811, 25298, 23612, 54488, 1968, 108975, 13622, 2834, 15741])\n",
    "lambda_3 = np.array([500802, 90342, 446216, 451502, 163251, 269672, 9730, 178379, 129408, 634052, 238413, 138864, 143085, 310362, 495977, 356924, 294009, 5614, 19460, 20271, 242395, 227756, 155926, 231001, 236121, 175839, 236214, 149111, 120456, 85851, 29190, 360771, 360771, 475658, 2583400, 461767, 475658, 327652])\n",
    "\n",
    "# Compute the likelihood of the observed total hash rate\n",
    "likelihood = likelihood_function(total_hash_rate, lambda_1, lambda_2, lambda_3)\n",
    "print(\"Likelihood:\", likelihood)"
   ]
  },
  {
   "cell_type": "code",
   "execution_count": null,
   "id": "542460ac",
   "metadata": {},
   "outputs": [],
   "source": [
    "# Define the hash rate contributions and corresponding hardware types\n",
    "contribution_1 = 200  # TH/s\n",
    "contribution_2 = 85  # TH/s\n",
    "contribution_3 = 540\n",
    "total_hash_rate = 825  # TH/s\n",
    "\n",
    "# Define the number of hardware types for each contribution\n",
    "num_types_1 = 63\n",
    "num_types_2 = 12\n",
    "num_types_3 = 37\n",
    "\n",
    "import numpy as np\n",
    "\n",
    "hash_rates_1 = np.random.uniform(low=0.05, high=0.6, size=63)\n",
    "hash_rates_2 = np.random.uniform(low=1.00, high=2.16, size=12)\n",
    "hash_rates_3 = np.random.uniform(low=0.6, high=1.0, size=37)\n",
    "\n",
    "# Define the hash rate of each hardware type\n",
    "#hash_rates_1 = [0.2, 0.5, 0.3, 0.2, 0.5, 0.3,0.2, 0.5, 0.3,0.2, 0.5, 0.3,0.2, 0.5, 0.3,0.2, 0.5, 0.3,0.2, 0.5, 0.3,0.2, 0.5, 0.3,0.2, 0.5, 0.3,0.2, 0.5, 0.3,0.2, 0.5, 0.3,0.2, 0.5, 0.3,0.2, 0.5, 0.3,0.2, 0.5, 0.3,0.2, 0.5, 0.3,0.2, 0.5, 0.3,0.2, 0.5, 0.3,0.2, 0.5, 0.3,0.2, 0.5, 0.3,0.2, 0.5, 0.3,0.2, 0.5, 0.3]  # List of hash rates for contribution 1\n",
    "#hash_rates_2 = [1.0, 0.8, 0.6,1.0, 0.8, 0.6,1.0, 0.8, 0.6,1.0, 0.8, 0.6]  # List of hash rates for contribution 2\n",
    "#hash_rates_3 = [1.0, 0.8, 0.6,1.0, 0.8, 0.6,1.0, 0.8, 0.6,1.0, 0.8, 0.6,1.0, 0.8, 0.6,1.0, 0.8, 0.6,1.0, 0.8, 0.6,1.0, 0.8, 0.6,1.0, 0.8, 0.6,1.0, 0.8, 0.6,1.0, 0.8, 0.6,1.0, 0.8, 0.6,0.8]\n",
    "\n",
    "# Calculate the lambda parameter for each hardware type\n",
    "lambda_1 = [contribution_1 / (num_types_1 * hr) for hr in hash_rates_1]\n",
    "lambda_2 = [contribution_2 / (num_types_2 * hr) for hr in hash_rates_2]\n",
    "lambda_3 = [contribution_3 / (num_types_3 * hr) for hr in hash_rates_3]\n",
    "\n",
    "print(f\"Lambda 1: {lambda_1}\")\n",
    "print(f\"Lambda 2: {lambda_2}\")\n",
    "print(f\"Lambda 3: {lambda_3}\")"
   ]
  },
  {
   "cell_type": "code",
   "execution_count": null,
   "id": "5f497e83",
   "metadata": {},
   "outputs": [],
   "source": [
    "import numpy as np\n",
    "\n",
    "# Combine the lambda parameters for each contribution\n",
    "lambda_combined = np.sum([lambda_1, lambda_2], axis=0)\n",
    "\n",
    "# Compute the hyperparameters for the overall distribution\n",
    "alpha = np.sum(lambda_combined)\n",
    "beta = total_hash_rate - alpha\n",
    "\n",
    "print(f\"Combined Lambda: {lambda_combined}\")\n",
    "print(f\"Alpha: {alpha}\")\n",
    "print(f\"Beta: {beta}\")"
   ]
  },
  {
   "cell_type": "code",
   "execution_count": null,
   "id": "8baef855",
   "metadata": {},
   "outputs": [],
   "source": [
    "import numpy as np\n",
    "import matplotlib.pyplot as plt\n",
    "import scipy.stats as stats\n",
    "\n",
    "# Estimated values of alpha and beta\n",
    "alpha = 799.8611111111111\n",
    "beta = 25.138888888888914\n",
    "\n",
    "# Generate a range of x values\n",
    "x = np.linspace(0, 1, 100)\n",
    "\n",
    "# Calculate the probability density function (PDF) for the beta distribution\n",
    "pdf = stats.beta.pdf(x, alpha, beta)\n",
    "\n",
    "# Plot the PDF\n",
    "plt.plot(x, pdf)\n",
    "plt.xlabel('x')\n",
    "plt.ylabel('PDF')\n",
    "plt.title('Beta Distribution')\n",
    "plt.show()"
   ]
  },
  {
   "cell_type": "code",
   "execution_count": null,
   "id": "373642f3",
   "metadata": {},
   "outputs": [],
   "source": [
    "import numpy as np\n",
    "from scipy.stats import poisson\n",
    "\n",
    "# Define the hash rate contributions and corresponding hardware types\n",
    "contribution_1 = 200  # TH/s\n",
    "contribution_2 = 85  # TH/s\n",
    "contribution_3 = 540\n",
    "total_hash_rate = 825  # TH/s\n",
    "\n",
    "# Define the number of hardware types for each contribution\n",
    "num_types_1 = 63\n",
    "num_types_2 = 12\n",
    "num_types_3 = 37\n",
    "\n",
    "# Calculate the average hash rate per device for each group\n",
    "average_rate_1 = contribution_1 / num_types_1\n",
    "average_rate_2 = contribution_2 / num_types_2\n",
    "average_rate_3 = contribution_3 / num_types_3\n",
    "\n",
    "# Assign weights to each group\n",
    "weight_1 = 1 / num_types_1\n",
    "weight_2 = 1 / num_types_2\n",
    "weight_3 = 1 / num_types_3\n",
    "\n",
    "# Create the individual Poisson distributions\n",
    "dist_1 = poisson(average_rate_1)\n",
    "dist_2 = poisson(average_rate_2)\n",
    "dist_3 = poisson(average_rate_3)\n",
    "\n",
    "# Calculate the combined distribution\n",
    "combined_pmf = weight_1 * dist_1.pmf(np.arange(0, total_hash_rate + 1)) + \\\n",
    "               weight_2 * dist_2.pmf(np.arange(0, total_hash_rate + 1)) + \\\n",
    "               weight_3 * dist_3.pmf(np.arange(0, total_hash_rate + 1))\n",
    "\n",
    "# Normalize the combined distribution\n",
    "combined_pmf /= np.sum(combined_pmf)\n",
    "\n",
    "# Print the combined distribution\n",
    "for i, pmf_value in enumerate(combined_pmf):\n",
    "    print(f\"Hash Rate {i} TH/s: {pmf_value}\")"
   ]
  },
  {
   "cell_type": "code",
   "execution_count": null,
   "id": "f3d90008",
   "metadata": {},
   "outputs": [],
   "source": [
    "from scipy.optimize import minimize\n",
    "import scipy.stats as stats\n",
    "\n",
    "# Define the desired quantiles\n",
    "lower_quantile = 0.01\n",
    "upper_quantile = 0.99\n",
    "\n",
    "# Define the desired quantile values\n",
    "lower_quantile_value = 0.05\n",
    "upper_quantile_value = 2.16\n",
    "\n",
    "# Define the moment equations\n",
    "def moments_equations(params):\n",
    "    alpha, beta = params\n",
    "    moment_eq1 = stats.beta.ppf(lower_quantile, alpha, beta) - lower_quantile_value\n",
    "    moment_eq2 = stats.beta.ppf(upper_quantile, alpha, beta) - upper_quantile_value\n",
    "    return moment_eq1**2 + moment_eq2**2\n",
    "\n",
    "# Initial guess for alpha and beta\n",
    "initial_params = [2, 2]\n",
    "\n",
    "# Solve for alpha and beta using optimization\n",
    "result = minimize(moments_equations, initial_params, method='SLSQP')\n",
    "alpha, beta = result.x\n",
    "\n",
    "print(f\"α = {alpha}, β = {beta}\")"
   ]
  },
  {
   "cell_type": "code",
   "execution_count": null,
   "id": "94ae13a9",
   "metadata": {},
   "outputs": [],
   "source": [
    "import numpy as np\n",
    "import matplotlib.pyplot as plt\n",
    "import scipy.stats as stats\n",
    "\n",
    "# Estimated values of alpha and beta\n",
    "alpha = 1.1358785037699581\n",
    "beta = 0.31675654784979695\n",
    "\n",
    "# Generate a range of x values\n",
    "x = np.linspace(0, 1, 100)\n",
    "\n",
    "# Calculate the probability density function (PDF) for the beta distribution\n",
    "pdf = stats.beta.pdf(x, alpha, beta)\n",
    "\n",
    "# Plot the PDF\n",
    "plt.plot(x, pdf)\n",
    "plt.xlabel('x')\n",
    "plt.ylabel('PDF')\n",
    "plt.title('Beta Distribution')\n",
    "plt.show()"
   ]
  },
  {
   "cell_type": "code",
   "execution_count": null,
   "id": "82314775",
   "metadata": {},
   "outputs": [],
   "source": [
    "from scipy.optimize import minimize\n",
    "import scipy.stats as stats\n",
    "\n",
    "# Define the desired quantiles\n",
    "lower_quantile = 0.01\n",
    "upper_quantile = 0.99\n",
    "\n",
    "# Define the desired quantile values\n",
    "lower_quantile_value = 0.6\n",
    "upper_quantile_value = 0.99\n",
    "\n",
    "# Define the moment equations\n",
    "def moments_equations(params):\n",
    "    alpha, beta = params\n",
    "    moment_eq1 = stats.beta.ppf(lower_quantile, alpha, beta) - lower_quantile_value\n",
    "    moment_eq2 = stats.beta.ppf(upper_quantile, alpha, beta) - upper_quantile_value\n",
    "    return moment_eq1**2 + moment_eq2**2\n",
    "\n",
    "# Initial guess for alpha and beta\n",
    "initial_params = [2, 2]\n",
    "\n",
    "# Solve for alpha and beta using optimization\n",
    "result = minimize(moments_equations, initial_params, method='SLSQP')\n",
    "alpha, beta = result.x\n",
    "\n",
    "print(f\"α = {alpha}, β = {beta}\")"
   ]
  },
  {
   "cell_type": "code",
   "execution_count": null,
   "id": "ded3311a",
   "metadata": {},
   "outputs": [],
   "source": [
    "import numpy as np\n",
    "import matplotlib.pyplot as plt\n",
    "import scipy.stats as stats\n",
    "\n",
    "# Estimated values of alpha and beta\n",
    "alpha = 5.802237048028528\n",
    "beta = 0.3448722300972294\n",
    "\n",
    "# Generate a range of x values\n",
    "x = np.linspace(0, 1, 100)\n",
    "\n",
    "# Calculate the probability density function (PDF) for the beta distribution\n",
    "pdf = stats.beta.pdf(x, alpha, beta)\n",
    "\n",
    "# Plot the PDF\n",
    "plt.plot(x, pdf)\n",
    "plt.xlabel('x')\n",
    "plt.ylabel('PDF')\n",
    "plt.title('Beta Distribution')\n",
    "plt.show()"
   ]
  },
  {
   "cell_type": "code",
   "execution_count": null,
   "id": "a2b6c272",
   "metadata": {},
   "outputs": [],
   "source": [
    "import pymc3 as pm\n",
    "import numpy as np\n",
    "alpha = 1.1358785037699581\n",
    "beta = 0.31675654784979695\n",
    "import numpy as np\n",
    "from statsmodels.tsa.arima.model import ARIMA\n",
    "\n",
    "total_hash_rate = df['ETH / Mean Hash Rate'].values\n",
    "\n",
    "def likelihood_function(total_hash_rate, individual_hash_rates, counts):\n",
    "    # Compute the expected total hash rate based on the individual hash rates and counts\n",
    "    expected_total_hash_rate = np.sum(individual_hash_rates * counts)\n",
    "\n",
    "    # Fit an ARIMA model to the observed total hash rate\n",
    "    arima_model = ARIMA(total_hash_rate, order=(p, d, q))  # Replace p, d, q with your ARIMA order\n",
    "    arima_result = arima_model.fit()\n",
    "\n",
    "    # Compute the likelihood of the observed total hash rate given the ARIMA model\n",
    "    likelihood = arima_result.loglikeobs()\n",
    "\n",
    "    # Compute the joint probability of the observed total hash rate and counts\n",
    "    joint_probability = likelihood + np.log(prior_function(counts))  # Incorporate the prior function\n",
    "\n",
    "    return joint_probability\n",
    "\n",
    "\n",
    "with pm.Model() as model:\n",
    "    # Prior distribution\n",
    "    n_i = pm.Beta('n_i', alpha=alpha, beta=beta, shape=len(individual_hash_rates))\n",
    "\n",
    "    # Likelihood function\n",
    "    likelihood = likelihood_function(total_hash_rate, individual_hash_rates, n_i)\n",
    "\n",
    "    # Define the observed data\n",
    "    total_hash_rate_observed = pm.Data('total_hash_rate_observed', total_hash_rate)\n",
    "    likelihood_observed = pm.Poisson('likelihood_observed', mu=likelihood, observed=total_hash_rate_observed)\n",
    "    \n",
    "    \n",
    "with model:\n",
    "    trace = pm.sample(2000, tune=1000)  # Perform MCMC sampling\n",
    "    \n",
    "    \n",
    "posterior_means = np.mean(trace['n_i'], axis=0)  # Posterior means of the counts\n",
    "posterior_intervals = pm.hpd(trace['n_i'], alpha=0.05)  # Highest Posterior Density (HPD) intervals"
   ]
  },
  {
   "cell_type": "markdown",
   "id": "561bb31a",
   "metadata": {},
   "source": [
    "## Information on Data\n",
    "- Currencies:\n",
    "    - **ETH**: Ethereum\n",
    "    - **ETC**: Ethereum Classic\n",
    " \n",
    "- Features:\n",
    "    - **Tx per Second Cnt**: The mean fee per transaction in native units that day.\n",
    "    - **Mean Tx Fee (native units)**: The sum count of transactions that day devided by the number of seconds per day.\n",
    "    - **Mean Hash Rate**: The mean rate at which miners are solving hashes that interval. Hash rate is the speed at which computations are being completed across all miners in the network. The unit of measurement is [Terahashes/s].\n",
    "    - **USD Denominated Closing Price**: The fixed closing price of the asset as of 00:00 UTC the following day (i.e., midnight UTC of the current day) denominated in USD. Real-time PriceUSD is the fixed closing price of the asset as of the timestamp set by the block's miner."
   ]
  },
  {
   "cell_type": "code",
   "execution_count": null,
   "id": "3de4365b",
   "metadata": {},
   "outputs": [],
   "source": [
    "#import necessary packages\n",
    "import matplotlib.pyplot as plt\n",
    "import numpy as np\n",
    "import pandas as pd"
   ]
  },
  {
   "cell_type": "code",
   "execution_count": null,
   "id": "8cf9cb5d",
   "metadata": {
    "scrolled": false
   },
   "outputs": [],
   "source": [
    "#loading the data from an excel file\n",
    "df = pd.read_excel('Ethereum+.xlsx', index_col=0) \n",
    "df.index = pd.to_datetime(df.index)\n",
    "df"
   ]
  },
  {
   "cell_type": "code",
   "execution_count": null,
   "id": "c1d278d4",
   "metadata": {},
   "outputs": [],
   "source": [
    "df = df.dropna()"
   ]
  },
  {
   "cell_type": "code",
   "execution_count": null,
   "id": "2283b598",
   "metadata": {},
   "outputs": [],
   "source": [
    "import pandas as pd\n",
    "import numpy as np\n",
    "import statsmodels.api as sm\n",
    "\n",
    "df['log_hash_rate'] = np.log(df['ETH / Mean Hash Rate'])\n",
    "\n",
    "# Perform the ADF test\n",
    "result = sm.tsa.stattools.adfuller(df['log_hash_rate'])\n",
    "print('ADF Statistic:', result[0])\n",
    "print('p-value:', result[1])\n",
    "\n",
    "import pandas as pd\n",
    "from pmdarima import auto_arima\n",
    "\n",
    "# Assume your DataFrame is called 'data' with a column 'hash_rate'\n",
    "model = auto_arima(df['log_hash_rate'], trace=True, error_action='ignore', suppress_warnings=True)\n",
    "best_model_order = model.order\n",
    "\n",
    "print('Best ARIMA order:', best_model_order)"
   ]
  },
  {
   "cell_type": "code",
   "execution_count": null,
   "id": "6fedafbf",
   "metadata": {},
   "outputs": [],
   "source": [
    "import pandas as pd\n",
    "import statsmodels.api as sm\n",
    "\n",
    "# Assume your DataFrame is called 'data' with a column 'hash_rate'\n",
    "order = (3, 2, 1)  # Best ARIMA order\n",
    "\n",
    "model = sm.tsa.ARIMA(df['log_hash_rate'], order=order)\n",
    "results = model.fit()\n",
    "\n",
    "print(results.summary())"
   ]
  },
  {
   "cell_type": "code",
   "execution_count": null,
   "id": "624e310e",
   "metadata": {},
   "outputs": [],
   "source": [
    "import pandas as pd\n",
    "import statsmodels.api as sm\n",
    "\n",
    "# Assume your DataFrame is called 'data' with a column 'hash_rate'\n",
    "order = (3, 3, 1)  # Best ARIMA order\n",
    "\n",
    "model = sm.tsa.ARIMA(df['ETH / Mean Hash Rate'], order=order)\n",
    "results = model.fit()\n",
    "\n",
    "print(results.summary())"
   ]
  },
  {
   "cell_type": "code",
   "execution_count": null,
   "id": "6fd27e6d",
   "metadata": {},
   "outputs": [],
   "source": [
    "# Assume your DataFrame is called 'data' with a column 'hash_rate'\n",
    "model = auto_arima(df['ETH / Mean Hash Rate'], trace=True, error_action='ignore', suppress_warnings=True)\n",
    "best_model_order = model.order\n",
    "\n",
    "print('Best ARIMA order:', best_model_order)"
   ]
  },
  {
   "cell_type": "code",
   "execution_count": null,
   "id": "4acb444d",
   "metadata": {},
   "outputs": [],
   "source": [
    "df['ETH / Tx Fee per Second (native units)']= df['ETH / Mean Tx Fee (native units)'] * df['ETH / Tx per Second Cnt']\n",
    "df['ETH / Tx Fee per Second (USD)']= df['ETH / Tx Fee per Second (native units)']*df['ETH / USD Denominated Closing Price']\n",
    "#df['ETH / Tx Fee per Day (native units)'] = df['ETH / Tx Fee per Second (native units)']*24*60*60"
   ]
  },
  {
   "cell_type": "code",
   "execution_count": null,
   "id": "fcce286a",
   "metadata": {},
   "outputs": [],
   "source": [
    "#Block Reward\n",
    "df['ETH Block Reward'] = 5\n",
    "cutoff_date = pd.to_datetime('2017-10-16')\n",
    "df.loc[df.index > cutoff_date, 'ETH Block Reward'] = 3\n",
    "cutoff_date = pd.to_datetime('2019-02-28')\n",
    "df.loc[df.index > cutoff_date, 'ETH Block Reward'] = 2"
   ]
  },
  {
   "cell_type": "code",
   "execution_count": null,
   "id": "9901d168",
   "metadata": {},
   "outputs": [],
   "source": [
    "df['ETH Block Reward per Second (native units)'] = df['ETH Block Reward']/15"
   ]
  },
  {
   "cell_type": "code",
   "execution_count": null,
   "id": "441b5c76",
   "metadata": {},
   "outputs": [],
   "source": [
    "df['ETH Block Reward per Second (USD)'] = df['ETH Block Reward per Second (native units)'] * df['ETH / USD Denominated Closing Price']"
   ]
  },
  {
   "cell_type": "code",
   "execution_count": null,
   "id": "1d1d6b85",
   "metadata": {},
   "outputs": [],
   "source": [
    "df['ElectricityPrice'] = 0.05/3600000"
   ]
  },
  {
   "cell_type": "code",
   "execution_count": null,
   "id": "119be0fc",
   "metadata": {},
   "outputs": [],
   "source": [
    "#Profitability Threshold ETC\n",
    "df['ETH Profatibilty Threshold [J/Hash]'] = ((df['ETH Block Reward per Second (USD)']+df['ETH / Tx Fee per Second (USD)'])) /(df['ETH / Mean Hash Rate']*1000000000000*df['ElectricityPrice'])\n",
    "cutoff_date = pd.to_datetime('2022-09-14')\n",
    "df.loc[df.index > cutoff_date, 'ETH Profatibilty Threshold [J/Hash]'] = 0\n",
    "df['ETH Profatibilty Threshold [Hash/J]'] = 1/df['ETH Profatibilty Threshold [J/Hash]']\n",
    "df['ETH Profatibilty Threshold [MHash/J]'] = df['ETH Profatibilty Threshold [Hash/J]']/1000000"
   ]
  },
  {
   "cell_type": "code",
   "execution_count": 156,
   "id": "078caa35",
   "metadata": {},
   "outputs": [],
   "source": [
    "#Block Reward\n",
    "df['ETC Block Reward'] = 5\n",
    "cutoff_date = pd.to_datetime('2017-12-11')\n",
    "df.loc[df.index > cutoff_date, 'ETC Block Reward'] = 4\n",
    "cutoff_date = pd.to_datetime('2020-03-17')\n",
    "df.loc[df.index > cutoff_date, 'ETC Block Reward'] = 3.2\n",
    "cutoff_date = pd.to_datetime('2021-04-25')\n",
    "df.loc[df.index > cutoff_date, 'ETC Block Reward'] = 2.56"
   ]
  },
  {
   "cell_type": "code",
   "execution_count": 157,
   "id": "0f4219f2",
   "metadata": {},
   "outputs": [],
   "source": [
    "#Transaction Fees\n",
    "df['ETC / Mean Tx Fee per Second'] = df['ETC / Mean Tx Fee (native units)']/df['ETC / Tx per Second Cnt']\n",
    "df['ETC / Mean Tx Fee per Block'] = df['ETC / Mean Tx Fee per Second']*13"
   ]
  },
  {
   "cell_type": "code",
   "execution_count": 159,
   "id": "9660aa48",
   "metadata": {},
   "outputs": [],
   "source": [
    "#Cumulative Miner Revenue\n",
    "df['ETC Block Reward per Second (USD)'] = (df['ETC Block Reward']+df['ETC / Mean Tx Fee per Block'])/13"
   ]
  },
  {
   "cell_type": "code",
   "execution_count": 160,
   "id": "b459cceb",
   "metadata": {},
   "outputs": [],
   "source": [
    "#Profitability Threshold ETC\n",
    "df['ETC Profatibilty Threshold [J/Hash]'] = (df['ETC / USD Denominated Closing Price'] * (df['ETC Block Reward per Second (USD)']+df['ETC / Mean Tx Fee per Second'])*0.6) /(df['ETC / Mean Hash Rate']*1000000000000*df['ElectricityPrice'])\n",
    "df['ETC Profatibilty Threshold [Hash/J]'] = 1/df['ETC Profatibilty Threshold [J/Hash]']\n",
    "df['ETC Profatibilty Threshold [MHash/J]'] = df['ETC Profatibilty Threshold [Hash/J]']/1000000"
   ]
  },
  {
   "cell_type": "code",
   "execution_count": null,
   "id": "677322a3",
   "metadata": {},
   "outputs": [],
   "source": [
    "max_index = df['ETH / Tx Fee per Second (USD)'].idxmax()\n"
   ]
  },
  {
   "cell_type": "code",
   "execution_count": null,
   "id": "547d0c1c",
   "metadata": {},
   "outputs": [],
   "source": [
    "from datetime import datetime\n",
    "# Assuming df is your DataFrame and 'column_name' is the name of your column\n",
    "index_value = datetime.strptime(\"2021-05-11 00:00:00\", \"%Y-%m-%d %H:%M:%S\")\n",
    "\n",
    "# Get the value before and after the specific index\n",
    "value_before = df.loc[max_index - pd.Timedelta(days=1), 'ETH / Tx Fee per Second (USD)']\n",
    "value_after = df.loc[max_index + pd.Timedelta(days=1), 'ETH / Tx Fee per Second (USD)']\n",
    "\n",
    "# Calculate the average\n",
    "average_value = (value_before + value_after) / 2\n",
    "\n",
    "# Replace the value at the specific index with the average value\n",
    "df.loc[max_index, 'ETH / Tx Fee per Second (USD)'] = average_value"
   ]
  },
  {
   "cell_type": "code",
   "execution_count": null,
   "id": "c7a888f9",
   "metadata": {},
   "outputs": [],
   "source": [
    "import pandas as pd\n",
    "import matplotlib.pyplot as plt\n",
    "import seaborn as sns\n",
    "\n",
    "start_date = pd.Timestamp('2017-01-01')\n",
    "end_date = pd.Timestamp('2022-12-31')\n",
    "sns.set(style=\"whitegrid\")\n",
    "ax = df.loc[start_date:end_date, ['ETH Block Reward per Second (USD)','ETH / Tx Fee per Second (USD)']].plot(figsize=(10,6), alpha =0.5)\n",
    "# add vertical line at Merge\n",
    "#ax.axvline(x='2022-09-15', color='green', linestyle='-', linewidth=2)\n",
    "#ax.set_yscale('log')\n",
    "\n",
    "# set the labels and title\n",
    "ax.set_title('', fontsize=20, fontweight='bold')\n",
    "ax.set_xlabel('', fontsize=16)\n",
    "ax.set_ylabel('', fontsize=16)\n",
    "ax.legend(fontsize=14)\n",
    "ax.tick_params(axis='both', labelsize=12)\n",
    "plt.savefig(\"MiningReward.png\")\n",
    "plt.show()"
   ]
  },
  {
   "cell_type": "code",
   "execution_count": null,
   "id": "e5579532",
   "metadata": {},
   "outputs": [],
   "source": [
    "df['Difference'] = df['ETC Profatibilty Threshold [MHash/J]']-df['ETH Profatibilty Threshold [MHash/J]']"
   ]
  },
  {
   "cell_type": "code",
   "execution_count": null,
   "id": "9b03b79e",
   "metadata": {},
   "outputs": [],
   "source": [
    "import pandas as pd\n",
    "import matplotlib.pyplot as plt\n",
    "import seaborn as sns\n",
    "\n",
    "start_date = pd.Timestamp('2017-01-01')\n",
    "end_date = pd.Timestamp('2022-12-17')\n",
    "sns.set(style=\"whitegrid\")\n",
    "ax = df.loc[start_date:end_date, ['ETH Profatibilty Threshold [MHash/J]']].plot(figsize=(10,6), alpha =0.5)\n",
    "# add vertical line at Merge\n",
    "#ax.axvline(x='2022-09-15', color='green', linestyle='-', linewidth=2)\n",
    "#ax.set_yscale('log')\n",
    "\n",
    "# set the labels and title\n",
    "ax.set_title('', fontsize=20, fontweight='bold')\n",
    "ax.set_xlabel('', fontsize=16)\n",
    "ax.set_ylabel('', fontsize=16)\n",
    "ax.legend(fontsize=14)\n",
    "ax.tick_params(axis='both', labelsize=12)\n",
    "plt.savefig(\"MiningReward.png\")\n",
    "plt.show()"
   ]
  },
  {
   "cell_type": "code",
   "execution_count": null,
   "id": "847694aa",
   "metadata": {},
   "outputs": [],
   "source": [
    "import pandas as pd\n",
    "import matplotlib.pyplot as plt\n",
    "import seaborn as sns\n",
    "\n",
    "start_date = pd.Timestamp('2017-01-01')\n",
    "end_date = pd.Timestamp('2022-12-31')\n",
    "sns.set(style=\"whitegrid\")\n",
    "ax = df.loc[start_date:end_date, ['ETH / Mean Hash Rate']].plot(figsize=(10,6), alpha =0.5)\n",
    "# add vertical line at Merge\n",
    "#ax.axvline(x='2022-09-15', color='green', linestyle='-', linewidth=2)\n",
    "#ax.set_yscale('log')\n",
    "\n",
    "# set the labels and title\n",
    "ax.set_title('', fontsize=20, fontweight='bold')\n",
    "ax.set_xlabel('', fontsize=16)\n",
    "ax.set_ylabel('', fontsize=16)\n",
    "ax.legend(fontsize=14)\n",
    "ax.tick_params(axis='both', labelsize=12)\n",
    "plt.savefig(\"MiningReward.png\")\n",
    "plt.show()"
   ]
  },
  {
   "cell_type": "code",
   "execution_count": null,
   "id": "c15d3d5e",
   "metadata": {},
   "outputs": [],
   "source": [
    "value = df.loc['2020-08-31', 'ETH / Mean Hash Rate']\n",
    "value"
   ]
  },
  {
   "cell_type": "code",
   "execution_count": null,
   "id": "08aeaf3e",
   "metadata": {},
   "outputs": [],
   "source": [
    "import pandas as pd\n",
    "import matplotlib.pyplot as plt\n",
    "import seaborn as sns\n",
    "\n",
    "start_date = pd.Timestamp('2017-01-01')\n",
    "end_date = pd.Timestamp('2022-09-14')\n",
    "sns.set(style=\"whitegrid\")\n",
    "ax = df.loc[start_date:end_date, ['ETH Block Reward per Day (Mio. USD)','ETH / Tx Fee per Day (Mio. USD)']].plot(figsize=(10,6), alpha =0.5)\n",
    "# add vertical line at Merge\n",
    "#ax.axvline(x='2022-09-15', color='green', linestyle='-', linewidth=2)\n",
    "#ax.set_yscale('log')\n",
    "\n",
    "# set the labels and title\n",
    "ax.set_title('', fontsize=20, fontweight='bold')\n",
    "ax.set_xlabel('', fontsize=16)\n",
    "ax.set_ylabel('', fontsize=16)\n",
    "ax.legend(fontsize=14)\n",
    "ax.tick_params(axis='both', labelsize=12)\n",
    "plt.savefig(\"MiningReward.png\")\n",
    "plt.show()"
   ]
  },
  {
   "cell_type": "code",
   "execution_count": null,
   "id": "d68d74a2",
   "metadata": {},
   "outputs": [],
   "source": [
    "#value = df.loc['2022-12-31', 'ETC Profatibilty Threshold [MHash/J]']\n",
    "#value"
   ]
  },
  {
   "cell_type": "markdown",
   "id": "7304fc95",
   "metadata": {},
   "source": [
    "# Rest"
   ]
  },
  {
   "cell_type": "code",
   "execution_count": null,
   "id": "ce9170eb",
   "metadata": {},
   "outputs": [],
   "source": [
    "df['ETH / Tx Fee per Day (USD)'] = (df['ETH / Tx Fee per Day (native units)']*\n",
    "df['ETH / USD Denominated Closing Price'])"
   ]
  },
  {
   "cell_type": "code",
   "execution_count": null,
   "id": "6c5cfa4b",
   "metadata": {},
   "outputs": [],
   "source": [
    "df['AMD RX 5700 XT / Mean Hash Rate'] = 0.00002"
   ]
  },
  {
   "cell_type": "code",
   "execution_count": null,
   "id": "8791f9e4",
   "metadata": {},
   "outputs": [],
   "source": [
    "df['AMD RX 5700 XT / Percentage Hash Rate']= df['AMD RX 5700 XT / Mean Hash Rate'] / df['ETH / Mean Hash Rate']"
   ]
  },
  {
   "cell_type": "code",
   "execution_count": null,
   "id": "5bf83feb",
   "metadata": {},
   "outputs": [],
   "source": [
    "df['ETH Block Reward per Day (USD)'] = df['ETH Block Reward per Day (native units)'] * df['ETH / USD Denominated Closing Price']"
   ]
  },
  {
   "cell_type": "code",
   "execution_count": null,
   "id": "ba7cea14",
   "metadata": {},
   "outputs": [],
   "source": [
    "df['ETH / Tx Fee per Day (Mio. USD)'] = df['ETH / Tx Fee per Day (USD)'] /1000000"
   ]
  },
  {
   "cell_type": "code",
   "execution_count": null,
   "id": "38478fa3",
   "metadata": {},
   "outputs": [],
   "source": [
    "df['ETH Block Reward per Day (Mio. USD)'] = df['ETH Block Reward per Day (USD)'] /1000000"
   ]
  },
  {
   "cell_type": "code",
   "execution_count": null,
   "id": "18d3e58d",
   "metadata": {},
   "outputs": [],
   "source": [
    "from datetime import datetime\n",
    "# Assuming df is your DataFrame and 'column_name' is the name of your column\n",
    "index_value = datetime.strptime(\"2021-05-12 00:00:00\", \"%Y-%m-%d %H:%M:%S\")\n",
    "\n",
    "# Get the value before and after the specific index\n",
    "value_before = df.loc[index_value - pd.Timedelta(days=3), 'ETH / Tx Fee per Day (Mio. USD)']\n",
    "value_after = df.loc[index_value + pd.Timedelta(days=3), 'ETH / Tx Fee per Day (Mio. USD)']\n",
    "\n",
    "# Calculate the average\n",
    "average_value = (value_before + value_after) / 2\n",
    "\n",
    "# Replace the value at the specific index with the average value\n",
    "df.loc[index_value, 'ETH / Tx Fee per Day (Mio. USD)'] = average_value"
   ]
  },
  {
   "cell_type": "code",
   "execution_count": null,
   "id": "72d744a4",
   "metadata": {},
   "outputs": [],
   "source": [
    "from datetime import datetime\n",
    "# Assuming df is your DataFrame and 'column_name' is the name of your column\n",
    "index_value = datetime.strptime(\"2022-05-01 00:00:00\", \"%Y-%m-%d %H:%M:%S\")\n",
    "\n",
    "# Get the value before and after the specific index\n",
    "value_before = df.loc[index_value - pd.Timedelta(days=1), 'ETH / Tx Fee per Day (Mio. USD)']\n",
    "value_after = df.loc[index_value + pd.Timedelta(days=1), 'ETH / Tx Fee per Day (Mio. USD)']\n",
    "\n",
    "# Calculate the average\n",
    "average_value = (value_before + value_after) / 2\n",
    "\n",
    "# Replace the value at the specific index with the average value\n",
    "df.loc[index_value, 'ETH / Tx Fee per Day (Mio. USD)'] = average_value"
   ]
  },
  {
   "cell_type": "code",
   "execution_count": null,
   "id": "4fd50432",
   "metadata": {},
   "outputs": [],
   "source": [
    "df['Total Reward per Day (Mio. USD)'] = df['ETH Block Reward per Day (Mio. USD)']+ df['ETH / Tx Fee per Day (Mio. USD)']"
   ]
  },
  {
   "cell_type": "code",
   "execution_count": null,
   "id": "8d93811d",
   "metadata": {},
   "outputs": [],
   "source": [
    "#df['Total Reward per Day (100k USD)'] = df['Total Reward per Day (USD)']/100000"
   ]
  },
  {
   "cell_type": "code",
   "execution_count": null,
   "id": "0db49296",
   "metadata": {},
   "outputs": [],
   "source": [
    "df['AMD RX 5700 XT / Total Reward per Day'] = df['Total Reward per Day (Mio. USD)'] * df['AMD RX 5700 XT / Percentage Hash Rate']"
   ]
  },
  {
   "cell_type": "code",
   "execution_count": null,
   "id": "43edbe72",
   "metadata": {},
   "outputs": [],
   "source": [
    "df['AMD RX 5700 XT / Total Reward per Day'].plot()"
   ]
  },
  {
   "cell_type": "code",
   "execution_count": null,
   "id": "b2dda92b",
   "metadata": {},
   "outputs": [],
   "source": [
    "df['Electricity Costs'] = 2.4 * 0.065"
   ]
  },
  {
   "cell_type": "code",
   "execution_count": null,
   "id": "11583947",
   "metadata": {},
   "outputs": [],
   "source": [
    "df['AMD RX 5700 XT / Total Profit per Day'] = df['AMD RX 5700 XT / Total Reward per Day']-df['Electricity Costs']"
   ]
  },
  {
   "cell_type": "code",
   "execution_count": null,
   "id": "bb090e59",
   "metadata": {},
   "outputs": [],
   "source": [
    "df['AMD RX 5700 XT / Total Profit per Day'].plot()"
   ]
  },
  {
   "cell_type": "code",
   "execution_count": null,
   "id": "40bd9bd9",
   "metadata": {},
   "outputs": [],
   "source": [
    "df['PercentageElectricity'] = df['Electricity Costs']/df['AMD RX 5700 XT / Total Reward per Day']"
   ]
  },
  {
   "cell_type": "code",
   "execution_count": null,
   "id": "1ea8acd1",
   "metadata": {},
   "outputs": [],
   "source": [
    "df['PercentageElectricity'].plot()"
   ]
  },
  {
   "cell_type": "code",
   "execution_count": null,
   "id": "c07a0a80",
   "metadata": {},
   "outputs": [],
   "source": [
    "# Specify the start and end dates for filtering\n",
    "start_date = pd.to_datetime('2019-09-14')\n",
    "end_date = pd.to_datetime('2022-09-14')\n",
    "\n",
    "# Filter the DataFrame based on the date range\n",
    "filtered_df = df.loc[(df.index >= start_date)]"
   ]
  },
  {
   "cell_type": "code",
   "execution_count": null,
   "id": "5756a7fd",
   "metadata": {},
   "outputs": [],
   "source": [
    "filtered_df['PercentageElectricity'].plot()"
   ]
  },
  {
   "cell_type": "code",
   "execution_count": null,
   "id": "5efae8f0",
   "metadata": {},
   "outputs": [],
   "source": [
    "# Resample the DataFrame to weekly frequency and calculate the average\n",
    "weekly_avg = df.resample('W').mean()"
   ]
  },
  {
   "cell_type": "code",
   "execution_count": null,
   "id": "f9fe0372",
   "metadata": {},
   "outputs": [],
   "source": [
    "# Assuming df is your DataFrame and 'column_name' is the name of your column\n",
    "max_value_index = df['ETH / Tx Fee per Day (Mio. USD)'].idxmax()\n",
    "\n",
    "print(max_value_index)"
   ]
  },
  {
   "cell_type": "code",
   "execution_count": null,
   "id": "fcc2ddc7",
   "metadata": {},
   "outputs": [],
   "source": [
    "df['ElectricityPrice'] = 0.065/3600000"
   ]
  },
  {
   "cell_type": "code",
   "execution_count": null,
   "id": "870d37e1",
   "metadata": {},
   "outputs": [],
   "source": [
    "#Profitability Threshold ETC\n",
    "df['ETH Profatibilty Threshold [J/Hash]'] = ((df['ETH Block Reward per Day (Mio. USD)']+df['ETH Block Reward per Day (Mio. USD)'])*1000000/(24*60*60)) /(df['ETH / Mean Hash Rate']*1000000000000*df['ElectricityPrice'])\n",
    "cutoff_date = pd.to_datetime('2022-09-14')\n",
    "df.loc[df.index > cutoff_date, 'ETH Profatibilty Threshold [J/Hash]'] = 0\n",
    "df['ETH Profatibilty Threshold [Hash/J]'] = 1/df['ETH Profatibilty Threshold [J/Hash]']"
   ]
  },
  {
   "cell_type": "markdown",
   "id": "6793c989",
   "metadata": {},
   "source": [
    "# Miner Revenue ETH\n",
    "\n",
    "The miner revenue consists of the Block-Reward and the Transaction-Fee. The Block-Reward is a fixed number set by the network itself. For Ethereum the timeline of the Block-Reward was as follows:\n",
    "\n",
    "- **July 30, 2015**: The Ethereum network is launched with a block reward of 5 ETH per block.\n",
    "\n",
    "- **October 12, 2017**: The Byzantium hard fork is implemented, which reduces the block reward from 5 ETH to 3 ETH per block.\n",
    "\n",
    "- **February 28, 2019**: The Constantinople hard fork is implemented, which reduces the block reward from 3 ETH to 2 ETH per block.\n",
    "\n",
    "The Transaction-Fee is a variable number which changes with every transaction. We will calculate the amount of Transaction-Fees per Block via the Amount of Transactions per Seconds and the Mean Transaction Fee that Day."
   ]
  },
  {
   "cell_type": "markdown",
   "id": "b8887b48",
   "metadata": {},
   "source": [
    "The miner revenue consists of the Block-Reward and the Transaction-Fee. The Block-Reward is a fixed number set by the network itself. For Ethereum the timeline of the Block-Reward was as follows:\n",
    "\n",
    "- Ethereum Classic launched in July 2016. ETC was distributed at a 1:1 ratio for all holders of the Ethereum blockchain’s original currency, ETH, after the fork: The Ethereum Classic network is launched with a block reward of 5 ETC per block.\n",
    "\n",
    "- **December 11, 2017**: The block reward was reduced from 5 ETC to 4 ETC per block.\n",
    "\n",
    "- **March 17, 2020**: The block reward was reduced from 4 ETC to 3.2 ETC per block.\n",
    "\n",
    "- **April 25, 2022**: The block reward was reduced from 3.2 ETC to 2.56 ETC per block.\n",
    "\n",
    "The Transaction-Fee is a variable number which changes with every transaction. We will calculate the amount of Transaction-Fees per Block via the Amount of Transactions per Seconds and the Mean Transaction Fee that Day."
   ]
  },
  {
   "cell_type": "code",
   "execution_count": null,
   "id": "2ecea47c",
   "metadata": {},
   "outputs": [],
   "source": [
    "#Block Reward\n",
    "df['ETC Block Reward'] = 5\n",
    "cutoff_date = pd.to_datetime('2017-12-11')\n",
    "df.loc[df.index > cutoff_date, 'ETC Block Reward'] = 4\n",
    "cutoff_date = pd.to_datetime('2020-03-17')\n",
    "df.loc[df.index > cutoff_date, 'ETC Block Reward'] = 3.2\n",
    "cutoff_date = pd.to_datetime('2021-04-25')\n",
    "df.loc[df.index > cutoff_date, 'ETC Block Reward'] = 2.56"
   ]
  },
  {
   "cell_type": "code",
   "execution_count": null,
   "id": "2ce097db",
   "metadata": {},
   "outputs": [],
   "source": [
    "#Transaction Fees\n",
    "df['ETC / Mean Tx Fee per Second'] = df['ETC / Mean Tx Fee (native units)']/df['ETC / Tx per Second Cnt']\n",
    "df['ETC / Mean Tx Fee per Block'] = df['ETC / Mean Tx Fee per Second']*13"
   ]
  },
  {
   "cell_type": "code",
   "execution_count": null,
   "id": "f8e3f045",
   "metadata": {},
   "outputs": [],
   "source": [
    "#Cumulative Miner Revenue\n",
    "df['ETC/SEC'] = (df['ETH Block Reward']+df['ETC / Mean Tx Fee per Block'])/13"
   ]
  },
  {
   "cell_type": "markdown",
   "id": "d715379b",
   "metadata": {},
   "source": [
    "## Mining Hardware Efficiencies\n",
    "\n",
    "The single most important running cost for miners is the amount they have to pay for electricty. Therefore, the efficiencies of mining hardware depends on two factors: the amount of hashes the hardware can perform per second and the amount of energy the hardware consumes per second. Together this gives a number of hashes that can be performed per Joule. Follwoing is a timeline of the most efficient Ethereum mining hardware with their respective release dates and mining efficiencies:\n",
    "\n",
    "\n",
    "\n",
    "- **November 19, 2014**: Nvidia GTX 970 (0.208 [Mh/J])\n",
    "\n",
    "- **May 27, 2016**: Nvidia GTX 1080 (0.219 [Mh/J]) \n",
    "- **June 20, 2016**: Nvidia Tesla P100-PCIE-16GB: (0.325 [Mh/J]) \n",
    "- **June 29, 2016**: AMD RX 480 (0.385 [Mh/J])\n",
    "- **August 4, 2016**: AMD RX 470 (0.451 [Mh/J]) \n",
    "- **December 07, 2017**: Nvidia Titan V (0.465 [Mh/J]) \n",
    "- **September 1, 2018**: Innosilicon A10 (0.667 [Mh/J]) \n",
    "- **May 14, 2020**: NVIDIA Tesla A100 (0.85 [Mh/J])\n",
    "- **December 1, 2020**: Linzhi Phoenix: (0.867 [Mh/J]) \n",
    "- **November 1, 2021**: Jasminer X4 Server (2.083 [Mh/J]) \n",
    "- **December 1, 2021**: Jasminer X4 Brick: (2.167 [Mh/J])\n",
    "\n"
   ]
  },
  {
   "cell_type": "code",
   "execution_count": null,
   "id": "c1524d1f",
   "metadata": {},
   "outputs": [],
   "source": [
    "df['Efficiency [Hash/J]'] = 0.3846153846*1000000\n",
    "cutoff_date = pd.to_datetime('2016-08-04')\n",
    "df.loc[df.index > cutoff_date, 'Efficiency [Hash/J]'] = 0.4509685714*1000000\n",
    "cutoff_date = pd.to_datetime('2017-12-07')\n",
    "df.loc[df.index > cutoff_date, 'Efficiency [Hash/J]'] = 0.46478125*1000000\n",
    "cutoff_date = pd.to_datetime('2018-09-01')\n",
    "df.loc[df.index > cutoff_date, 'Efficiency [Hash/J]'] = 0.6666666667*1000000\n",
    "cutoff_date = pd.to_datetime('2020-05-14')\n",
    "df.loc[df.index > cutoff_date, 'Efficiency [Hash/J]'] = 0.85*1000000\n",
    "cutoff_date = pd.to_datetime('2020-12-01')\n",
    "df.loc[df.index > cutoff_date, 'Efficiency [Hash/J]'] = 0.8666666667*1000000\n",
    "cutoff_date = pd.to_datetime('2021-11-01')\n",
    "df.loc[df.index > cutoff_date, 'Efficiency [Hash/J]'] = 2.083333333*1000000\n",
    "cutoff_date = pd.to_datetime('2021-12-01')\n",
    "df.loc[df.index > cutoff_date, 'Efficiency [Hash/J]'] = 2.166666667*1000000"
   ]
  },
  {
   "cell_type": "code",
   "execution_count": null,
   "id": "994f7234",
   "metadata": {},
   "outputs": [],
   "source": [
    "df['Efficiency [J/Hash]'] = 1/(df['Efficiency [Hash/J]'])"
   ]
  },
  {
   "cell_type": "code",
   "execution_count": null,
   "id": "3cea3de6",
   "metadata": {},
   "outputs": [],
   "source": [
    "df['ETH Lower Bound'] = df['Efficiency [J/Hash]'] *df['ETH / Mean Hash Rate']*1000"
   ]
  },
  {
   "cell_type": "code",
   "execution_count": null,
   "id": "fcaf0215",
   "metadata": {},
   "outputs": [],
   "source": [
    "df['ETH GPU Lower Bound'] = 1/(0.8666666667*1000000)* df['ETH / Mean Hash Rate']*1000"
   ]
  },
  {
   "cell_type": "code",
   "execution_count": null,
   "id": "8076a334",
   "metadata": {},
   "outputs": [],
   "source": [
    "df['ETH ASIC Lower Bound'] = 1/(2.166666667*1000000)* df['ETH / Mean Hash Rate']*1000"
   ]
  },
  {
   "cell_type": "markdown",
   "id": "bd4ca459",
   "metadata": {},
   "source": [
    "## Electricity Prices\n",
    "\n",
    "Electricity prices available to miners vary significantly from one region to another for a variety of reasons. We assume that on average, miners face a constant electricity price of 5 USD cents per kilowatt-hour (0.05 USD/kWh). This default value is based on in-depth conversations with miners worldwide and is consistent with estimates used in previous research."
   ]
  },
  {
   "cell_type": "markdown",
   "id": "448797f3",
   "metadata": {},
   "source": [
    "# Profitability Thresholds"
   ]
  },
  {
   "cell_type": "markdown",
   "id": "9881d971",
   "metadata": {},
   "source": [
    "One key idea is that miners will run the equipment as long as it remains economically profitable in electricity terms. To determine the time periods during which a given hardware type is profitable, we model the economic lifetime of each machine by taking into account total miner revenues, total network hashrate, hardware energy efficiency, and the average electricity price per kWh that miners have to pay."
   ]
  },
  {
   "cell_type": "code",
   "execution_count": null,
   "id": "cd6b39b7",
   "metadata": {},
   "outputs": [],
   "source": [
    "#Profitability Threshold ETC\n",
    "df['ETC Profatibilty Threshold [J/Hash]'] = (df['ETC / USD Denominated Closing Price'] * df['ETC/SEC']) /(df['ETC / Mean Hash Rate']*1000000000000*df['ElectricityPrice'])\n",
    "df['ETC Profatibilty Threshold [Hash/J]'] = 1/df['ETC Profatibilty Threshold [J/Hash]']"
   ]
  },
  {
   "cell_type": "markdown",
   "id": "2dbc4051",
   "metadata": {},
   "source": [
    "# The Merge"
   ]
  },
  {
   "cell_type": "code",
   "execution_count": null,
   "id": "0b65ead6",
   "metadata": {},
   "outputs": [],
   "source": [
    "#df['Max Energy']= df['ETH Profatibilty Threshold [J/Hash]'] * df['ETH / Mean Hash Rate'] *1000"
   ]
  },
  {
   "cell_type": "code",
   "execution_count": null,
   "id": "10ce4e68",
   "metadata": {},
   "outputs": [],
   "source": [
    "df['ETC Profatibilty Threshold [J/MHash]']=df['ETC Profatibilty Threshold [J/Hash]']*1000000\n",
    "df['ETH Profatibilty Threshold [J/MHash]']=df['ETH Profatibilty Threshold [J/Hash]']*1000000"
   ]
  },
  {
   "cell_type": "code",
   "execution_count": null,
   "id": "383be068",
   "metadata": {},
   "outputs": [],
   "source": [
    "df['ETC Profatibilty Threshold [MHash/J]']=1/df['ETC Profatibilty Threshold [J/MHash]']\n",
    "df['ETH Profatibilty Threshold [MHash/J]']=1/df['ETH Profatibilty Threshold [J/MHash]']"
   ]
  },
  {
   "cell_type": "markdown",
   "id": "bfc3479d",
   "metadata": {},
   "source": [
    "With The Merge Ethereum switched from Proof-of-Work to Proof-of-Stake and reduced its HashRate to effectively 0 from a value of approximately 850TH/s. Part of the Hashrate has switched over to Ethereum Classic which remains on the Proof-of-Work algorithm. The Profitability Threshold of Ethereum Classic is lower than that of Ethereum, so only the most efficient miners could afford to switch. This means we know the percentage of miners that were at least as efficient as the profitability threshold of ethereum Classic post-Merge."
   ]
  },
  {
   "cell_type": "code",
   "execution_count": null,
   "id": "627238fa",
   "metadata": {
    "scrolled": false
   },
   "outputs": [],
   "source": [
    "import pandas as pd\n",
    "import matplotlib.pyplot as plt\n",
    "import seaborn as sns\n",
    "\n",
    "start_date = pd.Timestamp('2021-01-01')\n",
    "end_date = pd.Timestamp('2022-12-31')\n",
    "sns.set(style=\"darkgrid\")\n",
    "ax = df.loc[start_date:end_date, ['ETH Profatibilty Threshold [MHash/J]','ETC Profatibilty Threshold [MHash/J]']].plot(figsize=(10,6))\n",
    "# add vertical line at Merge\n",
    "ax.axvline(x='2022-09-15', color='green', linestyle='-', linewidth=2)\n",
    "\n",
    "\n",
    "plt.savefig('myplot.png', dpi=300, bbox_inches='tight')\n",
    "plt.show()"
   ]
  },
  {
   "cell_type": "code",
   "execution_count": null,
   "id": "d729cd31",
   "metadata": {},
   "outputs": [],
   "source": [
    "value = df.loc['2022-09-14', 'ETH Profatibilty Threshold [MHash/J]']\n",
    "value"
   ]
  },
  {
   "cell_type": "code",
   "execution_count": null,
   "id": "07a565c3",
   "metadata": {},
   "outputs": [],
   "source": [
    "2.67/100000"
   ]
  },
  {
   "cell_type": "code",
   "execution_count": null,
   "id": "8ddac512",
   "metadata": {},
   "outputs": [],
   "source": [
    "df['MaxEnergy']= df['ETH Profatibilty Threshold [MHash/J]']*df['ETH / Mean Hash Rate']"
   ]
  },
  {
   "cell_type": "code",
   "execution_count": null,
   "id": "fb89d7e6",
   "metadata": {},
   "outputs": [],
   "source": [
    "import pandas as pd\n",
    "import matplotlib.pyplot as plt\n",
    "import seaborn as sns\n",
    "\n",
    "start_date = pd.Timestamp('2021-01-01')\n",
    "end_date = pd.Timestamp('2022-12-31')\n",
    "sns.set(style=\"darkgrid\")\n",
    "ax = df.loc[start_date:end_date, ['ETH / Mean Hash Rate', 'ETC / Mean Hash Rate']].plot(figsize=(10,6))\n",
    "# add vertical line at Merge\n",
    "ax.axvline(x='2022-09-15', color='green', linestyle='-', linewidth=2)\n",
    "\n",
    "# set the labels and title\n",
    "ax.set_title('Hash Rate of Ethereum and Ethereum Classic', fontsize=20, fontweight='bold')\n",
    "ax.set_xlabel('Date', fontsize=16)\n",
    "ax.set_ylabel('Hashrate in TH/s', fontsize=16)\n",
    "ax.tick_params(axis='both', labelsize=12)\n",
    "legend = ax.legend()\n",
    "legend.remove()\n",
    "bbox_args = dict(boxstyle=\"round\", fc=\"0.75\")\n",
    "ax.annotate('65TH/s', xy=(0.725, 0.225), xycoords='figure fraction',\n",
    "             xytext=(0, 0), textcoords='offset points',\n",
    "             ha=\"right\", va=\"top\",\n",
    "             bbox=bbox_args)\n",
    "bbox_args = dict(boxstyle=\"round\", fc=\"0.75\")\n",
    "ax.annotate('825TH/s', xy=(0.825, 0.7), xycoords='figure fraction',\n",
    "             xytext=(0, 0), textcoords='offset points',\n",
    "             ha=\"right\", va=\"top\",\n",
    "             bbox=bbox_args)\n",
    "bbox_args = dict(boxstyle=\"round\", fc=\"0.75\")\n",
    "ax.annotate('200TH/s', xy=(0.725, 0.35), xycoords='figure fraction',\n",
    "             xytext=(0, 0), textcoords='offset points',\n",
    "             ha=\"right\", va=\"top\",\n",
    "             bbox=bbox_args)\n",
    "plt.savefig('myplot1.png', dpi=300, bbox_inches='tight')\n",
    "plt.show()"
   ]
  },
  {
   "cell_type": "code",
   "execution_count": null,
   "id": "4c63c6c2",
   "metadata": {},
   "outputs": [],
   "source": [
    "import pandas as pd\n",
    "import matplotlib.pyplot as plt\n",
    "import seaborn as sns\n",
    "\n",
    "start_date = pd.Timestamp('2016-01-01')\n",
    "end_date = pd.Timestamp('2022-09-15')\n",
    "sns.set(style=\"whitegrid\")\n",
    "ax = df.loc[start_date:end_date, ['ETH Lower Bound']].plot(figsize=(10,6))\n",
    "# add vertical line at Merge\n",
    "#ax.axvline(x='2022-09-15', color='green', linestyle='-', linewidth=2)\n",
    "\n",
    "# set the labels and title\n",
    "ax.set_title('Power Consumption of Ethereum in GW', fontsize=20, fontweight='bold')\n",
    "ax.set_xlabel('', fontsize=16)\n",
    "ax.set_ylabel('', fontsize=16)\n",
    "ax.tick_params(axis='both', labelsize=12)\n",
    "legend = ax.legend()\n",
    "legend.remove()\n",
    "#bbox_args = dict(boxstyle=\"round\", fc=\"0.75\")\n",
    "#ax.annotate('65TH/s', xy=(0.725, 0.225), xycoords='figure fraction',\n",
    "            # xytext=(0, 0), textcoords='offset points',\n",
    "            # ha=\"right\", va=\"top\",\n",
    "             #bbox=bbox_args)\n",
    "#bbox_args = dict(boxstyle=\"round\", fc=\"0.75\")\n",
    "#ax.annotate('2GW', xy=(0.825, 0.7), xycoords='figure fraction',\n",
    "             #xytext=(0, 0), textcoords='offset points',\n",
    "             #ha=\"right\", va=\"top\",\n",
    "             #bbox=bbox_args)\n",
    "#bbox_args = dict(boxstyle=\"round\", fc=\"0.75\")\n",
    "#ax.annotate('200TH/s', xy=(0.725, 0.35), xycoords='figure fraction',\n",
    "            # xytext=(0, 0), textcoords='offset points',\n",
    "            # ha=\"right\", va=\"top\",\n",
    "            # bbox=bbox_args)\n",
    "plt.savefig('LowerBound.png', dpi=300, bbox_inches='tight')\n",
    "plt.show()"
   ]
  },
  {
   "cell_type": "code",
   "execution_count": null,
   "id": "481a9e24",
   "metadata": {},
   "outputs": [],
   "source": [
    "import pandas as pd\n",
    "import matplotlib.pyplot as plt\n",
    "import seaborn as sns\n",
    "\n",
    "start_date = pd.Timestamp('2017-01-01')\n",
    "end_date = pd.Timestamp('2022-12-31')\n",
    "sns.set(style=\"darkgrid\")\n",
    "ax = df.loc[start_date:end_date, 'MaxEnergy'].plot(figsize=(10,6))\n",
    "# add vertical line at Merge\n",
    "#ax.axvline(x='2022-09-15', color='green', linestyle='-', linewidth=2)\n",
    "\n",
    "# set the labels and title\n",
    "ax.set_title('Energy Consumption of Ethereum', fontsize=20, fontweight='bold')\n",
    "#ax.set_xlabel('Date', fontsize=16)\n",
    "ax.set_ylabel('Energy in GW', fontsize=16)\n",
    "ax.tick_params(axis='both', labelsize=12)\n",
    "legend = ax.legend()\n",
    "legend.remove()\n",
    "#bbox_args = dict(boxstyle=\"round\", fc=\"0.75\")\n",
    "#ax.annotate('65TH/s', xy=(0.725, 0.225), xycoords='figure fraction',\n",
    "            # xytext=(0, 0), textcoords='offset points',\n",
    "            # ha=\"right\", va=\"top\",\n",
    "             #bbox=bbox_args)\n",
    "bbox_args = dict(boxstyle=\"round\", fc=\"0.75\")\n",
    "ax.annotate('17.44GW', xy=(0.825, 0.3), xycoords='figure fraction',\n",
    "             xytext=(0, 0), textcoords='offset points',\n",
    "             ha=\"right\", va=\"top\",\n",
    "             bbox=bbox_args)\n",
    "#bbox_args = dict(boxstyle=\"round\", fc=\"0.75\")\n",
    "#ax.annotate('200TH/s', xy=(0.725, 0.35), xycoords='figure fraction',\n",
    "            # xytext=(0, 0), textcoords='offset points',\n",
    "            # ha=\"right\", va=\"top\",\n",
    "            # bbox=bbox_args)\n",
    "plt.savefig('myplot.png', dpi=300, bbox_inches='tight')\n",
    "plt.show()"
   ]
  },
  {
   "cell_type": "code",
   "execution_count": null,
   "id": "55efb52d",
   "metadata": {},
   "outputs": [],
   "source": [
    "print(df.loc['2022-09-14', 'Max Energy'])"
   ]
  },
  {
   "cell_type": "code",
   "execution_count": null,
   "id": "393cae37",
   "metadata": {},
   "outputs": [],
   "source": [
    "df['Best Guess'] = df['Max Energy'] * df['PercentageElectricity']"
   ]
  },
  {
   "cell_type": "code",
   "execution_count": null,
   "id": "7e4a2c6a",
   "metadata": {},
   "outputs": [],
   "source": [
    "import pandas as pd\n",
    "import matplotlib.pyplot as plt\n",
    "import seaborn as sns\n",
    "\n",
    "start_date = pd.Timestamp('2020-01-01')\n",
    "end_date = pd.Timestamp('2022-12-31')\n",
    "sns.set(style=\"darkgrid\")\n",
    "ax = df.loc[start_date:end_date, [ 'Best Guess']].plot(figsize=(10,6))\n",
    "# add vertical line at Merge\n",
    "#ax.axvline(x='2022-09-15', color='green', linestyle='-', linewidth=2)\n",
    "\n",
    "# set the labels and title\n",
    "ax.set_title('Energy Consumption of Ethereum', fontsize=20, fontweight='bold')\n",
    "#ax.set_xlabel('Date', fontsize=16)\n",
    "ax.set_ylabel('Energy in GW', fontsize=16)\n",
    "ax.tick_params(axis='both', labelsize=12)\n",
    "legend = ax.legend()\n",
    "legend.remove()\n",
    "bbox_args = dict(boxstyle=\"round\", fc=\"0.75\")\n",
    "ax.annotate('65TH/s', xy=(0.725, 0.225), xycoords='figure fraction',\n",
    "             xytext=(0, 0), textcoords='offset points',\n",
    "            ha=\"right\", va=\"top\",\n",
    "             bbox=bbox_args)\n",
    "bbox_args = dict(boxstyle=\"round\", fc=\"0.75\")\n",
    "ax.annotate('17.44GW', xy=(0.825, 0.4), xycoords='figure fraction',\n",
    "             xytext=(0, 0), textcoords='offset points',\n",
    "             ha=\"right\", va=\"top\",\n",
    "             bbox=bbox_args)\n",
    "bbox_args = dict(boxstyle=\"round\", fc=\"0.75\")\n",
    "ax.annotate('8.72GW', xy=(0.825, 0.3), xycoords='figure fraction',\n",
    "             xytext=(0, 0), textcoords='offset points',\n",
    "             ha=\"right\", va=\"top\",\n",
    "             bbox=bbox_args)\n",
    "bbox_args = dict(boxstyle=\"round\", fc=\"0.75\")\n",
    "ax.annotate('200TH/s', xy=(0.725, 0.35), xycoords='figure fraction',\n",
    "            xytext=(0, 0), textcoords='offset points',\n",
    "            ha=\"right\", va=\"top\",\n",
    "            bbox=bbox_args)\n",
    "plt.savefig('myplot.png', dpi=300, bbox_inches='tight')\n",
    "plt.show()"
   ]
  },
  {
   "cell_type": "code",
   "execution_count": null,
   "id": "5728bec0",
   "metadata": {},
   "outputs": [],
   "source": [
    "print(df.loc['2022-09-14', 'Best Guess'])"
   ]
  },
  {
   "cell_type": "code",
   "execution_count": null,
   "id": "cbd9c1d1",
   "metadata": {},
   "outputs": [],
   "source": [
    "df['Anteil']= df['ETC/SEC']*df['ETC / USD Denominated Closing Price']*df['ETH / Mean Hash Rate']/(df['ETH/SEC']*df['ETC / Mean Hash Rate']*df['ETH / USD Denominated Closing Price'])"
   ]
  },
  {
   "cell_type": "code",
   "execution_count": null,
   "id": "2f8ad3e8",
   "metadata": {},
   "outputs": [],
   "source": [
    "import matplotlib.pyplot as plt\n",
    "\n",
    "# Generate your plot here\n",
    "ax = df.loc[start_date:end_date, ['Anteil']].plot(figsize=(10,6))\n",
    "\n",
    "# Remove the title (column name) from the plot\n",
    "ax.set_title('')\n",
    "\n",
    "# Show the plot\n",
    "plt.show()"
   ]
  },
  {
   "cell_type": "markdown",
   "id": "16c170dc",
   "metadata": {},
   "source": [
    "One can see that on the Day of the Merge around 135TH/s were added onto the Ethereum Classic network. However at the end of September the addition only is 80-85TH/s. Assuming that non-profitable miners tried to switch but stopped after mining at a loss, only around 10 percent of Ethereum miners were at least as efficent as the Ethereum Classic profitability threshold post-Merge."
   ]
  },
  {
   "cell_type": "code",
   "execution_count": null,
   "id": "96907c3f",
   "metadata": {},
   "outputs": [],
   "source": [
    "import pandas as pd\n",
    "import matplotlib.pyplot as plt\n",
    "import seaborn as sns\n",
    "\n",
    "start_date = pd.Timestamp('2022-07-01')\n",
    "end_date = pd.Timestamp('2022-12-31')\n",
    "sns.set(style=\"darkgrid\")\n",
    "ax = df.loc[start_date:end_date, ['ETH Profatibilty Threshold [J/Hash]','Efficiency [J/Hash]']].plot(figsize=(10,6))\n",
    "# add vertical line at Merge\n",
    "#ax.axvline(x='2022-09-14', color='green', linestyle='-', linewidth=2)\n",
    "\n",
    "# set the labels and title\n",
    "ax.set_title('Profitability Thresholds of ETH & ETC', fontsize=20, fontweight='bold')\n",
    "ax.set_xlabel('Date', fontsize=16)\n",
    "ax.set_ylabel('Efficiency in J/MHash', fontsize=16)\n",
    "ax.legend(fontsize=14)\n",
    "ax.tick_params(axis='both', labelsize=12)\n",
    "bbox_args = dict(boxstyle=\"round\", fc=\"0.75\")\n",
    "ax.annotate('285J/MHash', xy=(0.5, 0.7), xycoords='figure fraction',\n",
    "             xytext=(0, 0), textcoords='offset points',\n",
    "             ha=\"right\", va=\"top\",\n",
    "             bbox=bbox_args)\n",
    "bbox_args = dict(boxstyle=\"round\", fc=\"0.75\")\n",
    "ax.annotate('0.46J/MHash', xy=(0.5, 0.21), xycoords='figure fraction',\n",
    "             xytext=(0, 0), textcoords='offset points',\n",
    "             ha=\"right\", va=\"top\",\n",
    "             bbox=bbox_args)\n",
    "plt.savefig('myplot.png', dpi=300, bbox_inches='tight')\n",
    "plt.show()"
   ]
  },
  {
   "cell_type": "code",
   "execution_count": null,
   "id": "9285c641",
   "metadata": {
    "scrolled": false
   },
   "outputs": [],
   "source": [
    "import pandas as pd\n",
    "import matplotlib.pyplot as plt\n",
    "import seaborn as sns\n",
    "\n",
    "start_date = pd.Timestamp('2022-07-01')\n",
    "end_date = pd.Timestamp('2022-12-31')\n",
    "sns.set(style=\"darkgrid\")\n",
    "ax = df.loc[start_date:end_date, ['ETH Profatibilty Threshold [J/Hash]','ETC Profatibilty Threshold [J/Hash]']].plot(figsize=(10,6))\n",
    "# add vertical line at Merge\n",
    "#ax.axvline(x='2022-09-14', color='green', linestyle='-', linewidth=2)\n",
    "\n",
    "# set the labels and title\n",
    "ax.set_title('Profitability Thresholds of Ethereum & Ethereum Classic', fontsize=20, fontweight='bold')\n",
    "ax.set_xlabel('Date', fontsize=16)\n",
    "ax.set_ylabel('Efficiency in J/MHash', fontsize=16)\n",
    "legend = ax.legend()\n",
    "legend.remove()\n",
    "ax.tick_params(axis='both', labelsize=12)\n",
    "plt.savefig('myplot2.png', dpi=300, bbox_inches='tight')\n",
    "plt.show()"
   ]
  },
  {
   "cell_type": "code",
   "execution_count": null,
   "id": "61594bcb",
   "metadata": {},
   "outputs": [],
   "source": [
    "import pandas as pd\n",
    "import matplotlib.pyplot as plt\n",
    "import seaborn as sns\n",
    "\n",
    "start_date = pd.Timestamp('2021-01-01')\n",
    "end_date = pd.Timestamp('2022-12-31')\n",
    "sns.set(style=\"darkgrid\")\n",
    "ax = df.loc[start_date:end_date, ['ETH GPU Lower Bound','ETH ASIC Lower Bound']].plot(figsize=(10,6))\n",
    "# add vertical line at Merge\n",
    "#ax.axvline(x='2022-09-14', color='green', linestyle='-', linewidth=2)\n",
    "\n",
    "# set the labels and title\n",
    "ax.set_title('Energy Consumption of Ethereum', fontsize=20, fontweight='bold')\n",
    "ax.set_xlabel('Date', fontsize=16)\n",
    "ax.set_ylabel('Energy in GW', fontsize=16)\n",
    "bbox_args = dict(boxstyle=\"round\", fc=\"0.75\")\n",
    "ax.annotate('1.9GW', xy=(0.8, 0.7), xycoords='figure fraction',\n",
    "             xytext=(0, 0), textcoords='offset points',\n",
    "             ha=\"right\", va=\"top\",\n",
    "             bbox=bbox_args)\n",
    "bbox_args = dict(boxstyle=\"round\", fc=\"0.75\")\n",
    "ax.annotate('0.76GW', xy=(0.8, 0.3), xycoords='figure fraction',\n",
    "             xytext=(0, 0), textcoords='offset points',\n",
    "             ha=\"right\", va=\"top\",\n",
    "             bbox=bbox_args)\n",
    "legend = ax.legend()\n",
    "legend.remove()\n",
    "ax.tick_params(axis='both', labelsize=12)\n",
    "plt.savefig('myplot3.png', dpi=300, bbox_inches='tight')\n",
    "plt.show()"
   ]
  },
  {
   "cell_type": "code",
   "execution_count": null,
   "id": "821692e1",
   "metadata": {},
   "outputs": [],
   "source": [
    "print(df.loc['2022-09-14', 'ETH GPU Lower Bound'])"
   ]
  },
  {
   "cell_type": "code",
   "execution_count": null,
   "id": "80e7b778",
   "metadata": {},
   "outputs": [],
   "source": [
    "print(df.loc['2022-09-14', 'ETH ASIC Lower Bound'])"
   ]
  },
  {
   "cell_type": "markdown",
   "id": "e96769d2",
   "metadata": {},
   "source": [
    "# Weighted Average Approach to Estimate Energy Consumption"
   ]
  },
  {
   "cell_type": "code",
   "execution_count": null,
   "id": "dbf6a1d5",
   "metadata": {},
   "outputs": [],
   "source": [
    "import random\n",
    "import pandas as pd\n",
    "import seaborn as sns\n",
    "sns.set(style=\"darkgrid\")\n",
    "\n",
    "# read the list of mining hardware and their efficiencies from a Excel file\n",
    "miners_df = pd.read_excel('/Users/patrickwoitschig/OneDrive/EconometricProject/EfficienciesETCPost.xlsx')\n",
    "\n",
    "# total number of miners\n",
    "num_miners = len(miners_df)\n",
    "\n",
    "# weights for each miner based on the known distribution of hardware efficiencies\n",
    "weights = []\n",
    "for efficiency in miners_df['Efficiency_J/h']:\n",
    "        weights.append(1/ num_miners)\n",
    "\n",
    "# estimate of the total hashrate of the network (in gigahashes per second)\n",
    "total_hashrate = 825506247530000*0.107\n",
    "\n",
    "# number of simulation iterations\n",
    "num_iterations = 1000\n",
    "\n",
    "# list to store the energy consumption estimates\n",
    "energy_consumption = []\n",
    "\n",
    "for i in range(num_iterations):\n",
    "    # generate a sample of mining hardware based on the weighted distribution of hardware efficiencies\n",
    "    miner = miners_df.sample(weights=weights).iloc[0]\n",
    "    # calculate the energy consumption estimate for this miner\n",
    "    energy = total_hashrate * miner['Efficiency_J/h']\n",
    "    energy_consumption.append(energy)\n",
    "\n",
    "# calculate summary statistics of energy consumption estimates\n",
    "mean_energy_low = sum(energy_consumption) / num_iterations\n",
    "median_energy_low = sorted(energy_consumption)[num_iterations // 2]\n",
    "lower_bound_low = sorted(energy_consumption)[int(num_iterations * 0.025)]\n",
    "upper_bound_low = sorted(energy_consumption)[int(num_iterations * 0.975)]\n",
    "\n",
    "# print results\n",
    "print(f\"Mean energy consumption: {mean_energy_low:.2f} J\")\n",
    "print(f\"Median energy consumption: {median_energy_low:.2f} J\")\n",
    "print(f\"95% confidence interval: ({lower_bound_low:.2f} J, {upper_bound_low:.2f} J)\")"
   ]
  },
  {
   "cell_type": "code",
   "execution_count": null,
   "id": "f37fc6fd",
   "metadata": {},
   "outputs": [],
   "source": [
    "import random\n",
    "import pandas as pd\n",
    "import seaborn as sns\n",
    "sns.set(style=\"darkgrid\")\n",
    "\n",
    "# read the list of mining hardware and their efficiencies from a Excel file\n",
    "miners_df = pd.read_excel('/Users/patrickwoitschig/OneDrive/EconometricProject/Efficiencies_ETH_Pre.xlsx')\n",
    "\n",
    "# total number of miners\n",
    "num_miners = len(miners_df)\n",
    "\n",
    "# weights for each miner based on the known distribution of hardware efficiencies\n",
    "weights = []\n",
    "for efficiency in miners_df['Efficiency_J/h']:\n",
    "        weights.append(1/ num_miners)\n",
    "\n",
    "# estimate of the total hashrate of the network (in gigahashes per second)\n",
    "total_hashrate = 825506247530000*(1-0.107)\n",
    "\n",
    "# number of simulation iterations\n",
    "num_iterations = 10000\n",
    "\n",
    "# list to store the energy consumption estimates\n",
    "energy_consumption = []\n",
    "\n",
    "for i in range(num_iterations):\n",
    "    # generate a sample of mining hardware based on the weighted distribution of hardware efficiencies\n",
    "    miner = miners_df.sample(weights=weights).iloc[0]\n",
    "    # calculate the energy consumption estimate for this miner\n",
    "    energy = total_hashrate * miner['Efficiency_J/h']\n",
    "    energy_consumption.append(energy)\n",
    "\n",
    "# calculate summary statistics of energy consumption estimates\n",
    "mean_energy_high = sum(energy_consumption) / num_iterations\n",
    "median_energy_high = sorted(energy_consumption)[num_iterations // 2]\n",
    "lower_bound_high = sorted(energy_consumption)[int(num_iterations * 0.025)]\n",
    "upper_bound_high = sorted(energy_consumption)[int(num_iterations * 0.975)]\n",
    "\n",
    "# print results\n",
    "print(f\"Mean energy consumption: {mean_energy_high:.2f} J\")\n",
    "print(f\"Median energy consumption: {median_energy_high:.2f} J\")\n",
    "print(f\"95% confidence interval: ({lower_bound_high:.2f} J, {upper_bound_high:.2f} J)\")"
   ]
  },
  {
   "cell_type": "code",
   "execution_count": null,
   "id": "cefabf08",
   "metadata": {},
   "outputs": [],
   "source": [
    "(mean_energy_high+ mean_energy_low)/1000000000"
   ]
  },
  {
   "cell_type": "code",
   "execution_count": null,
   "id": "47229485",
   "metadata": {},
   "outputs": [],
   "source": [
    "(lower_bound_low+lower_bound_high)/1000000000"
   ]
  },
  {
   "cell_type": "code",
   "execution_count": null,
   "id": "90744eb8",
   "metadata": {},
   "outputs": [],
   "source": [
    "(upper_bound_low+upper_bound_high)/1000000000"
   ]
  },
  {
   "cell_type": "markdown",
   "id": "3a0a3985",
   "metadata": {},
   "source": [
    "Previous estimates using a bottom-up approach (McDonald) have been 2.5GW and using a top-down approach (Digiconomist) around 9GW."
   ]
  },
  {
   "cell_type": "code",
   "execution_count": null,
   "id": "7dd83f84",
   "metadata": {},
   "outputs": [],
   "source": []
  },
  {
   "cell_type": "code",
   "execution_count": null,
   "id": "c2121e17",
   "metadata": {},
   "outputs": [],
   "source": []
  },
  {
   "cell_type": "code",
   "execution_count": null,
   "id": "3568a411",
   "metadata": {},
   "outputs": [],
   "source": []
  },
  {
   "cell_type": "code",
   "execution_count": null,
   "id": "4aac4703",
   "metadata": {},
   "outputs": [],
   "source": []
  },
  {
   "cell_type": "code",
   "execution_count": null,
   "id": "e2fa716f",
   "metadata": {},
   "outputs": [],
   "source": []
  },
  {
   "cell_type": "code",
   "execution_count": null,
   "id": "7265c452",
   "metadata": {},
   "outputs": [],
   "source": []
  },
  {
   "cell_type": "code",
   "execution_count": null,
   "id": "7a90744c",
   "metadata": {},
   "outputs": [],
   "source": []
  },
  {
   "cell_type": "code",
   "execution_count": null,
   "id": "c83edcae",
   "metadata": {},
   "outputs": [],
   "source": []
  },
  {
   "cell_type": "code",
   "execution_count": null,
   "id": "f9c85042",
   "metadata": {},
   "outputs": [],
   "source": [
    "df"
   ]
  },
  {
   "cell_type": "markdown",
   "id": "00e432da",
   "metadata": {},
   "source": [
    "# Maximum Possible Hash Rate\n",
    "\n",
    "Corresponding to the \n",
    "\n",
    "\n",
    "Assuming that everyone uses the most efficient hardware on the market one can calculate a maximum hash rate, which would let the network work at mining net zero profitability."
   ]
  },
  {
   "cell_type": "code",
   "execution_count": null,
   "id": "e6d1cb40",
   "metadata": {},
   "outputs": [],
   "source": [
    "df['ETH / Max Hash Rate'] = (df['ETH/SEC']*df['ETH / USD Denominated Closing Price'])/(df['ElectricityPrice']*df['Efficiency [J/Hash]'])*(1/1000000000000)"
   ]
  },
  {
   "cell_type": "code",
   "execution_count": null,
   "id": "722ae2fc",
   "metadata": {},
   "outputs": [],
   "source": [
    "import matplotlib.pyplot as plt\n",
    "import seaborn as sns\n",
    "\n",
    "start_date = pd.Timestamp('2017-01-01')\n",
    "end_date = pd.Timestamp('2022-09-30')\n",
    "sns.set(style=\"darkgrid\")\n",
    "ax = df.loc[start_date:end_date, ['ETH / Max Hash Rate','ETH / Mean Hash Rate']].plot(figsize=(10,6))\n",
    "ax.axvline(pd.Timestamp('2016-08-04'), color='b', linestyle='--')\n",
    "ax.axvline(pd.Timestamp('2017-12-07'), color='b', linestyle='--')\n",
    "ax.axvline(pd.Timestamp('2018-09-01'), color='b', linestyle='--')\n",
    "ax.axvline(pd.Timestamp('2020-05-14'), color='b', linestyle='--')\n",
    "ax.axvline(pd.Timestamp('2020-12-01'), color='b', linestyle='--')\n",
    "ax.axvline(pd.Timestamp('2021-11-01'), color='b', linestyle='--')\n",
    "\n",
    "# set the labels and title\n",
    "ax.set_title('Lower Bounds of Ethereum Energy Consumption', fontsize=20, fontweight='bold')\n",
    "ax.set_ylabel('Energy in GW', fontsize=16)\n",
    "ax.legend(fontsize=14)\n",
    "ax.tick_params(axis='both', labelsize=12)\n",
    "plt.savefig('myplot.png', dpi=300, bbox_inches='tight')\n",
    "plt.show()"
   ]
  },
  {
   "cell_type": "code",
   "execution_count": null,
   "id": "f4241781",
   "metadata": {},
   "outputs": [],
   "source": [
    "import matplotlib.pyplot as plt\n",
    "\n",
    "start_date = pd.Timestamp('2017-01-01')\n",
    "end_date = pd.Timestamp('2022-09-30')\n",
    "sns.set(style=\"darkgrid\")\n",
    "ax = df.loc[start_date:end_date, ['ETH / Max Hash Rate','ETH / Mean Hash Rate']].plot(figsize=(10,6),logy=True)\n",
    "ax.axvline(pd.Timestamp('2016-08-04'), color='b', linestyle='--')\n",
    "ax.axvline(pd.Timestamp('2017-12-07'), color='b', linestyle='--')\n",
    "ax.axvline(pd.Timestamp('2018-09-01'), color='b', linestyle='--')\n",
    "ax.axvline(pd.Timestamp('2020-05-14'), color='b', linestyle='--')\n",
    "ax.axvline(pd.Timestamp('2020-12-01'), color='b', linestyle='--')\n",
    "ax.axvline(pd.Timestamp('2021-11-01'), color='b', linestyle='--')\n",
    "\n",
    "# set the labels and title\n",
    "ax.set_title('Lower Bounds of Ethereum Energy Consumption', fontsize=20, fontweight='bold')\n",
    "ax.set_ylabel('Energy in GW', fontsize=16)\n",
    "ax.legend(fontsize=14)\n",
    "ax.tick_params(axis='both', labelsize=12)\n",
    "plt.savefig('myplot.png', dpi=300, bbox_inches='tight')\n",
    "plt.show()"
   ]
  },
  {
   "cell_type": "code",
   "execution_count": null,
   "id": "8c1a85de",
   "metadata": {},
   "outputs": [],
   "source": [
    "df_log = np.log(df[['ETH / Max Hash Rate','ETH / Mean Hash Rate']])"
   ]
  },
  {
   "cell_type": "code",
   "execution_count": null,
   "id": "74146f61",
   "metadata": {},
   "outputs": [],
   "source": [
    "df_log.plot()"
   ]
  },
  {
   "cell_type": "code",
   "execution_count": null,
   "id": "8e51717a",
   "metadata": {},
   "outputs": [],
   "source": [
    "df_log['ETH Difference'] = df_log['ETH / Max Hash Rate']-df_log['ETH / Mean Hash Rate']"
   ]
  },
  {
   "cell_type": "code",
   "execution_count": null,
   "id": "e707c8c9",
   "metadata": {},
   "outputs": [],
   "source": [
    "df_log = df_log.loc[df_log.index < '2022-09-15']"
   ]
  },
  {
   "cell_type": "code",
   "execution_count": null,
   "id": "28149403",
   "metadata": {
    "scrolled": true
   },
   "outputs": [],
   "source": [
    "# create a plot\n",
    "fig, ax = plt.subplots(figsize=(10, 6))\n",
    "ax.plot(df_log.index, df_log['ETH Difference'])\n",
    "ax.axvline(pd.Timestamp('2016-08-04'), color='b', linestyle='--')\n",
    "ax.axvline(pd.Timestamp('2017-12-07'), color='b', linestyle='--')\n",
    "ax.axvline(pd.Timestamp('2018-09-01'), color='b', linestyle='--')\n",
    "ax.axvline(pd.Timestamp('2020-05-14'), color='b', linestyle='--')\n",
    "ax.axvline(pd.Timestamp('2020-12-01'), color='b', linestyle='--')\n",
    "ax.axvline(pd.Timestamp('2021-11-01'), color='b', linestyle='--')\n",
    "# set x-axis label and title\n",
    "ax.set_xlabel('Date')\n",
    "ax.set_title('Difference of Log Hash Rate')\n",
    "\n",
    "# show the plot\n",
    "plt.show()\n"
   ]
  },
  {
   "cell_type": "code",
   "execution_count": null,
   "id": "65bf283e",
   "metadata": {},
   "outputs": [],
   "source": []
  },
  {
   "cell_type": "code",
   "execution_count": null,
   "id": "d87c8db1",
   "metadata": {},
   "outputs": [],
   "source": [
    "df_log['ETH / Active Addr Cnt'] = df['ETH / Active Addr Cnt']\n",
    "df_log['ETH / Tx per Second Cnt'] = df['ETH / Tx per Second Cnt']\n",
    "df_log['ETH / Mean Tx Size (native units)'] = df['ETH / Mean Tx Size (native units)']\n",
    "df_log['ETH / Mean Block Size (in bytes)'] = df['ETH / Mean Block Size (in bytes)']"
   ]
  },
  {
   "cell_type": "code",
   "execution_count": null,
   "id": "6de42d05",
   "metadata": {},
   "outputs": [],
   "source": [
    "df_log = df_log.loc[df_log.index > '2016-06-30']"
   ]
  },
  {
   "cell_type": "code",
   "execution_count": null,
   "id": "cbb40370",
   "metadata": {},
   "outputs": [],
   "source": [
    "df_log['ETH / Mean Hash Rate'] = df_log['ETH / Mean Hash Rate'].diff().dropna()"
   ]
  },
  {
   "cell_type": "code",
   "execution_count": null,
   "id": "e28dfb49",
   "metadata": {},
   "outputs": [],
   "source": [
    "df_log['DiffInDiff'] = df_log['ETH Difference'].diff().dropna()\n",
    "df_log['ETH / Mean Tx Size (native units)'] = np.log(df_log['ETH / Mean Tx Size (native units)'])\n",
    "df_log['ETH / Mean Tx Size (native units)'] = df_log['ETH / Mean Tx Size (native units)'].diff().dropna()\n",
    "df_log['ETH / Active Addr Cnt'] = np.log(df_log['ETH / Active Addr Cnt'])\n",
    "df_log['ETH / Active Addr Cnt'] = df_log['ETH / Active Addr Cnt'].diff().dropna()\n",
    "df_log['ETH / Tx per Second Cnt'] = np.log(df_log['ETH / Tx per Second Cnt'])\n",
    "df_log['ETH / Tx per Second Cnt'] = df_log['ETH / Tx per Second Cnt'].diff().dropna()\n",
    "df_log['ETH / Mean Block Size (in bytes)'] = np.log(df_log['ETH / Mean Block Size (in bytes)'])\n",
    "df_log['ETH / Mean Block Size (in bytes)'] = df_log['ETH / Mean Block Size (in bytes)'].diff().dropna()"
   ]
  },
  {
   "cell_type": "code",
   "execution_count": null,
   "id": "ccff6cc7",
   "metadata": {},
   "outputs": [],
   "source": [
    "ax.axvline(pd.Timestamp('2016-08-04'), color='b', linestyle='--')\n",
    "ax.axvline(pd.Timestamp('2017-12-07'), color='b', linestyle='--')"
   ]
  },
  {
   "cell_type": "code",
   "execution_count": null,
   "id": "b1266330",
   "metadata": {},
   "outputs": [],
   "source": [
    "df_log = df_log.loc[df_log.index > '2016-08-04']"
   ]
  },
  {
   "cell_type": "code",
   "execution_count": null,
   "id": "6256f963",
   "metadata": {},
   "outputs": [],
   "source": [
    "df_log = df_log.loc[df_log.index < '2017-12-07']"
   ]
  },
  {
   "cell_type": "code",
   "execution_count": null,
   "id": "2dca32c8",
   "metadata": {
    "scrolled": true
   },
   "outputs": [],
   "source": [
    "df_log = df_log.dropna()"
   ]
  },
  {
   "cell_type": "code",
   "execution_count": null,
   "id": "c47d3d21",
   "metadata": {},
   "outputs": [],
   "source": [
    "df_log"
   ]
  },
  {
   "cell_type": "code",
   "execution_count": null,
   "id": "b83c53b9",
   "metadata": {
    "scrolled": false
   },
   "outputs": [],
   "source": [
    "import pandas as pd\n",
    "import statsmodels.api as sm\n",
    "\n",
    "# select a subset of the columns\n",
    "cols = ['ETH / Mean Hash Rate', 'ETH / Mean Tx Size (native units)', 'ETH / Active Addr Cnt', 'ETH / Tx per Second Cnt']\n",
    "data_subset = df_log[cols]\n",
    "\n",
    "# create a VAR model with two lags\n",
    "model = sm.tsa.VAR(data_subset)\n",
    "results = model.fit(2)\n",
    "\n",
    "results.summary()"
   ]
  },
  {
   "cell_type": "code",
   "execution_count": null,
   "id": "879de12f",
   "metadata": {},
   "outputs": [],
   "source": [
    "import pandas as pd\n",
    "import numpy as np\n",
    "import matplotlib.pyplot as plt\n",
    "from keras.models import Sequential\n",
    "from keras.layers import Dense, LSTM\n",
    "from sklearn.preprocessing import MinMaxScaler\n",
    "\n",
    "# read the time series data from a CSV file\n",
    "cols = ['DiffInDiff', 'ETH / Active Addr Cnt', 'ETH / Tx per Second Cnt', 'ETH / Mean Tx Size (USD)', 'ETH / Mean Block Size (in bytes)']\n",
    "data = weekly_data[cols]\n",
    "\n",
    "# normalize the data to the range [0, 1]\n",
    "scaler = MinMaxScaler(feature_range=(0, 1))\n",
    "data_normalized = scaler.fit_transform(data)\n",
    "\n",
    "# split the data into training and testing sets\n",
    "train_size = int(len(data_normalized) * 0.95)\n",
    "train_data = data_normalized[:train_size, :]\n",
    "test_data = data_normalized[train_size:, :]\n",
    "\n",
    "# create a sliding window sequence of inputs and outputs\n",
    "window_size = 3\n",
    "X_train, y_train = [], []\n",
    "for i in range(window_size, len(train_data)):\n",
    "    X_train.append(train_data[i-window_size:i, :])\n",
    "    y_train.append(train_data[i, :])\n",
    "X_train, y_train = np.array(X_train), np.array(y_train)\n",
    "\n",
    "# create a neural network model\n",
    "model = Sequential()\n",
    "model.add(LSTM(50, input_shape=(X_train.shape[1], X_train.shape[2])))\n",
    "model.add(Dense(5))\n",
    "model.compile(loss='mean_squared_error', optimizer='adam')\n",
    "\n",
    "# train the model on the training data\n",
    "model.fit(X_train, y_train, epochs=100, batch_size=32, verbose=2)\n",
    "\n",
    "# make predictions on the testing data\n",
    "inputs = data_normalized[len(data_normalized) - len(test_data) - window_size:]\n",
    "X_test = []\n",
    "for i in range(window_size, len(inputs)):\n",
    "    X_test.append(inputs[i-window_size:i, :])\n",
    "X_test = np.array(X_test)\n",
    "predictions = model.predict(X_test)\n",
    "predictions = scaler.inverse_transform(predictions)\n",
    "\n",
    "# plot the predicted and actual values\n",
    "plt.plot(data.index[-len(test_data):], test_data[:, 0])\n",
    "plt.plot(data.index[-len(test_data):], predictions[:, 0])\n",
    "plt.legend(['Actual', 'Predicted'])\n",
    "plt.show()"
   ]
  },
  {
   "cell_type": "code",
   "execution_count": null,
   "id": "b1020175",
   "metadata": {},
   "outputs": [],
   "source": [
    "weekly_data = df_log.resample(rule='W').mean()"
   ]
  },
  {
   "cell_type": "code",
   "execution_count": null,
   "id": "77b51f49",
   "metadata": {},
   "outputs": [],
   "source": [
    "# Create a custom design matrix with the restriction\n",
    "exog = np.zeros_like(dataframe)\n",
    "exog[:, 1, 1] = 1\n",
    "exog[:, 2, 1] = 1\n",
    "\n",
    "# Estimate the VAR model with the restriction\n",
    "var_model = VAR(dataframe)\n",
    "results = var_model.fit(2, exog=exog)"
   ]
  },
  {
   "cell_type": "code",
   "execution_count": null,
   "id": "1c2948f5",
   "metadata": {},
   "outputs": [],
   "source": [
    "# Import the VAR model and matplotlib\n",
    "from statsmodels.tsa.api import VAR\n",
    "import matplotlib.pyplot as plt\n",
    "\n",
    "# Estimate the VAR model\n",
    "var_model = VAR(data_subset)\n",
    "results = var_model.fit(2)\n",
    "\n",
    "# Generate in-sample predictions for the second variable\n",
    "pred = results.fittedvalues.iloc[:, 1]\n",
    "\n",
    "# Plot the original and estimated series for the second variable\n",
    "fig, ax = plt.subplots(figsize=(10,6))\n",
    "ax.plot(data_subset.iloc[:, 1], label='Original')\n",
    "ax.plot(pred, label='Estimated')\n",
    "ax.legend()\n",
    "plt.show()"
   ]
  },
  {
   "cell_type": "code",
   "execution_count": null,
   "id": "b0ddf49d",
   "metadata": {},
   "outputs": [],
   "source": [
    "df_log = df_log.loc[df_log.index > '2016-12-31']"
   ]
  },
  {
   "cell_type": "code",
   "execution_count": null,
   "id": "efde4313",
   "metadata": {},
   "outputs": [],
   "source": []
  },
  {
   "cell_type": "code",
   "execution_count": null,
   "id": "ef7d4c66",
   "metadata": {},
   "outputs": [],
   "source": []
  },
  {
   "cell_type": "code",
   "execution_count": null,
   "id": "08df21e6",
   "metadata": {},
   "outputs": [],
   "source": [
    "df['ETC / Mean Tx Fee per Second'] = df['ETC / Mean Tx Fee (native units)']/df['ETC / Tx per Second Cnt']"
   ]
  },
  {
   "cell_type": "code",
   "execution_count": null,
   "id": "7b0562f6",
   "metadata": {},
   "outputs": [],
   "source": [
    "df['ETC / Mean Tx Fee per Block'] = df['ETC / Mean Tx Fee per Second']*13"
   ]
  },
  {
   "cell_type": "code",
   "execution_count": null,
   "id": "db2b92c6",
   "metadata": {},
   "outputs": [],
   "source": [
    "df['ETC Block Reward'] = 5\n",
    "cutoff_date = pd.to_datetime('2017-12-07')\n",
    "df.loc[df.index > cutoff_date, 'ETC Block Reward'] = 4\n",
    "cutoff_date = pd.to_datetime('2020-03-05')\n",
    "df.loc[df.index > cutoff_date, 'ETC Block Reward'] = 3.2\n",
    "cutoff_date = pd.to_datetime('2021-07-15')\n",
    "df.loc[df.index > cutoff_date, 'ETC Block Reward'] = 2.56"
   ]
  },
  {
   "cell_type": "code",
   "execution_count": null,
   "id": "58a411a6",
   "metadata": {},
   "outputs": [],
   "source": [
    "cutoff_date = pd.to_datetime('2017-12-07')\n",
    "df.loc[df.index > cutoff_date, 'ETC Block Reward'] = 4"
   ]
  },
  {
   "cell_type": "code",
   "execution_count": null,
   "id": "48b67cba",
   "metadata": {},
   "outputs": [],
   "source": [
    "cutoff_date = pd.to_datetime('2020-03-05')\n",
    "df.loc[df.index > cutoff_date, 'ETC Block Reward'] = 3.2"
   ]
  },
  {
   "cell_type": "code",
   "execution_count": null,
   "id": "b7fe37ec",
   "metadata": {},
   "outputs": [],
   "source": [
    "cutoff_date = pd.to_datetime('2021-07-15')\n",
    "df.loc[df.index > cutoff_date, 'ETC Block Reward'] = 2.56"
   ]
  },
  {
   "cell_type": "code",
   "execution_count": null,
   "id": "dfafc976",
   "metadata": {},
   "outputs": [],
   "source": [
    "df['ETC/SEC'] = (df['ETH Block Reward']+df['ETC / Mean Tx Fee per Block'])/13"
   ]
  },
  {
   "cell_type": "code",
   "execution_count": null,
   "id": "528e98f7",
   "metadata": {},
   "outputs": [],
   "source": [
    "df['ETC / Max Hash Rate'] = (df['ETC/SEC']*df['ETC / USD Denominated Closing Price'])/(df['ElectricityPrice']*df['Efficiency [J/MH]'])*(1/1000000000000)"
   ]
  },
  {
   "cell_type": "code",
   "execution_count": null,
   "id": "d4652acc",
   "metadata": {},
   "outputs": [],
   "source": [
    "df[['ETC / Max Hash Rate','ETC / Mean Hash Rate']].plot()"
   ]
  },
  {
   "cell_type": "code",
   "execution_count": null,
   "id": "c68d60bb",
   "metadata": {},
   "outputs": [],
   "source": [
    "import matplotlib.pyplot as plt\n",
    "import numpy as np\n",
    "\n",
    "# create plot\n",
    "ax = df[['ETC / Max Hash Rate','ETC / Mean Hash Rate']].plot(logy=True)\n",
    "\n",
    "# set y-axis label\n",
    "ax.set_ylabel('Value (log scale)')\n",
    "\n",
    "# show plot\n",
    "plt.show()"
   ]
  },
  {
   "cell_type": "code",
   "execution_count": null,
   "id": "2937feba",
   "metadata": {},
   "outputs": [],
   "source": [
    "df_log = np.log(df[['ETC / Max Hash Rate','ETC / Mean Hash Rate']])"
   ]
  },
  {
   "cell_type": "code",
   "execution_count": null,
   "id": "3f053b44",
   "metadata": {},
   "outputs": [],
   "source": [
    "df_log['ETC Difference'] = df_log['ETC / Max Hash Rate']-df_log['ETC / Mean Hash Rate']"
   ]
  },
  {
   "cell_type": "code",
   "execution_count": null,
   "id": "9b33597b",
   "metadata": {},
   "outputs": [],
   "source": [
    "# create a plot\n",
    "fig, ax = plt.subplots(figsize=(10, 6))\n",
    "ax.plot(df_log.index, df_log['ETC Difference'])\n",
    "ax.axvline(pd.Timestamp('2016-08-04'), color='r', linestyle='--')\n",
    "ax.axvline(pd.Timestamp('2017-12-07'), color='r', linestyle='--')\n",
    "ax.axvline(pd.Timestamp('2018-09-01'), color='r', linestyle='--')\n",
    "ax.axvline(pd.Timestamp('2020-05-14'), color='r', linestyle='--')\n",
    "ax.axvline(pd.Timestamp('2020-12-01'), color='r', linestyle='--')\n",
    "ax.axvline(pd.Timestamp('2021-11-01'), color='r', linestyle='--')\n",
    "ax.axhline(0, color='b', linestyle='--')\n",
    "# set x-axis label and title\n",
    "ax.set_xlabel('Date')\n",
    "ax.set_title('Difference of Log Hash Rate')\n",
    "\n",
    "# show the plot\n",
    "plt.show()"
   ]
  },
  {
   "cell_type": "code",
   "execution_count": null,
   "id": "151af5a8",
   "metadata": {},
   "outputs": [],
   "source": [
    "df['ETC Profatibilty Threshold'] = (df['ETC / USD Denominated Closing Price'] * df['ETC/SEC']) /(df['ETC / Mean Hash Rate']*df['ElectricityPrice'])"
   ]
  },
  {
   "cell_type": "code",
   "execution_count": null,
   "id": "623f26a7",
   "metadata": {},
   "outputs": [],
   "source": [
    "df['ETH Profatibilty Threshold'] = (df['ETH / USD Denominated Closing Price'] * df['ETH/SEC']) /(df['ETH / Mean Hash Rate']*df['ElectricityPrice'])"
   ]
  },
  {
   "cell_type": "code",
   "execution_count": null,
   "id": "cc545c12",
   "metadata": {},
   "outputs": [],
   "source": [
    "cutoff_date = pd.to_datetime('2022-09-14')\n",
    "df.loc[df.index > cutoff_date, 'ETH Profatibilty Threshold'] = 0"
   ]
  },
  {
   "cell_type": "code",
   "execution_count": null,
   "id": "e09c5913",
   "metadata": {},
   "outputs": [],
   "source": [
    "df1 = df.loc[df.index > '2020-12-31']"
   ]
  },
  {
   "cell_type": "code",
   "execution_count": null,
   "id": "81416ce4",
   "metadata": {},
   "outputs": [],
   "source": [
    "df1[['ETH Profatibilty Threshold','ETC Profatibilty Threshold']].plot()"
   ]
  },
  {
   "cell_type": "code",
   "execution_count": null,
   "id": "e3475254",
   "metadata": {},
   "outputs": [],
   "source": [
    "df1['ETC / Mean Hash Rate']"
   ]
  },
  {
   "cell_type": "code",
   "execution_count": null,
   "id": "ddf64b36",
   "metadata": {},
   "outputs": [],
   "source": [
    "specific_day = pd.to_datetime('2022-09-14')\n",
    "value_for_specific_day1 = df1.loc[specific_day, 'ETC / Mean Hash Rate']\n",
    "\n",
    "print(value_for_specific_day1)"
   ]
  },
  {
   "cell_type": "code",
   "execution_count": null,
   "id": "8b37d414",
   "metadata": {},
   "outputs": [],
   "source": [
    "specific_day = pd.to_datetime('2022-09-15')\n",
    "value_for_specific_day2 = df1.loc[specific_day, 'ETC / Mean Hash Rate']\n",
    "\n",
    "print(value_for_specific_day2)"
   ]
  },
  {
   "cell_type": "code",
   "execution_count": null,
   "id": "71a5809c",
   "metadata": {},
   "outputs": [],
   "source": [
    "df1['ETC / Mean Hash Rate'].plot()"
   ]
  },
  {
   "cell_type": "code",
   "execution_count": null,
   "id": "912cc2fa",
   "metadata": {},
   "outputs": [],
   "source": [
    "addition =value_for_specific_day2 - value_for_specific_day1"
   ]
  },
  {
   "cell_type": "code",
   "execution_count": null,
   "id": "a7ac8352",
   "metadata": {},
   "outputs": [],
   "source": [
    "specific_day = pd.to_datetime('2022-09-14')\n",
    "value_for_specific_day = df1.loc[specific_day, 'ETH / Mean Hash Rate']\n",
    "\n",
    "print(value_for_specific_day)"
   ]
  },
  {
   "cell_type": "code",
   "execution_count": null,
   "id": "a770002f",
   "metadata": {},
   "outputs": [],
   "source": [
    "addition/value_for_specific_day"
   ]
  },
  {
   "cell_type": "code",
   "execution_count": null,
   "id": "ad0f469c",
   "metadata": {},
   "outputs": [],
   "source": [
    "specific_day = pd.to_datetime('2022-09-15')\n",
    "value_for_specific_day = df1.loc[specific_day, 'ETC Profatibilty Threshold']\n",
    "\n",
    "print(value_for_specific_day)"
   ]
  },
  {
   "cell_type": "code",
   "execution_count": null,
   "id": "1448b027",
   "metadata": {},
   "outputs": [],
   "source": [
    "specific_day = pd.to_datetime('2022-09-15')\n",
    "value_for_specific_day = df1.loc[specific_day, 'Efficiency [J/MH]']\n",
    "\n",
    "print(value_for_specific_day)"
   ]
  },
  {
   "cell_type": "code",
   "execution_count": null,
   "id": "4a1fbff9",
   "metadata": {},
   "outputs": [],
   "source": [
    "specific_day = pd.to_datetime('2022-09-15')\n",
    "value_for_specific_day = df1.loc[specific_day, 'ETC Profatibilty Threshold']\n",
    "\n",
    "print(value_for_specific_day)"
   ]
  },
  {
   "cell_type": "code",
   "execution_count": null,
   "id": "59162c68",
   "metadata": {},
   "outputs": [],
   "source": [
    "1/1.963570180464531e-06"
   ]
  },
  {
   "cell_type": "code",
   "execution_count": null,
   "id": "9d514a87",
   "metadata": {},
   "outputs": [],
   "source": [
    "509276.4241120352/1000000"
   ]
  },
  {
   "cell_type": "code",
   "execution_count": null,
   "id": "f941d51d",
   "metadata": {},
   "outputs": [],
   "source": [
    "specific_day = pd.to_datetime('2022-09-14')\n",
    "value_for_specific_day = df1.loc[specific_day, 'ETH Profatibilty Threshold']\n",
    "\n",
    "print(value_for_specific_day)"
   ]
  },
  {
   "cell_type": "code",
   "execution_count": null,
   "id": "41baa74a",
   "metadata": {},
   "outputs": [],
   "source": [
    "1/2.1110398948871554e-05"
   ]
  },
  {
   "cell_type": "code",
   "execution_count": null,
   "id": "95c19d47",
   "metadata": {},
   "outputs": [],
   "source": [
    "47370.01903289253/1000000"
   ]
  },
  {
   "cell_type": "code",
   "execution_count": null,
   "id": "e3eceb91",
   "metadata": {},
   "outputs": [],
   "source": [
    "df1 = df.loc[df.index > '2022-07-31']\n",
    "df1 = df1.loc[df1.index < '2022-12-31']"
   ]
  },
  {
   "cell_type": "code",
   "execution_count": null,
   "id": "6eb9c337",
   "metadata": {},
   "outputs": [],
   "source": [
    "df1[['ETH Profatibilty Threshold','ETC Profatibilty Threshold', 'Efficiency [J/MH]']].plot()"
   ]
  },
  {
   "cell_type": "code",
   "execution_count": 56,
   "id": "0215ea47",
   "metadata": {},
   "outputs": [
    {
     "ename": "FileNotFoundError",
     "evalue": "[Errno 2] No such file or directory: '/Users/patrickwoitschig/OneDrive/EconometricProject/EfficienciesETCPost.xlsx'",
     "output_type": "error",
     "traceback": [
      "\u001b[0;31m---------------------------------------------------------------------------\u001b[0m",
      "\u001b[0;31mFileNotFoundError\u001b[0m                         Traceback (most recent call last)",
      "\u001b[0;32m/var/folders/_b/28jfj19121qf32rdzd8twc000000gn/T/ipykernel_40579/1218628370.py\u001b[0m in \u001b[0;36m<module>\u001b[0;34m\u001b[0m\n\u001b[1;32m      3\u001b[0m \u001b[0;34m\u001b[0m\u001b[0m\n\u001b[1;32m      4\u001b[0m \u001b[0;31m# read the list of mining hardware and their efficiencies from a Excel file\u001b[0m\u001b[0;34m\u001b[0m\u001b[0;34m\u001b[0m\u001b[0m\n\u001b[0;32m----> 5\u001b[0;31m \u001b[0mminers_df\u001b[0m \u001b[0;34m=\u001b[0m \u001b[0mpd\u001b[0m\u001b[0;34m.\u001b[0m\u001b[0mread_excel\u001b[0m\u001b[0;34m(\u001b[0m\u001b[0;34m'/Users/patrickwoitschig/OneDrive/EconometricProject/EfficienciesETCPost.xlsx'\u001b[0m\u001b[0;34m)\u001b[0m\u001b[0;34m\u001b[0m\u001b[0;34m\u001b[0m\u001b[0m\n\u001b[0m\u001b[1;32m      6\u001b[0m \u001b[0;34m\u001b[0m\u001b[0m\n\u001b[1;32m      7\u001b[0m \u001b[0;31m# total number of miners\u001b[0m\u001b[0;34m\u001b[0m\u001b[0;34m\u001b[0m\u001b[0m\n",
      "\u001b[0;32m/opt/anaconda3/lib/python3.9/site-packages/pandas/util/_decorators.py\u001b[0m in \u001b[0;36mwrapper\u001b[0;34m(*args, **kwargs)\u001b[0m\n\u001b[1;32m    309\u001b[0m                     \u001b[0mstacklevel\u001b[0m\u001b[0;34m=\u001b[0m\u001b[0mstacklevel\u001b[0m\u001b[0;34m,\u001b[0m\u001b[0;34m\u001b[0m\u001b[0;34m\u001b[0m\u001b[0m\n\u001b[1;32m    310\u001b[0m                 )\n\u001b[0;32m--> 311\u001b[0;31m             \u001b[0;32mreturn\u001b[0m \u001b[0mfunc\u001b[0m\u001b[0;34m(\u001b[0m\u001b[0;34m*\u001b[0m\u001b[0margs\u001b[0m\u001b[0;34m,\u001b[0m \u001b[0;34m**\u001b[0m\u001b[0mkwargs\u001b[0m\u001b[0;34m)\u001b[0m\u001b[0;34m\u001b[0m\u001b[0;34m\u001b[0m\u001b[0m\n\u001b[0m\u001b[1;32m    312\u001b[0m \u001b[0;34m\u001b[0m\u001b[0m\n\u001b[1;32m    313\u001b[0m         \u001b[0;32mreturn\u001b[0m \u001b[0mwrapper\u001b[0m\u001b[0;34m\u001b[0m\u001b[0;34m\u001b[0m\u001b[0m\n",
      "\u001b[0;32m/opt/anaconda3/lib/python3.9/site-packages/pandas/io/excel/_base.py\u001b[0m in \u001b[0;36mread_excel\u001b[0;34m(io, sheet_name, header, names, index_col, usecols, squeeze, dtype, engine, converters, true_values, false_values, skiprows, nrows, na_values, keep_default_na, na_filter, verbose, parse_dates, date_parser, thousands, decimal, comment, skipfooter, convert_float, mangle_dupe_cols, storage_options)\u001b[0m\n\u001b[1;32m    455\u001b[0m     \u001b[0;32mif\u001b[0m \u001b[0;32mnot\u001b[0m \u001b[0misinstance\u001b[0m\u001b[0;34m(\u001b[0m\u001b[0mio\u001b[0m\u001b[0;34m,\u001b[0m \u001b[0mExcelFile\u001b[0m\u001b[0;34m)\u001b[0m\u001b[0;34m:\u001b[0m\u001b[0;34m\u001b[0m\u001b[0;34m\u001b[0m\u001b[0m\n\u001b[1;32m    456\u001b[0m         \u001b[0mshould_close\u001b[0m \u001b[0;34m=\u001b[0m \u001b[0;32mTrue\u001b[0m\u001b[0;34m\u001b[0m\u001b[0;34m\u001b[0m\u001b[0m\n\u001b[0;32m--> 457\u001b[0;31m         \u001b[0mio\u001b[0m \u001b[0;34m=\u001b[0m \u001b[0mExcelFile\u001b[0m\u001b[0;34m(\u001b[0m\u001b[0mio\u001b[0m\u001b[0;34m,\u001b[0m \u001b[0mstorage_options\u001b[0m\u001b[0;34m=\u001b[0m\u001b[0mstorage_options\u001b[0m\u001b[0;34m,\u001b[0m \u001b[0mengine\u001b[0m\u001b[0;34m=\u001b[0m\u001b[0mengine\u001b[0m\u001b[0;34m)\u001b[0m\u001b[0;34m\u001b[0m\u001b[0;34m\u001b[0m\u001b[0m\n\u001b[0m\u001b[1;32m    458\u001b[0m     \u001b[0;32melif\u001b[0m \u001b[0mengine\u001b[0m \u001b[0;32mand\u001b[0m \u001b[0mengine\u001b[0m \u001b[0;34m!=\u001b[0m \u001b[0mio\u001b[0m\u001b[0;34m.\u001b[0m\u001b[0mengine\u001b[0m\u001b[0;34m:\u001b[0m\u001b[0;34m\u001b[0m\u001b[0;34m\u001b[0m\u001b[0m\n\u001b[1;32m    459\u001b[0m         raise ValueError(\n",
      "\u001b[0;32m/opt/anaconda3/lib/python3.9/site-packages/pandas/io/excel/_base.py\u001b[0m in \u001b[0;36m__init__\u001b[0;34m(self, path_or_buffer, engine, storage_options)\u001b[0m\n\u001b[1;32m   1374\u001b[0m                 \u001b[0mext\u001b[0m \u001b[0;34m=\u001b[0m \u001b[0;34m\"xls\"\u001b[0m\u001b[0;34m\u001b[0m\u001b[0;34m\u001b[0m\u001b[0m\n\u001b[1;32m   1375\u001b[0m             \u001b[0;32melse\u001b[0m\u001b[0;34m:\u001b[0m\u001b[0;34m\u001b[0m\u001b[0;34m\u001b[0m\u001b[0m\n\u001b[0;32m-> 1376\u001b[0;31m                 ext = inspect_excel_format(\n\u001b[0m\u001b[1;32m   1377\u001b[0m                     \u001b[0mcontent_or_path\u001b[0m\u001b[0;34m=\u001b[0m\u001b[0mpath_or_buffer\u001b[0m\u001b[0;34m,\u001b[0m \u001b[0mstorage_options\u001b[0m\u001b[0;34m=\u001b[0m\u001b[0mstorage_options\u001b[0m\u001b[0;34m\u001b[0m\u001b[0;34m\u001b[0m\u001b[0m\n\u001b[1;32m   1378\u001b[0m                 )\n",
      "\u001b[0;32m/opt/anaconda3/lib/python3.9/site-packages/pandas/io/excel/_base.py\u001b[0m in \u001b[0;36minspect_excel_format\u001b[0;34m(content_or_path, storage_options)\u001b[0m\n\u001b[1;32m   1248\u001b[0m         \u001b[0mcontent_or_path\u001b[0m \u001b[0;34m=\u001b[0m \u001b[0mBytesIO\u001b[0m\u001b[0;34m(\u001b[0m\u001b[0mcontent_or_path\u001b[0m\u001b[0;34m)\u001b[0m\u001b[0;34m\u001b[0m\u001b[0;34m\u001b[0m\u001b[0m\n\u001b[1;32m   1249\u001b[0m \u001b[0;34m\u001b[0m\u001b[0m\n\u001b[0;32m-> 1250\u001b[0;31m     with get_handle(\n\u001b[0m\u001b[1;32m   1251\u001b[0m         \u001b[0mcontent_or_path\u001b[0m\u001b[0;34m,\u001b[0m \u001b[0;34m\"rb\"\u001b[0m\u001b[0;34m,\u001b[0m \u001b[0mstorage_options\u001b[0m\u001b[0;34m=\u001b[0m\u001b[0mstorage_options\u001b[0m\u001b[0;34m,\u001b[0m \u001b[0mis_text\u001b[0m\u001b[0;34m=\u001b[0m\u001b[0;32mFalse\u001b[0m\u001b[0;34m\u001b[0m\u001b[0;34m\u001b[0m\u001b[0m\n\u001b[1;32m   1252\u001b[0m     ) as handle:\n",
      "\u001b[0;32m/opt/anaconda3/lib/python3.9/site-packages/pandas/io/common.py\u001b[0m in \u001b[0;36mget_handle\u001b[0;34m(path_or_buf, mode, encoding, compression, memory_map, is_text, errors, storage_options)\u001b[0m\n\u001b[1;32m    793\u001b[0m         \u001b[0;32melse\u001b[0m\u001b[0;34m:\u001b[0m\u001b[0;34m\u001b[0m\u001b[0;34m\u001b[0m\u001b[0m\n\u001b[1;32m    794\u001b[0m             \u001b[0;31m# Binary mode\u001b[0m\u001b[0;34m\u001b[0m\u001b[0;34m\u001b[0m\u001b[0m\n\u001b[0;32m--> 795\u001b[0;31m             \u001b[0mhandle\u001b[0m \u001b[0;34m=\u001b[0m \u001b[0mopen\u001b[0m\u001b[0;34m(\u001b[0m\u001b[0mhandle\u001b[0m\u001b[0;34m,\u001b[0m \u001b[0mioargs\u001b[0m\u001b[0;34m.\u001b[0m\u001b[0mmode\u001b[0m\u001b[0;34m)\u001b[0m\u001b[0;34m\u001b[0m\u001b[0;34m\u001b[0m\u001b[0m\n\u001b[0m\u001b[1;32m    796\u001b[0m         \u001b[0mhandles\u001b[0m\u001b[0;34m.\u001b[0m\u001b[0mappend\u001b[0m\u001b[0;34m(\u001b[0m\u001b[0mhandle\u001b[0m\u001b[0;34m)\u001b[0m\u001b[0;34m\u001b[0m\u001b[0;34m\u001b[0m\u001b[0m\n\u001b[1;32m    797\u001b[0m \u001b[0;34m\u001b[0m\u001b[0m\n",
      "\u001b[0;31mFileNotFoundError\u001b[0m: [Errno 2] No such file or directory: '/Users/patrickwoitschig/OneDrive/EconometricProject/EfficienciesETCPost.xlsx'"
     ]
    }
   ],
   "source": [
    "import random\n",
    "import pandas as pd\n",
    "\n",
    "# read the list of mining hardware and their efficiencies from a Excel file\n",
    "miners_df = pd.read_excel('/Users/patrickwoitschig/OneDrive/EconometricProject/EfficienciesETCPost.xlsx')\n",
    "\n",
    "# total number of miners\n",
    "num_miners = len(miners_df)\n",
    "\n",
    "# weights for each miner based on the known distribution of hardware efficiencies\n",
    "weights = []\n",
    "for efficiency in miners_df['Efficiency_J/h']:\n",
    "        weights.append(1/ num_miners)\n",
    "\n",
    "# estimate of the total hashrate of the network (in gigahashes per second)\n",
    "total_hashrate = 825506247530000*0.165\n",
    "\n",
    "# number of simulation iterations\n",
    "num_iterations = 1000\n",
    "\n",
    "# list to store the energy consumption estimates\n",
    "energy_consumption = []\n",
    "\n",
    "for i in range(num_iterations):\n",
    "    # generate a sample of mining hardware based on the weighted distribution of hardware efficiencies\n",
    "    miner = miners_df.sample(weights=weights).iloc[0]\n",
    "    # calculate the energy consumption estimate for this miner\n",
    "    energy = total_hashrate * miner['Efficiency_J/h']\n",
    "    energy_consumption.append(energy)\n",
    "\n",
    "# calculate summary statistics of energy consumption estimates\n",
    "mean_energy_low = sum(energy_consumption) / num_iterations\n",
    "median_energy_low = sorted(energy_consumption)[num_iterations // 2]\n",
    "lower_bound_low = sorted(energy_consumption)[int(num_iterations * 0.025)]\n",
    "upper_bound_low = sorted(energy_consumption)[int(num_iterations * 0.975)]\n",
    "\n",
    "# print results\n",
    "print(f\"Mean energy consumption: {mean_energy_low:.2f} J\")\n",
    "print(f\"Median energy consumption: {median_energy_low:.2f} J\")\n",
    "print(f\"95% confidence interval: ({lower_bound_low:.2f} J, {upper_bound_low:.2f} J)\")"
   ]
  },
  {
   "cell_type": "code",
   "execution_count": 64,
   "id": "a7e63e8e",
   "metadata": {},
   "outputs": [
    {
     "name": "stdout",
     "output_type": "stream",
     "text": [
      "Mean energy consumption: 1420302584.11 J\n",
      "Median energy consumption: 878092926.03 J\n",
      "95% confidence interval: (336134787.32 J, 12300996780.98 J)\n"
     ]
    }
   ],
   "source": [
    "import random\n",
    "import pandas as pd\n",
    "\n",
    "# read the list of mining hardware and their efficiencies from a Excel file\n",
    "miners_df = pd.read_excel('Group1.xlsx')\n",
    "\n",
    "# total number of miners\n",
    "num_miners = len(miners_df)\n",
    "\n",
    "# weights for each miner based on the known distribution of hardware efficiencies\n",
    "weights = []\n",
    "for efficiency in miners_df['Efficiency_Mh/J']:\n",
    "        weights.append(1/ num_miners)\n",
    "\n",
    "# estimate of the total hashrate of the network (in gigahashes per second)\n",
    "total_hashrate = 200506247530000/1000000\n",
    "\n",
    "# number of simulation iterations\n",
    "num_iterations = 10000\n",
    "\n",
    "# list to store the energy consumption estimates\n",
    "energy_consumption = []\n",
    "\n",
    "for i in range(num_iterations):\n",
    "    # generate a sample of mining hardware based on the weighted distribution of hardware efficiencies\n",
    "    miner = miners_df.sample(weights=weights).iloc[0]\n",
    "    # calculate the energy consumption estimate for this miner\n",
    "    energy = total_hashrate / miner['Efficiency_Mh/J']\n",
    "    energy_consumption.append(energy)\n",
    "\n",
    "# calculate summary statistics of energy consumption estimates\n",
    "mean_energy_high = sum(energy_consumption) / num_iterations\n",
    "median_energy_high = sorted(energy_consumption)[num_iterations // 2]\n",
    "lower_bound_high = sorted(energy_consumption)[int(num_iterations * 0.025)]\n",
    "upper_bound_high = sorted(energy_consumption)[int(num_iterations * 0.975)]\n",
    "\n",
    "# print results\n",
    "print(f\"Mean energy consumption: {mean_energy_high:.2f} J\")\n",
    "print(f\"Median energy consumption: {median_energy_high:.2f} J\")\n",
    "print(f\"95% confidence interval: ({lower_bound_high:.2f} J, {upper_bound_high:.2f} J)\")"
   ]
  },
  {
   "cell_type": "code",
   "execution_count": 65,
   "id": "fe16a6a2",
   "metadata": {},
   "outputs": [
    {
     "data": {
      "text/plain": [
       "1.420302584"
      ]
     },
     "execution_count": 65,
     "metadata": {},
     "output_type": "execute_result"
    }
   ],
   "source": [
    "1420302584/1000000000"
   ]
  },
  {
   "cell_type": "code",
   "execution_count": 66,
   "id": "63357031",
   "metadata": {},
   "outputs": [
    {
     "name": "stdout",
     "output_type": "stream",
     "text": [
      "Mean energy consumption: 1261518388.01 J\n",
      "Median energy consumption: 1151189343.54 J\n",
      "95% confidence interval: (628846153.82 J, 3744274808.02 J)\n"
     ]
    }
   ],
   "source": [
    "import random\n",
    "import pandas as pd\n",
    "\n",
    "# read the list of mining hardware and their efficiencies from a Excel file\n",
    "miners_df = pd.read_excel('Group2.xlsx')\n",
    "\n",
    "# total number of miners\n",
    "num_miners = len(miners_df)\n",
    "\n",
    "# weights for each miner based on the known distribution of hardware efficiencies\n",
    "weights = []\n",
    "for efficiency in miners_df['Efficiency_Mh/J']:\n",
    "        weights.append(1/ num_miners)\n",
    "\n",
    "# estimate of the total hashrate of the network (in gigahashes per second)\n",
    "total_hashrate = (625506247530000-80506247530000)/1000000\n",
    "\n",
    "# number of simulation iterations\n",
    "num_iterations = 10000\n",
    "\n",
    "# list to store the energy consumption estimates\n",
    "energy_consumption = []\n",
    "\n",
    "for i in range(num_iterations):\n",
    "    # generate a sample of mining hardware based on the weighted distribution of hardware efficiencies\n",
    "    miner = miners_df.sample(weights=weights).iloc[0]\n",
    "    # calculate the energy consumption estimate for this miner\n",
    "    energy = total_hashrate / miner['Efficiency_Mh/J']\n",
    "    energy_consumption.append(energy)\n",
    "\n",
    "# calculate summary statistics of energy consumption estimates\n",
    "mean_energy_high = sum(energy_consumption) / num_iterations\n",
    "median_energy_high = sorted(energy_consumption)[num_iterations // 2]\n",
    "lower_bound_high = sorted(energy_consumption)[int(num_iterations * 0.025)]\n",
    "upper_bound_high = sorted(energy_consumption)[int(num_iterations * 0.975)]\n",
    "\n",
    "# print results\n",
    "print(f\"Mean energy consumption: {mean_energy_high:.2f} J\")\n",
    "print(f\"Median energy consumption: {median_energy_high:.2f} J\")\n",
    "print(f\"95% confidence interval: ({lower_bound_high:.2f} J, {upper_bound_high:.2f} J)\")"
   ]
  },
  {
   "cell_type": "code",
   "execution_count": 67,
   "id": "9a674476",
   "metadata": {},
   "outputs": [
    {
     "data": {
      "text/plain": [
       "1.261518388"
      ]
     },
     "execution_count": 67,
     "metadata": {},
     "output_type": "execute_result"
    }
   ],
   "source": [
    "1261518388/1000000000"
   ]
  },
  {
   "cell_type": "code",
   "execution_count": 68,
   "id": "c1769da2",
   "metadata": {},
   "outputs": [
    {
     "name": "stdout",
     "output_type": "stream",
     "text": [
      "Mean energy consumption: 52979410.22 J\n",
      "Median energy consumption: 46693623.57 J\n",
      "95% confidence interval: (37156729.62 J, 77631024.41 J)\n"
     ]
    }
   ],
   "source": [
    "import random\n",
    "import pandas as pd\n",
    "\n",
    "# read the list of mining hardware and their efficiencies from a Excel file\n",
    "miners_df = pd.read_excel('Group3.xlsx')\n",
    "\n",
    "# total number of miners\n",
    "num_miners = len(miners_df)\n",
    "\n",
    "# weights for each miner based on the known distribution of hardware efficiencies\n",
    "weights = []\n",
    "for efficiency in miners_df['Efficiency_Mh/J']:\n",
    "        weights.append(1/ num_miners)\n",
    "\n",
    "# estimate of the total hashrate of the network (in gigahashes per second)\n",
    "total_hashrate = 80506247530000/1000000\n",
    "\n",
    "# number of simulation iterations\n",
    "num_iterations = 10000\n",
    "\n",
    "# list to store the energy consumption estimates\n",
    "energy_consumption = []\n",
    "\n",
    "for i in range(num_iterations):\n",
    "    # generate a sample of mining hardware based on the weighted distribution of hardware efficiencies\n",
    "    miner = miners_df.sample(weights=weights).iloc[0]\n",
    "    # calculate the energy consumption estimate for this miner\n",
    "    energy = total_hashrate / miner['Efficiency_Mh/J']\n",
    "    energy_consumption.append(energy)\n",
    "\n",
    "# calculate summary statistics of energy consumption estimates\n",
    "mean_energy_high = sum(energy_consumption) / num_iterations\n",
    "median_energy_high = sorted(energy_consumption)[num_iterations // 2]\n",
    "lower_bound_high = sorted(energy_consumption)[int(num_iterations * 0.025)]\n",
    "upper_bound_high = sorted(energy_consumption)[int(num_iterations * 0.975)]\n",
    "\n",
    "# print results\n",
    "print(f\"Mean energy consumption: {mean_energy_high:.2f} J\")\n",
    "print(f\"Median energy consumption: {median_energy_high:.2f} J\")\n",
    "print(f\"95% confidence interval: ({lower_bound_high:.2f} J, {upper_bound_high:.2f} J)\")"
   ]
  },
  {
   "cell_type": "code",
   "execution_count": 69,
   "id": "cbc99d81",
   "metadata": {},
   "outputs": [
    {
     "data": {
      "text/plain": [
       "0.05297941"
      ]
     },
     "execution_count": 69,
     "metadata": {},
     "output_type": "execute_result"
    }
   ],
   "source": [
    "52979410/1000000000"
   ]
  },
  {
   "cell_type": "code",
   "execution_count": 79,
   "id": "77d0f3e5",
   "metadata": {},
   "outputs": [
    {
     "data": {
      "text/plain": [
       "3.6493784030826233"
      ]
     },
     "execution_count": 79,
     "metadata": {},
     "output_type": "execute_result"
    }
   ],
   "source": [
    "(1.420302584+1.261518388+0.05297941)/(0.9/(1.03*1.1*1.06))"
   ]
  },
  {
   "cell_type": "code",
   "execution_count": 80,
   "id": "413bec5c",
   "metadata": {},
   "outputs": [
    {
     "data": {
      "text/plain": [
       "4.420776237614119e-15"
      ]
     },
     "execution_count": 80,
     "metadata": {},
     "output_type": "execute_result"
    }
   ],
   "source": [
    "3.6493784030826233/825506247530000"
   ]
  },
  {
   "cell_type": "code",
   "execution_count": 81,
   "id": "c3eb35a9",
   "metadata": {},
   "outputs": [
    {
     "data": {
      "text/plain": [
       "226204.6179789677"
      ]
     },
     "execution_count": 81,
     "metadata": {},
     "output_type": "execute_result"
    }
   ],
   "source": [
    "1/4.420776237614119e-06"
   ]
  },
  {
   "cell_type": "code",
   "execution_count": 82,
   "id": "e762c6dc",
   "metadata": {},
   "outputs": [
    {
     "data": {
      "text/plain": [
       "0.2262046179789677"
      ]
     },
     "execution_count": 82,
     "metadata": {},
     "output_type": "execute_result"
    }
   ],
   "source": [
    "226204.6179789677/1000000"
   ]
  },
  {
   "cell_type": "code",
   "execution_count": null,
   "id": "5e5211d7",
   "metadata": {},
   "outputs": [],
   "source": [
    "(mean_energy_high+ mean_energy_low)/1000000000\n",
    "(lower_bound_low+lower_bound_high)/1000000000\n",
    "(upper_bound_low+upper_bound_high)/1000000000"
   ]
  },
  {
   "cell_type": "code",
   "execution_count": null,
   "id": "fbfaca94",
   "metadata": {},
   "outputs": [],
   "source": [
    "(lower_bound_low+lower_bound_high)/1000000000"
   ]
  },
  {
   "cell_type": "code",
   "execution_count": null,
   "id": "f62d6440",
   "metadata": {},
   "outputs": [],
   "source": [
    "(upper_bound_low+upper_bound_high)/1000000000"
   ]
  },
  {
   "cell_type": "code",
   "execution_count": null,
   "id": "abd03d17",
   "metadata": {},
   "outputs": [],
   "source": [
    "import pandas as pd\n",
    "df = pd.read_excel('Ethereum_More_Data.xlsx', index_col=0) \n",
    "df.index = pd.to_datetime(df.index)\n",
    "df"
   ]
  },
  {
   "cell_type": "code",
   "execution_count": null,
   "id": "a7c80a05",
   "metadata": {},
   "outputs": [],
   "source": [
    "#loading the data from an excel file\n",
    "df = pd.read_excel('/Users/patrickwoitschig/Documents/Coin_Metrics_Network_Data_2023-03-12T16-04.xlsx', index_col=0) \n",
    "df.index = pd.to_datetime(df.index)\n",
    "df"
   ]
  },
  {
   "cell_type": "code",
   "execution_count": null,
   "id": "5756b8bc",
   "metadata": {},
   "outputs": [],
   "source": [
    "df.dropna()"
   ]
  },
  {
   "cell_type": "code",
   "execution_count": null,
   "id": "68117d3a",
   "metadata": {},
   "outputs": [],
   "source": [
    "#df = df.resample('W').mean()"
   ]
  },
  {
   "cell_type": "code",
   "execution_count": null,
   "id": "edb52cda",
   "metadata": {},
   "outputs": [],
   "source": [
    "import numpy as np\n",
    "df['ETH / USD Denominated Closing Price'] = np.log(df['ETH / USD Denominated Closing Price']).diff()\n",
    "df['ETH / Mean Hash Rate'] = np.log(df['ETH / Mean Hash Rate']).diff()\n",
    "df['ETH / Mean Tx Size (native units)'] = np.log(df['ETH / Mean Tx Size (native units)']).diff()\n",
    "df['ETH / Active Addr Cnt'] = np.log(df['ETH / Active Addr Cnt']).diff()\n",
    "df['ETH / Tx per Second Cnt'] = np.log(df['ETH / Tx per Second Cnt']).diff()\n",
    "df['ETH / Mean Block Size (in bytes)'] = np.log(df['ETH / Mean Block Size (in bytes)']).diff()"
   ]
  },
  {
   "cell_type": "code",
   "execution_count": null,
   "id": "4996738d",
   "metadata": {},
   "outputs": [],
   "source": [
    "df = df.loc[df.index > '2017-12-31']"
   ]
  },
  {
   "cell_type": "code",
   "execution_count": null,
   "id": "ed9c7a47",
   "metadata": {},
   "outputs": [],
   "source": [
    "df = df.loc[df.index < '2021-11-01']"
   ]
  },
  {
   "cell_type": "code",
   "execution_count": null,
   "id": "6f3395f1",
   "metadata": {},
   "outputs": [],
   "source": [
    "import pandas as pd\n",
    "import statsmodels.api as sm\n",
    "\n",
    "# select a subset of the columns\n",
    "cols = ['ETH / Mean Hash Rate','ETH / USD Denominated Closing Price']\n",
    "data_subset = df[cols]\n",
    "\n",
    "# create a VAR model with two lags\n",
    "model = sm.tsa.VAR(data_subset)\n",
    "results = model.fit(14)\n",
    "\n",
    "results.summary()"
   ]
  },
  {
   "cell_type": "code",
   "execution_count": null,
   "id": "89aba6be",
   "metadata": {},
   "outputs": [],
   "source": [
    "import numpy as np\n",
    "from scipy.optimize import minimize\n",
    "\n",
    "# Define the hash rates for each type of hardware\n",
    "hash_rates = np.array([30, 50, 70, 90, 110]) # TH/s\n",
    "\n",
    "# Define the total hash rate\n",
    "total_hash_rate = 100000000 # TH/s\n",
    "\n",
    "# Define the negative log-likelihood function\n",
    "def neg_log_likelihood(n, hash_rates, total_hash_rate):\n",
    "    # Calculate the total hash rate based on the numbers of each type of hardware\n",
    "    calculated_hash_rate = np.sum(n * hash_rates)\n",
    "    \n",
    "    # Calculate the negative log-likelihood\n",
    "    neg_ll = -np.log(calculated_hash_rate)\n",
    "    \n",
    "    return neg_ll\n",
    "\n",
    "# Initial guess for the numbers of each type of hardware\n",
    "n0 = np.ones_like(hash_rates) * (total_hash_rate / np.sum(hash_rates))\n",
    "\n",
    "# Constraints: the numbers of hardware must be non-negative and sum up to the total hash rate\n",
    "constraints = (\n",
    "    {'type': 'eq', 'fun': lambda n: np.sum(n * hash_rates) - total_hash_rate},\n",
    "    {'type': 'ineq', 'fun': lambda n: n}\n",
    ")\n",
    "\n",
    "# Minimize the negative log-likelihood function\n",
    "res = minimize(neg_log_likelihood, n0, args=(hash_rates, total_hash_rate), constraints=constraints)\n",
    "\n",
    "# Print the estimated numbers of each type of hardware\n",
    "print(res.x)"
   ]
  },
  {
   "cell_type": "code",
   "execution_count": 136,
   "id": "5198d1a4",
   "metadata": {},
   "outputs": [
    {
     "name": "stdout",
     "output_type": "stream",
     "text": [
      "[53838.41382963 53838.41382963 53838.41382963 53838.41382963\n",
      " 53838.41382963 53838.41382963 53838.41382963 53838.41382963\n",
      " 53838.41382963 53838.41382963 53838.41382963 53838.41382963\n",
      " 53838.41382963 53838.41382963 53838.41382963 53838.41382963\n",
      " 53838.41382963 53838.41382963 53838.41382963 53838.41382963\n",
      " 53838.41382963 53838.41382963 53838.41382963 53838.41382963\n",
      " 53838.41382963 53838.41382963 53838.41382963 53838.41382963\n",
      " 53838.41382963 53838.41382963 53838.41382963 53838.41382963\n",
      " 53838.41382963 53838.41382963 53838.41382963 53838.41382963\n",
      " 53838.41382963 53838.41382963 53838.41382963 53838.41382963\n",
      " 53838.41382963 53838.41382963 53838.41382963 53838.41382963\n",
      " 53838.41382963 53838.41382963 53838.41382963 53838.41382963\n",
      " 53838.41382963 53838.41382963 53838.41382963 53838.41382963\n",
      " 53838.41382963 53838.41382963 53838.41382963 53838.41382963\n",
      " 53838.41382963 53838.41382963 53838.41382963 53838.41382963\n",
      " 53838.41382963 53838.41382963 53838.41382963 53838.41382963\n",
      " 53838.41382963 53838.41382963 53838.41382963 53838.41382963\n",
      " 53838.41382963 53838.41382963 53838.41382963 53838.41382963\n",
      " 53838.41382963 53838.41382963 53838.41382963 53838.41382963\n",
      " 53838.41382963 53838.41382963 53838.41382963 53838.41382963\n",
      " 53838.41382963 53838.41382963 53838.41382963 53838.41382963\n",
      " 53838.41382963 53838.41382963 53838.41382963 53838.41382963\n",
      " 53838.41382963 53838.41382963]\n"
     ]
    }
   ],
   "source": [
    "import numpy as np\n",
    "from scipy.optimize import minimize\n",
    "\n",
    "import pandas as pd\n",
    "\n",
    "# Load the efficiencies from an Excel file\n",
    "df = pd.read_excel('EthereumHardwareGPU.xlsx')\n",
    "\n",
    "# Assuming the efficiencies are in a column named 'efficiency',\n",
    "# convert the efficiencies to a numpy array\n",
    "efficiencies = df['Efficiency_Mh/J'].values\n",
    "\n",
    "hash_rates = df['Hashing power (Mh/s)'].values\n",
    "\n",
    "# Define the total hash rate\n",
    "total_hash_rate = 225000000\n",
    "\n",
    "# Define the efficiency thresholds\n",
    "efficiency_threshold_etc = 1.0 # Efficiency threshold for Ethereum Classic\n",
    "efficiency_threshold_profitability = 0.30 # Profitability threshold\n",
    "\n",
    "# Define the percentage of the hash rate that comes from hardware with an efficiency equal to or better than the Ethereum Classic threshold\n",
    "percentage_etc = 0 # Example value\n",
    "\n",
    "# Define the negative log-likelihood function\n",
    "def neg_log_likelihood(n, hash_rates, total_hash_rate):\n",
    "    # Calculate the total hash rate based on the numbers of each type of hardware\n",
    "    calculated_hash_rate = np.sum(n * hash_rates)\n",
    "    \n",
    "    # Calculate the negative log-likelihood\n",
    "    neg_ll = -np.log(calculated_hash_rate)\n",
    "    \n",
    "    return neg_ll\n",
    "\n",
    "# Initial guess for the numbers of each type of hardware\n",
    "n0 = np.ones_like(hash_rates) * (total_hash_rate / np.sum(hash_rates))\n",
    "\n",
    "# Constraints: \n",
    "# - the numbers of hardware must be non-negative \n",
    "# - the total hash rate must be equal to the observed hash rate\n",
    "# - the hash rate from hardware with an efficiency equal to or better than the Ethereum Classic threshold must be equal to the specified percentage\n",
    "# - the rest of the hash rate must come from hardware with an efficiency at least as good as the profitability threshold\n",
    "constraints = (\n",
    "    {'type': 'eq', 'fun': lambda n: np.sum(n * hash_rates) - total_hash_rate},\n",
    "    {'type': 'eq', 'fun': lambda n: np.sum(n[efficiencies >= efficiency_threshold_etc] * hash_rates[efficiencies >= efficiency_threshold_etc]) - percentage_etc * total_hash_rate},\n",
    "    {'type': 'ineq', 'fun': lambda n: np.sum(n[efficiencies < efficiency_threshold_etc] * hash_rates[efficiencies < efficiency_threshold_etc]) - (1 - percentage_etc) * total_hash_rate},\n",
    "    {'type': 'ineq', 'fun': lambda n: n}\n",
    ")\n",
    "\n",
    "# Minimize the negative log-likelihood function\n",
    "res = minimize(neg_log_likelihood, n0, args=(hash_rates, total_hash_rate), constraints=constraints)\n",
    "\n",
    "# Print the estimated numbers of each type of hardware\n",
    "print(res.x)"
   ]
  },
  {
   "cell_type": "code",
   "execution_count": 137,
   "id": "8a29b330",
   "metadata": {},
   "outputs": [
    {
     "name": "stdout",
     "output_type": "stream",
     "text": [
      "692846547.5671997\n"
     ]
    }
   ],
   "source": [
    "# Calculate the energy consumption of each type of hardware (in joules per second, or watts)\n",
    "energy_consumptions = res.x * hash_rates / efficiencies\n",
    "\n",
    "# Calculate the total energy consumption of the network (in watts)\n",
    "total_energy_consumption = np.sum(energy_consumptions)\n",
    "\n",
    "# Print the total energy consumption\n",
    "print(total_energy_consumption)"
   ]
  },
  {
   "cell_type": "code",
   "execution_count": 138,
   "id": "6ffe541e",
   "metadata": {},
   "outputs": [
    {
     "data": {
      "text/plain": [
       "224999999.99999997"
      ]
     },
     "execution_count": 138,
     "metadata": {},
     "output_type": "execute_result"
    }
   ],
   "source": [
    "total = res.x * hash_rates\n",
    "total = np.sum(total)\n",
    "total"
   ]
  },
  {
   "cell_type": "code",
   "execution_count": null,
   "id": "fabc0f64",
   "metadata": {},
   "outputs": [],
   "source": [
    "692846547/1000000000"
   ]
  },
  {
   "cell_type": "code",
   "execution_count": null,
   "id": "288df9e9",
   "metadata": {},
   "outputs": [],
   "source": [
    "26666666666/1000000000"
   ]
  },
  {
   "cell_type": "code",
   "execution_count": null,
   "id": "62dd2d9c",
   "metadata": {},
   "outputs": [],
   "source": [
    "800000000/0.07"
   ]
  },
  {
   "cell_type": "code",
   "execution_count": null,
   "id": "f5bde20d",
   "metadata": {},
   "outputs": [],
   "source": [
    "11428571428/1000000000"
   ]
  },
  {
   "cell_type": "code",
   "execution_count": null,
   "id": "c03b60fb",
   "metadata": {},
   "outputs": [],
   "source": [
    "825000000/0.06"
   ]
  },
  {
   "cell_type": "code",
   "execution_count": null,
   "id": "8d94baf0",
   "metadata": {},
   "outputs": [],
   "source": [
    "13750000000/1000000000"
   ]
  },
  {
   "cell_type": "code",
   "execution_count": null,
   "id": "6c36de6f",
   "metadata": {},
   "outputs": [],
   "source": [
    "520000000/0.45+225000000/0.27+800000000/1.35"
   ]
  },
  {
   "cell_type": "code",
   "execution_count": null,
   "id": "692d8937",
   "metadata": {},
   "outputs": [],
   "source": [
    "2581481481/1000000000*(1.1*1.06*1.03/0.9)"
   ]
  },
  {
   "cell_type": "code",
   "execution_count": null,
   "id": "adeb5d19",
   "metadata": {},
   "outputs": [],
   "source": [
    "225000000/0.27"
   ]
  },
  {
   "cell_type": "code",
   "execution_count": null,
   "id": "b9e77388",
   "metadata": {},
   "outputs": [],
   "source": [
    "833333333/1000000000"
   ]
  },
  {
   "cell_type": "code",
   "execution_count": null,
   "id": "ee05624e",
   "metadata": {},
   "outputs": [],
   "source": []
  }
 ],
 "metadata": {
  "kernelspec": {
   "display_name": "Python 3 (ipykernel)",
   "language": "python",
   "name": "python3"
  },
  "language_info": {
   "codemirror_mode": {
    "name": "ipython",
    "version": 3
   },
   "file_extension": ".py",
   "mimetype": "text/x-python",
   "name": "python",
   "nbconvert_exporter": "python",
   "pygments_lexer": "ipython3",
   "version": "3.9.13"
  }
 },
 "nbformat": 4,
 "nbformat_minor": 5
}
